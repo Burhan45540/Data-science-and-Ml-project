{
 "cells": [
  {
   "cell_type": "markdown",
   "metadata": {},
   "source": [
    "# Lesson 1.2: Python Basics\n",
    "## Topics Covered:\n",
    "- Syntax and Semantics\n",
    "- Variables and Data Types\n",
    "- Basic Operators (Arithmetic, Comparison, Logical)\n"
   ]
  },
  {
   "cell_type": "markdown",
   "metadata": {},
   "source": [
    "## 1. Syntax and Semantics\n",
    "\n",
    "**Question 1:** Write a Python program to print \"Hello, World!\"."
   ]
  },
  {
   "cell_type": "code",
   "execution_count": 1,
   "metadata": {},
   "outputs": [
    {
     "name": "stdout",
     "output_type": "stream",
     "text": [
      "Hello, World!\n"
     ]
    }
   ],
   "source": [
    "# Your code here\n",
    "print(\"Hello, World!\")"
   ]
  },
  {
   "cell_type": "markdown",
   "metadata": {},
   "source": [
    "**Question 2:** Write a Python program that takes a user input and prints it."
   ]
  },
  {
   "cell_type": "code",
   "execution_count": 1,
   "metadata": {},
   "outputs": [
    {
     "name": "stdout",
     "output_type": "stream",
     "text": [
      "your input number is : 84.0\n"
     ]
    }
   ],
   "source": [
    "# Your code here\n",
    "age = float(input(\"enter a number:\"))\n",
    "print(\"your input number is :\",age)"
   ]
  },
  {
   "cell_type": "markdown",
   "metadata": {},
   "source": [
    "**Question 3:** Write a Python program to check if a number is positive, negative, or zero."
   ]
  },
  {
   "cell_type": "code",
   "execution_count": 1,
   "metadata": {},
   "outputs": [
    {
     "name": "stdout",
     "output_type": "stream",
     "text": [
      "78.0  is a positive number\n"
     ]
    }
   ],
   "source": [
    "# Your code here\n",
    "\n",
    "num=float(input(\"enter a number:\"))\n",
    "if num>0:\n",
    "  print(num,\" is a positive number\")\n",
    "elif num<0:\n",
    "  print(num,\" is a positive number\")\n",
    "else:\n",
    "  print(num,\" is a neutral number\")"
   ]
  },
  {
   "cell_type": "markdown",
   "metadata": {},
   "source": [
    "**Question 4:** Write a Python program to find the largest of three numbers."
   ]
  },
  {
   "cell_type": "code",
   "execution_count": 2,
   "metadata": {},
   "outputs": [
    {
     "name": "stdout",
     "output_type": "stream",
     "text": [
      "1st number: 67.0\n",
      "2nd number: 76.0\n",
      "3rd number: 89.0\n",
      "89.0 is the greatest number from input value\n"
     ]
    }
   ],
   "source": [
    "# Your code here\n",
    "num1=float(input(\"enter a  1stnumber:\"))\n",
    "num2=float(input(\"enter a 2nd number:\"))\n",
    "num3=float(input(\"enter a 3rd number:\"))\n",
    "\n",
    "print(\"1st number:\",num1)\n",
    "print(\"2nd number:\",num2)\n",
    "print(\"3rd number:\",num3)\n",
    "\n",
    "if num1>num2 and num1>num3:\n",
    "  print(num1,\"is the greatest number from input value\")\n",
    "elif num2>num1 and num2>num3:\n",
    "  print(num2,\"is the greatest number from input value\")\n",
    "else:\n",
    "  print(num3,\"is the greatest number from input value\")"
   ]
  },
  {
   "cell_type": "markdown",
   "metadata": {},
   "source": [
    "**Question 5:** Write a Python program to calculate the factorial of a number."
   ]
  },
  {
   "cell_type": "code",
   "execution_count": 9,
   "metadata": {},
   "outputs": [
    {
     "name": "stdout",
     "output_type": "stream",
     "text": [
      "Factorial value of  6 is 720\n"
     ]
    }
   ],
   "source": [
    "# Your code here\n",
    "num=int(input(\"enter a number:\"))\n",
    "\n",
    "if num<0:\n",
    "  print(\"FACTORIAL OF\",num, \"is not possible\")\n",
    "elif num==0:\n",
    "  print(\"FACTORIAL OF\",num,\"is 1\")\n",
    "else:\n",
    "  fact=1\n",
    "  i=1\n",
    "  while i<=num:\n",
    "    fact=fact*i\n",
    "    i=i+1\n",
    "  print(\"Factorial value of \",num,\"is\",fact)"
   ]
  },
  {
   "cell_type": "markdown",
   "metadata": {},
   "source": [
    "## 2. Variables and Data Types\n",
    "\n",
    "**Question 6:** Create variables of different data types: integer, float, string, and boolean. Print their values and types."
   ]
  },
  {
   "cell_type": "code",
   "execution_count": 11,
   "metadata": {},
   "outputs": [
    {
     "name": "stdout",
     "output_type": "stream",
     "text": [
      "21 <class 'int'>\n",
      "69.8 <class 'float'>\n",
      "burhan <class 'str'>\n",
      "True <class 'bool'>\n",
      "False <class 'bool'>\n"
     ]
    }
   ],
   "source": [
    "# Your code here\n",
    "\n",
    "age=21\n",
    "marks=69.8\n",
    "name=\"burhan\"\n",
    "is_true=True\n",
    "is_false=bool()  #default alue of boolean is false\n",
    "\n",
    "print(age,type(age))\n",
    "print(marks,type(marks))\n",
    "print(name,type(name))\n",
    "print(is_true,type(is_true))\n",
    "print(is_false,type(is_false))\n",
    "\n"
   ]
  },
  {
   "cell_type": "markdown",
   "metadata": {},
   "source": [
    "**Question 7:** Write a Python program to swap the values of two variables."
   ]
  },
  {
   "cell_type": "code",
   "execution_count": 13,
   "metadata": {},
   "outputs": [
    {
     "name": "stdout",
     "output_type": "stream",
     "text": [
      "BEFORE SWAPPING OF NUMBER, VALUE WILL BE :\n",
      "MARKS OF 1ST SUBJECT IS: 78.0\n",
      "MARKS OF 2nd SUBJECT IS: 29.0\n",
      "AFTER SWAPPING OF NUMBER, VALUE WILL BE :\n",
      "MARKS OF 1ST SUBJECT IS: 29.0\n",
      "MARKS OF 2nd SUBJECT IS: 78.0\n"
     ]
    }
   ],
   "source": [
    "# Your code here\n",
    "marks1=float(input(\"enter a marks of 1st subject:\"))\n",
    "marks2=float(input(\"enter a marks of 2nd subject:\"))\n",
    "\n",
    "print(\"BEFORE SWAPPING OF NUMBER, VALUE WILL BE :\")\n",
    "print(\"MARKS OF 1ST SUBJECT IS:\",marks1)\n",
    "print(\"MARKS OF 2nd SUBJECT IS:\",marks2)\n",
    "\n",
    "temp=marks1\n",
    "marks1=marks2\n",
    "marks2=temp\n",
    "\n",
    "print(\"AFTER SWAPPING OF NUMBER, VALUE WILL BE :\")\n",
    "print(\"MARKS OF 1ST SUBJECT IS:\",marks1)\n",
    "print(\"MARKS OF 2nd SUBJECT IS:\",marks2)\n"
   ]
  },
  {
   "cell_type": "markdown",
   "metadata": {},
   "source": [
    "**Question 8:** Write a Python program to convert Celsius to Fahrenheit."
   ]
  },
  {
   "cell_type": "code",
   "execution_count": 15,
   "metadata": {},
   "outputs": [
    {
     "name": "stdout",
     "output_type": "stream",
     "text": [
      "temp in celsius: 83.0\n",
      "temp in fahrenhit: 181.4\n"
     ]
    }
   ],
   "source": [
    "# Your code here\n",
    "#°F = (°C × 9/5) + 32\n",
    "\n",
    "celsius=float(input(\"enter a temperature in celsuis:\"))\n",
    "print(\"temp in celsius:\",celsius)\n",
    "fahrenhit= (celsius * (9/5))+32\n",
    "print(\"temp in fahrenhit:\",fahrenhit)\n"
   ]
  },
  {
   "cell_type": "markdown",
   "metadata": {},
   "source": [
    "**Question 9:** Write a Python program to concatenate two strings."
   ]
  },
  {
   "cell_type": "code",
   "execution_count": 20,
   "metadata": {},
   "outputs": [
    {
     "name": "stdout",
     "output_type": "stream",
     "text": [
      "concatenation of two strings is: burhan jalal\n"
     ]
    }
   ],
   "source": [
    "# Your code here\n",
    "str1=\"burhan\"\n",
    "str2=\"jalal\"\n",
    "print(\"concatenation of two strings is:\",str1 +\" \" +str2)"
   ]
  },
  {
   "cell_type": "markdown",
   "metadata": {},
   "source": [
    "\n",
    "isinstance() is a built-in function used to check whether a variable belongs to a specific data type (class)."
   ]
  },
  {
   "cell_type": "markdown",
   "metadata": {},
   "source": [
    "**Question 10:** Write a Python program to check if a variable is of a specific data type."
   ]
  },
  {
   "cell_type": "code",
   "execution_count": 27,
   "metadata": {},
   "outputs": [
    {
     "name": "stdout",
     "output_type": "stream",
     "text": [
      "[67, 98] is other data type\n"
     ]
    }
   ],
   "source": [
    "# Your code here\n",
    "\n",
    "var=[67,98]\n",
    "if isinstance(var,int):\n",
    "  print(var,\"is an integer\")\n",
    "elif isinstance(var,float):\n",
    "  print(var,\"is an float\")\n",
    "elif isinstance(var,str):\n",
    "  print(var,\"is an string\")\n",
    "else:\n",
    "  print(var,\"is other data type\")\n",
    "  "
   ]
  },
  {
   "cell_type": "markdown",
   "metadata": {},
   "source": [
    "## 3. Basic Operators (Arithmetic, Comparison, Logical)\n",
    "\n",
    "**Question 11:** Write a Python program to perform arithmetic operations: addition, subtraction, multiplication, and division."
   ]
  },
  {
   "cell_type": "code",
   "execution_count": null,
   "metadata": {},
   "outputs": [
    {
     "name": "stdout",
     "output_type": "stream",
     "text": [
      "Addition: 15\n",
      "Subtraction: 5\n",
      "Multiplication: 50\n",
      "Division: 2.0\n"
     ]
    }
   ],
   "source": [
    "# Your code here\n",
    "# Addition\n",
    "a = 10\n",
    "b = 5\n",
    "add = a + b\n",
    "print(\"Addition:\", add)\n",
    "\n",
    "# Subtraction\n",
    "sub = a - b\n",
    "print(\"Subtraction:\", sub)  \n",
    "\n",
    "# Multiplication\n",
    "mult = a * b\n",
    "print(\"Multiplication:\", mult) \n",
    "\n",
    "# Division\n",
    "div = a / b\n",
    "print(\"Division:\", div) \n"
   ]
  },
  {
   "cell_type": "markdown",
   "metadata": {},
   "source": [
    "**Question 12:** Write a Python program to demonstrate comparison operators: equal to, not equal to, greater than, less than."
   ]
  },
  {
   "cell_type": "code",
   "execution_count": 29,
   "metadata": {},
   "outputs": [
    {
     "name": "stdout",
     "output_type": "stream",
     "text": [
      "False\n",
      "True\n",
      "True\n",
      "False\n",
      "True\n",
      "False\n"
     ]
    }
   ],
   "source": [
    "# Your code here\n",
    "a = 10\n",
    "b = 5\n",
    "\n",
    "print(a == b)   # False\n",
    "print(a != b)   # True\n",
    "print(a > b)    # True\n",
    "print(a < b)    # False\n",
    "print(a >= b)   # True\n",
    "print(a <= b)   # False\n"
   ]
  },
  {
   "cell_type": "markdown",
   "metadata": {},
   "source": [
    "**Question 13:** Write a Python program to demonstrate logical operators: and, or, not."
   ]
  },
  {
   "cell_type": "code",
   "execution_count": 33,
   "metadata": {},
   "outputs": [
    {
     "name": "stdout",
     "output_type": "stream",
     "text": [
      "False\n",
      "True\n",
      "False\n"
     ]
    }
   ],
   "source": [
    "# Your code here\n",
    "a=45\n",
    "b=71\n",
    "result = a>60 and b<73\n",
    "print(result)\n",
    "result2 = a>60 or b<73\n",
    "print(result2)\n",
    "result3 = not a\n",
    "print(result3)\n",
    "\n"
   ]
  },
  {
   "cell_type": "markdown",
   "metadata": {},
   "source": [
    "**Question 14:** Write a Python program to calculate the square of a number."
   ]
  },
  {
   "cell_type": "code",
   "execution_count": 30,
   "metadata": {},
   "outputs": [
    {
     "name": "stdout",
     "output_type": "stream",
     "text": [
      "4225\n"
     ]
    }
   ],
   "source": [
    "# Your code here\n",
    "a=65\n",
    "b=2\n",
    "c=a**b\n",
    "print(c)"
   ]
  },
  {
   "cell_type": "markdown",
   "metadata": {},
   "source": [
    "**Question 15:** Write a Python program to check if a number is even or odd."
   ]
  },
  {
   "cell_type": "code",
   "execution_count": 3,
   "metadata": {},
   "outputs": [
    {
     "name": "stdout",
     "output_type": "stream",
     "text": [
      "your input number -736 is even\n"
     ]
    }
   ],
   "source": [
    "\n",
    "# Your code here\n",
    "num4=int(input(\"enter a number:\"))\n",
    "if num4%2==0:\n",
    "  print(\"your input number\", num4, \"is even\")\n",
    "else:\n",
    "  print(\"your input number\", num4, \"is odd\")"
   ]
  },
  {
   "cell_type": "markdown",
   "metadata": {},
   "source": [
    "**Question 16:** Write a Python program to find the sum of the first n natural numbers."
   ]
  },
  {
   "cell_type": "code",
   "execution_count": 53,
   "metadata": {},
   "outputs": [
    {
     "name": "stdout",
     "output_type": "stream",
     "text": [
      "sum of first n natural number is: 21\n"
     ]
    }
   ],
   "source": [
    "# Your code here\n",
    "# num5=int(input(\"enter a number:\"))\n",
    "# i=1\n",
    "# sum=0\n",
    "# while i<=num5:\n",
    "#   sum=sum+i\n",
    "#   i=i+1\n",
    "# print(\"sum of first n natural number is:\",sum)\n",
    "\n",
    "num6=int(input(\"enter a number:\"))\n",
    "sum2=(num6*(num6+1))//2\n",
    "print(\"sum of first n natural number is:\",sum2)\n"
   ]
  },
  {
   "cell_type": "markdown",
   "metadata": {},
   "source": [
    "**Question 17:** Write a Python program to check if a year is a leap year."
   ]
  },
  {
   "cell_type": "code",
   "execution_count": 16,
   "metadata": {},
   "outputs": [
    {
     "name": "stdout",
     "output_type": "stream",
     "text": [
      "1998 is not a leap year.\n"
     ]
    }
   ],
   "source": [
    "# Your code here\n",
    "\n",
    "year = int(input(\"Enter a year: \"))\n",
    "\n",
    "if (year % 4 == 0 or year % 400 == 0) and ( year % 100 != 0):\n",
    "    print(year, \"is a leap year.\")\n",
    "else:\n",
    "    print(year, \"is not a leap year.\")\n"
   ]
  },
  {
   "cell_type": "markdown",
   "metadata": {},
   "source": [
    "**Question 18:** Write a Python program to reverse a string."
   ]
  },
  {
   "cell_type": "code",
   "execution_count": 42,
   "metadata": {},
   "outputs": [
    {
     "name": "stdout",
     "output_type": "stream",
     "text": [
      "reversed: lalaj nahrub\n"
     ]
    }
   ],
   "source": [
    "# Your code here\n",
    "string1=input(\"enter a name:\")\n",
    "# real_string= string1[0:len(string1)]\n",
    "# print(\"actual :\",real_string)\n",
    "\n",
    "reversed_string=string1[-1::-1]  #start include:end exculde:step backward(compulsary for reverse a string)\n",
    "print(\"reversed:\",reversed_string)\n",
    "\n",
    "\n",
    "#another method\n",
    "# for i in range(0,len(string1)):\n",
    "#   print(\"ACTUAL:\",string1[i])\n",
    "# for i in range(len(string1)-1,-1,-1):\n",
    "#   print(\"REVERSED:\",string1[i])\n"
   ]
  },
  {
   "cell_type": "markdown",
   "metadata": {},
   "source": [
    "A palindrome is a word, number, or phrase that reads the same forward and backward (ignoring spaces, punctuation, and capitalization in some cases).\n",
    "\n",
    "✅ Examples of Palindromes\n",
    "\"madam\"\n",
    "\n",
    "\"121\"\n",
    "\n",
    "\"racecar\"\n",
    "\n",
    "\"noon\""
   ]
  },
  {
   "cell_type": "markdown",
   "metadata": {},
   "source": [
    "**Question 19:** Write a Python program to check if a string is a palindrome."
   ]
  },
  {
   "cell_type": "code",
   "execution_count": 44,
   "metadata": {},
   "outputs": [
    {
     "name": "stdout",
     "output_type": "stream",
     "text": [
      "reversed: lalaj nahrub\n",
      "it is not a palindrome\n"
     ]
    }
   ],
   "source": [
    "# Your code here\n",
    "value1=input(\"enter a value:\")\n",
    "reversed_string=value1[-1::-1]\n",
    "print(\"reversed:\",reversed_string)\n",
    "if value1==reversed_string:\n",
    "\n",
    "  print(\"it is a palindrome\")\n",
    "else:\n",
    "  print(\"it is not a palindrome\")"
   ]
  },
  {
   "cell_type": "markdown",
   "metadata": {},
   "source": [
    "**Question 20:** Write a Python program to sort a list of numbers in ascending order."
   ]
  },
  {
   "cell_type": "code",
   "execution_count": 1,
   "metadata": {},
   "outputs": [
    {
     "name": "stdout",
     "output_type": "stream",
     "text": [
      "original list: [72, 34, 6, 4, 4, 3, 36666, 6544, 3221]\n",
      "Ascending order: [3, 4, 4, 6, 34, 72, 3221, 6544, 36666]\n",
      "Descending order: [36666, 6544, 3221, 72, 34, 6, 4, 4, 3]\n"
     ]
    }
   ],
   "source": [
    "list1 = eval(input(\"Enter a list: \"))\n",
    "list1 = list(list1)                               #list1 = tuple(list1) \n",
    "asc_order = sorted(list1)             \n",
    "desc_order = sorted(list1, reverse=True)\n",
    "print(\"original list:\",list1)\n",
    "print(\"Ascending order:\", asc_order)\n",
    "print(\"Descending order:\", desc_order)\n"
   ]
  }
 ],
 "metadata": {
  "kernelspec": {
   "display_name": ".venv",
   "language": "python",
   "name": "python3"
  },
  "language_info": {
   "codemirror_mode": {
    "name": "ipython",
    "version": 3
   },
   "file_extension": ".py",
   "mimetype": "text/x-python",
   "name": "python",
   "nbconvert_exporter": "python",
   "pygments_lexer": "ipython3",
   "version": "3.11.9"
  }
 },
 "nbformat": 4,
 "nbformat_minor": 4
}

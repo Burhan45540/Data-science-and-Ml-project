{
 "cells": [
  {
   "cell_type": "markdown",
   "metadata": {},
   "source": [
    "# Module 2: Control Flow Assignments\n",
    "## Lesson 2.1: Conditional Statements\n",
    "### Assignment 1: Simple if Statement\n",
    "\n",
    "Write a program that asks the user to input a number and prints whether the number is positive."
   ]
  },
  {
   "cell_type": "code",
   "execution_count": 2,
   "metadata": {},
   "outputs": [],
   "source": [
    "num = int (input( \"enter a number :\"))\n",
    "if num>0:\n",
    "  print(f\"{num} is a positive number\")\n",
    "\n",
    "\n",
    "\n",
    "\n",
    "\n",
    "\n",
    "\n",
    "\n",
    "# number = float(input(\"Enter a number: \"))\n",
    "# if number > 0:\n",
    "#     print(\"The number is positive.\")"
   ]
  },
  {
   "cell_type": "markdown",
   "metadata": {},
   "source": [
    "### Assignment 2: if-else Statement\n",
    "\n",
    "Write a program that asks the user to input a number and prints whether the number is positive or negative."
   ]
  },
  {
   "cell_type": "code",
   "execution_count": 5,
   "metadata": {},
   "outputs": [
    {
     "name": "stdout",
     "output_type": "stream",
     "text": [
      "78.0 is a positive number\n"
     ]
    }
   ],
   "source": [
    "num1 = float (input( \"enter a number :\"))\n",
    "if num1>0:\n",
    "  print(f\"{num1} is a positive number\")\n",
    "else:\n",
    "    print(f\"{num1} is a negative number\")\n",
    "  \n",
    "\n",
    "\n",
    "\n",
    "\n",
    "\n",
    "\n",
    "\n",
    "\n",
    "# number = float(input(\"Enter a number: \"))\n",
    "# if number > 0:\n",
    "#     print(\"The number is positive.\")\n",
    "# else:\n",
    "#     print(\"The number is negative.\")"
   ]
  },
  {
   "cell_type": "markdown",
   "metadata": {},
   "source": [
    "### Assignment 3: if-elif-else Statement\n",
    "\n",
    "Write a program that asks the user to input a number and prints whether the number is positive, negative, or zero."
   ]
  },
  {
   "cell_type": "code",
   "execution_count": 7,
   "metadata": {},
   "outputs": [
    {
     "name": "stdout",
     "output_type": "stream",
     "text": [
      "9.0 is a positive number\n"
     ]
    }
   ],
   "source": [
    "val=float(input(\"enter a number:\"))\n",
    "if val>0:\n",
    "  print(f\"{val} is a positive number\")\n",
    "elif val==0:\n",
    "   print(f\"{val} is a neutral number\")\n",
    "   \n",
    "else:\n",
    "    print(f\"{val} is a negative number\")\n",
    "\n",
    "\n",
    "\n",
    "\n",
    "\n",
    "\n",
    "\n",
    "\n",
    "\n",
    "\n",
    "\n",
    "\n",
    "\n",
    "\n",
    "\n",
    "\n",
    "\n",
    "\n",
    "\n",
    "\n",
    "\n",
    "\n",
    "\n",
    "# number = float(input(\"Enter a number: \"))\n",
    "# if number > 0:\n",
    "#     print(\"The number is positive.\")\n",
    "# elif number < 0:\n",
    "#     print(\"The number is negative.\")\n",
    "# else:\n",
    "#     print(\"The number is zero.\")"
   ]
  },
  {
   "cell_type": "markdown",
   "metadata": {},
   "source": [
    "### Assignment 4: Nested if Statement\n",
    "\n",
    "Write a program that asks the user to input a number and prints whether the number is positive and even, positive and odd, or negative."
   ]
  },
  {
   "cell_type": "code",
   "execution_count": 8,
   "metadata": {},
   "outputs": [
    {
     "name": "stdout",
     "output_type": "stream",
     "text": [
      "67.0 is a odd and positive number\n"
     ]
    }
   ],
   "source": [
    "num=float(input(\"enter a number:\"))\n",
    "if num>0:\n",
    "  if num%2==0:\n",
    "    print(f\"{num} is a even and positive number\")\n",
    "  else:\n",
    "    print(f\"{num} is a odd and positive number\")\n",
    "else:\n",
    "  print(f\"{num} is a negative positive number\")\n",
    "\n",
    "\n",
    "\n",
    "\n",
    "\n",
    "\n",
    "\n",
    "\n",
    "\n",
    "\n",
    "\n",
    "# number = float(input(\"Enter a number: \"))\n",
    "# if number > 0:\n",
    "#     if number % 2 == 0:\n",
    "#         print(\"The number is positive and even.\")\n",
    "#     else:\n",
    "#         print(\"The number is positive and odd.\")\n",
    "# else:\n",
    "#     print(\"The number is negative.\")"
   ]
  },
  {
   "cell_type": "markdown",
   "metadata": {},
   "source": [
    "## Lesson 2.2: Loops\n",
    "### Assignment 5: for Loop\n",
    "\n",
    "Write a program that prints all the numbers from 1 to 10 using a for loop."
   ]
  },
  {
   "cell_type": "code",
   "execution_count": 9,
   "metadata": {},
   "outputs": [
    {
     "name": "stdout",
     "output_type": "stream",
     "text": [
      "1\n",
      "2\n",
      "3\n",
      "4\n",
      "5\n",
      "6\n",
      "7\n",
      "8\n",
      "9\n",
      "10\n"
     ]
    }
   ],
   "source": [
    "for i in range(1,11):\n",
    "  print(i)\n",
    "\n",
    "\n",
    "\n",
    "\n",
    "\n",
    "\n",
    "\n",
    "\n",
    "\n",
    "# for i in range(1, 11):\n",
    "#     print(i)"
   ]
  },
  {
   "cell_type": "markdown",
   "metadata": {},
   "source": [
    "### Assignment 6: while Loop\n",
    "\n",
    "Write a program that prints all the numbers from 1 to 10 using a while loop."
   ]
  },
  {
   "cell_type": "code",
   "execution_count": 11,
   "metadata": {},
   "outputs": [
    {
     "name": "stdout",
     "output_type": "stream",
     "text": [
      "1\n",
      "2\n",
      "3\n",
      "4\n",
      "5\n",
      "6\n",
      "7\n",
      "8\n",
      "9\n",
      "10\n"
     ]
    }
   ],
   "source": [
    "num=11\n",
    "i=1\n",
    "while i<num:\n",
    "    print(i)\n",
    "    i=i+1\n",
    "\n",
    "\n",
    "\n",
    "\n",
    "\n",
    "\n",
    "\n",
    "\n",
    "\n",
    "\n",
    "\n",
    "\n",
    "\n",
    "\n",
    "# i = 1\n",
    "# while i <= 10:\n",
    "#     print(i)\n",
    "#     i += 1"
   ]
  },
  {
   "cell_type": "markdown",
   "metadata": {},
   "source": [
    "### Assignment 7: Nested Loops\n",
    "\n",
    "Write a program that prints a 5x5 grid of asterisks (*) using nested loops."
   ]
  },
  {
   "cell_type": "code",
   "execution_count": null,
   "metadata": {},
   "outputs": [
    {
     "name": "stdout",
     "output_type": "stream",
     "text": [
      "*****\n",
      "*****\n",
      "*****\n",
      "*****\n",
      "*****\n"
     ]
    }
   ],
   "source": [
    "for i in range(5):\n",
    "    for j in range(5):\n",
    "        print(\"*\",end=\"\")\n",
    "    print()\n",
    "\n",
    "\n",
    "# Why print() is used here:\n",
    "# The inner loop prints stars ***** on the same line because of end=\"\".\n",
    "\n",
    "# After printing 5 stars, we want to go to the next line to start printing the next row.\n",
    "\n",
    "# So, print() is used after the inner loop to add a line break.\n",
    "\n",
    "\n",
    "\n",
    "\n",
    "\n",
    "\n",
    "\n",
    "\n",
    "\n",
    "\n",
    "\n",
    "\n",
    "\n",
    "\n",
    "# for i in range(5):\n",
    "#     for j in range(5):\n",
    "#         print(\"*\", end=\" \")\n",
    "#     print()"
   ]
  },
  {
   "cell_type": "markdown",
   "metadata": {},
   "source": [
    "### Assignment 8: break Statement\n",
    "\n",
    "Write a program that asks the user to input numbers until they input 0. The program should print the sum of all the input numbers."
   ]
  },
  {
   "cell_type": "code",
   "execution_count": 16,
   "metadata": {},
   "outputs": [
    {
     "name": "stdout",
     "output_type": "stream",
     "text": [
      "the sum of input number is 266.0\n"
     ]
    }
   ],
   "source": [
    "total=0\n",
    "while True:\n",
    "           number=float(input(\"enter a number (if you want to stop then enter 0) :\"))\n",
    "           if number ==0:\n",
    "                   break\n",
    "           total=total+number\n",
    "print(f\"the sum of input number is {total}\")\n",
    "                   \n",
    "\n",
    "\n",
    "\n",
    "\n",
    "\n",
    "\n",
    "\n",
    "\n",
    "\n",
    "\n",
    "\n",
    "\n",
    "\n",
    "# total = 0\n",
    "# while True:\n",
    "#     number = float(input(\"Enter a number (0 to stop): \"))\n",
    "#     if number == 0:\n",
    "#         break\n",
    "#     total += number\n",
    "# print(f\"The sum of all the numbers is {total}.\")"
   ]
  },
  {
   "cell_type": "markdown",
   "metadata": {},
   "source": [
    "### Assignment 9: continue Statement\n",
    "\n",
    "Write a program that prints all the numbers from 1 to 10 except 5 using a for loop and continue statement."
   ]
  },
  {
   "cell_type": "code",
   "execution_count": 18,
   "metadata": {},
   "outputs": [
    {
     "name": "stdout",
     "output_type": "stream",
     "text": [
      "1\n",
      "2\n",
      "3\n",
      "4\n",
      "6\n",
      "7\n",
      "8\n",
      "9\n",
      "10\n"
     ]
    }
   ],
   "source": [
    "\n",
    "for i in range(1,11):\n",
    "  if i==5:\n",
    "    continue\n",
    "  print(i)\n",
    "\n",
    "\n",
    "\n",
    "\n",
    "\n",
    "\n",
    "\n",
    "\n",
    "\n",
    "\n",
    "\n",
    "\n",
    "\n",
    "# for i in range(1, 11):\n",
    "#     if i == 5:\n",
    "#         continue\n",
    "#     print(i)"
   ]
  },
  {
   "cell_type": "markdown",
   "metadata": {},
   "source": [
    "### Assignment 10: pass Statement\n",
    "\n",
    "Write a program that defines an empty function using the pass statement."
   ]
  },
  {
   "cell_type": "code",
   "execution_count": null,
   "metadata": {},
   "outputs": [],
   "source": [
    "def func():\n",
    "  pass\n",
    "func()\n",
    "\n",
    "\n",
    "\n",
    "\n",
    "\n",
    "\n",
    "\n",
    "\n",
    "\n",
    "# def empty_function():\n",
    "#     pass\n",
    "\n",
    "# # Calling the empty function\n",
    "# empty_function()"
   ]
  },
  {
   "cell_type": "markdown",
   "metadata": {},
   "source": [
    "### Assignment 11: Combining Loops and Conditionals\n",
    "\n",
    "Write a program that asks the user to input a number and prints all the even numbers from 1 to that number using a for loop."
   ]
  },
  {
   "cell_type": "code",
   "execution_count": 22,
   "metadata": {},
   "outputs": [
    {
     "name": "stdout",
     "output_type": "stream",
     "text": [
      "2\n",
      "4\n",
      "6\n",
      "8\n",
      "10\n",
      "12\n",
      "14\n",
      "16\n",
      "18\n",
      "20\n",
      "22\n",
      "24\n",
      "26\n",
      "28\n",
      "30\n",
      "32\n",
      "34\n",
      "36\n",
      "38\n",
      "40\n",
      "42\n",
      "44\n",
      "46\n",
      "48\n",
      "50\n",
      "52\n",
      "54\n",
      "56\n",
      "58\n",
      "60\n",
      "62\n",
      "64\n",
      "66\n",
      "68\n",
      "70\n",
      "72\n",
      "74\n",
      "76\n",
      "78\n",
      "80\n",
      "82\n",
      "84\n",
      "86\n",
      "88\n",
      "90\n",
      "92\n",
      "94\n",
      "96\n",
      "98\n",
      "100\n"
     ]
    }
   ],
   "source": [
    "yes=int(input(\"enter a number:\"))\n",
    "\n",
    "for i in range(1,yes+1):\n",
    "  if i%2==0:\n",
    "    print(i)\n",
    "  \n",
    "\n",
    "\n",
    "\n",
    "\n",
    "\n",
    "\n",
    "\n",
    "\n",
    "\n",
    "\n",
    "\n",
    "\n",
    "\n",
    "\n",
    "\n",
    "# number = int(input(\"Enter a number: \"))\n",
    "# for i in range(1, number + 1):\n",
    "#     if i % 2 == 0:\n",
    "#         print(i)"
   ]
  },
  {
   "cell_type": "markdown",
   "metadata": {},
   "source": [
    "### Assignment 12: Factorial Calculation\n",
    "\n",
    "Write a program that calculates the factorial of a number input by the user using a while loop."
   ]
  },
  {
   "cell_type": "code",
   "execution_count": 23,
   "metadata": {},
   "outputs": [
    {
     "name": "stdout",
     "output_type": "stream",
     "text": [
      "factorial of a 6 is 120\n"
     ]
    }
   ],
   "source": [
    "num=int(input(\"enter a number:\"))\n",
    "fact=1\n",
    "i=1\n",
    "\n",
    "while i<num:\n",
    "  fact=fact*i\n",
    "  i+=1\n",
    "print(f\"factorial of a {num} is {fact}\")\n",
    "\n",
    "\n",
    "\n",
    "\n",
    "\n",
    "\n",
    "\n",
    "\n",
    "\n",
    "\n",
    "\n",
    "\n",
    "\n",
    "# number = int(input(\"Enter a number: \"))\n",
    "# factorial = 1\n",
    "# i = 1\n",
    "# while i <= number:\n",
    "#     factorial *= i\n",
    "#     i += 1\n",
    "# print(f\"The factorial of {number} is {factorial}.\")"
   ]
  },
  {
   "cell_type": "markdown",
   "metadata": {},
   "source": [
    "### Assignment 13: Sum of Digits\n",
    "\n",
    "Write a program that calculates the sum of the digits of a number input by the user using a while loop."
   ]
  },
  {
   "cell_type": "code",
   "execution_count": 3,
   "metadata": {},
   "outputs": [
    {
     "name": "stdout",
     "output_type": "stream",
     "text": [
      "the sum of 0 number is 10\n"
     ]
    }
   ],
   "source": [
    "num=int(input(\"enter a number:\"))\n",
    "\n",
    "sum=0\n",
    "\n",
    "while num>0:\n",
    "  digit = num%10\n",
    "  sum=sum+ digit\n",
    "  num=num//10\n",
    "\n",
    "print(f\"the sum of {num} number is {sum}\")\n",
    "\n",
    "\n",
    "\n",
    "\n",
    "\n",
    "\n",
    "\n",
    "\n",
    "\n",
    "\n",
    "\n",
    "\n",
    "\n",
    "\n",
    "\n",
    "\n",
    "\n",
    "\n",
    "\n",
    "\n",
    "\n",
    "\n",
    "\n",
    "# number = int(input(\"Enter a number: \"))                  @1234\n",
    "# sum_of_digits = 0\n",
    "# while number > 0:                                        # 1234 >0:                       123>0          \n",
    "#     digit = number % 10                                           digit=1234%10=4         123%10=3\n",
    "#     sum_of_digits += digit                                        sum=0+4=4                4+3=7\n",
    "#     number = number // 10                                         number=1234//10=123      123//10=12\n",
    "# print(f\"The sum of the digits is {sum_of_digits}.\")         \n",
    "                                                            #12>0:                   1>0:\n",
    "                                                                                    \n",
    "                                                                  # 12%10=2             1%10=1\n",
    "                                                                  # 7+2=9               9+1=10\n",
    "                                                                  # 12//10=1            1//10=0"
   ]
  },
  {
   "cell_type": "markdown",
   "metadata": {},
   "source": [
    "### Assignment 14: Prime Number Check\n",
    "\n",
    "Write a program that checks if a number input by the user is a prime number using a for loop."
   ]
  },
  {
   "cell_type": "code",
   "execution_count": null,
   "metadata": {},
   "outputs": [
    {
     "name": "stdout",
     "output_type": "stream",
     "text": [
      "3 is  a prime number\n"
     ]
    }
   ],
   "source": [
    "\n",
    "\n",
    "num=int(input(\"enter a number:\"))\n",
    "\n",
    "\n",
    "if num<=1:\n",
    "    print(f\"{num} is not a prime number\")\n",
    "\n",
    "if num>1:\n",
    "    for i in range(2,num):\n",
    "        if num%i==0:\n",
    "            print(f\"{num} is not a prime number\")\n",
    "            break\n",
    "    else:\n",
    "        print(f\"{num} is a prime number\")\n",
    "\n",
    "\n",
    "\n",
    "\n",
    "\n",
    "\n",
    "\n",
    "\n",
    "\n",
    "\n",
    "\n",
    "\n",
    "\n",
    "\n",
    "\n",
    "# number = int(input(\"Enter a number: \"))\n",
    "# is_prime = True\n",
    "# if number <= 1:\n",
    "#     is_prime = False\n",
    "# else:\n",
    "#     for i in range(2, int(number ** 0.5) + 1):\n",
    "#         if number % i == 0:\n",
    "#             is_prime = False\n",
    "#             break\n",
    "# if is_prime:\n",
    "#     print(f\"{number} is a prime number.\")\n",
    "# else:\n",
    "#     print(f\"{number} is not a prime number.\")"
   ]
  },
  {
   "cell_type": "markdown",
   "metadata": {},
   "source": [
    "### Assignment 15: Fibonacci Sequence\n",
    "\n",
    "Write a program that prints the first n Fibonacci numbers, where n is input by the user."
   ]
  },
  {
   "cell_type": "code",
   "execution_count": 14,
   "metadata": {},
   "outputs": [
    {
     "name": "stdout",
     "output_type": "stream",
     "text": [
      "0\n",
      "1\n",
      "1\n",
      "2\n",
      "3\n",
      "5\n",
      "8\n"
     ]
    }
   ],
   "source": [
    "n = int(input(\"Enter the number of Fibonacci numbers to print: \"))\n",
    "a = 0\n",
    "b=1\n",
    "\n",
    "# if n==1:\n",
    "#   print(a)\n",
    "# else:\n",
    "#   print(a)\n",
    "#   print(b)\n",
    "#   for i in range(2,n):\n",
    "#     c=a+b\n",
    "#     a=b\n",
    "#     b=c\n",
    "#     print(c)\n",
    "\n",
    "\n",
    "\n",
    "if n==1:\n",
    "  print(a)\n",
    "else:\n",
    "  print(a)\n",
    "  print(b)\n",
    "  count=2  # We already printed 2 numbers\n",
    "while count<n:\n",
    "  c=a+b\n",
    "  a=b\n",
    "  b=c\n",
    "  print(c)\n",
    "  count+=1\n",
    "\n",
    "\n",
    "# logic\n",
    "# a=0                   \n",
    "# b=1                   \n",
    "# c=a+b=0+1=1   \n",
    "\n",
    "# a=b=1\n",
    "# b=c=1\n",
    "# c=a+b=2\n",
    "\n",
    "# a=b=1\n",
    "# b=c=2\n",
    "# c=a+b=3\n",
    "\n",
    "\n",
    "\n",
    "\n",
    "\n",
    "\n",
    "\n",
    "\n",
    "\n",
    "\n",
    "\n",
    "\n",
    "\n",
    "\n",
    "# count = 0\n",
    "# while count < n:\n",
    "#     print(a)\n",
    "#     a, b = b, a + b\n",
    "#     count += 1"
   ]
  },
  {
   "cell_type": "code",
   "execution_count": null,
   "id": "f46ce770",
   "metadata": {},
   "outputs": [],
   "source": []
  }
 ],
 "metadata": {
  "kernelspec": {
   "display_name": ".venv",
   "language": "python",
   "name": "python3"
  },
  "language_info": {
   "codemirror_mode": {
    "name": "ipython",
    "version": 3
   },
   "file_extension": ".py",
   "mimetype": "text/x-python",
   "name": "python",
   "nbconvert_exporter": "python",
   "pygments_lexer": "ipython3",
   "version": "3.11.9"
  }
 },
 "nbformat": 4,
 "nbformat_minor": 5
}

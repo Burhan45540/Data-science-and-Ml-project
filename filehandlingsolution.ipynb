{
 "cells": [
  {
   "cell_type": "markdown",
   "metadata": {},
   "source": [
    "# Module: File Handling Assignments\n",
    "## Lesson: File Handling and Operations\n",
    "### Assignment 1: Reading a File\n",
    "\n",
    "Write a function that reads the contents of a file named `sample.txt` and prints each line."
   ]
  },
  {
   "cell_type": "code",
   "execution_count": 5,
   "metadata": {},
   "outputs": [
    {
     "name": "stdout",
     "output_type": "stream",
     "text": [
      "hey how are you\n",
      "what are you doing\n",
      "whats going on\n"
     ]
    }
   ],
   "source": [
    "def read_file(file_name):\n",
    "  with open(file_name,\"r\") as file:\n",
    "    content=file.readlines()\n",
    "    for i in content:\n",
    "      print(i.strip())\n",
    "\n",
    "\n",
    "file_name=\"sample.txt\"\n",
    "\n",
    "\n",
    "read_file(file_name)\n",
    "\n",
    "\n",
    "\n",
    "\n",
    "\n",
    "\n",
    "\n",
    "\n",
    "\n",
    "\n",
    "\n",
    "\n",
    "\n",
    "\n",
    "\n",
    "\n",
    "\n",
    "\n",
    "\n",
    "\n",
    "\n",
    "\n",
    "\n",
    "# def read_file(filename):\n",
    "#     with open(filename, 'r') as file:\n",
    "#         for line in file:\n",
    "#             print(line.strip())\n",
    "\n",
    "# # Test\n",
    "# # read_file('sample.txt')"
   ]
  },
  {
   "cell_type": "markdown",
   "metadata": {},
   "source": [
    "### Assignment 2: Writing to a File\n",
    "\n",
    "Write a function that writes a list of strings to a file named `output.txt`, with each string on a new line."
   ]
  },
  {
   "cell_type": "code",
   "execution_count": 13,
   "metadata": {},
   "outputs": [
    {
     "name": "stdout",
     "output_type": "stream",
     "text": [
      "hey welcome to the data science course\n",
      "to learn data science then you havve to do consistency\n",
      "ok best of luck\n"
     ]
    }
   ],
   "source": [
    "def list_strings(filed_named,lst):\n",
    "  with open(filed_named,\"w\")as file:\n",
    "    for line in lst:\n",
    "      file.write(line)\n",
    "      print(line)\n",
    "  \n",
    "\n",
    "filed_named=\"output.txt\"\n",
    "lst=[\"hey welcome to the data science course\",\"to learn data science then you havve to do consistency\",\"ok best of luck\"]\n",
    "\n",
    "list_strings(filed_named,lst)\n",
    "\n",
    "\n",
    "\n",
    "\n",
    "\n",
    "\n",
    "\n",
    "\n",
    "\n",
    "\n",
    "\n",
    "\n",
    "\n",
    "\n",
    "\n",
    "\n",
    "\n",
    "\n",
    "\n",
    "\n",
    "\n",
    "\n",
    "\n",
    "# def write_file(lines, filename):\n",
    "#     with open(filename, 'w') as file:\n",
    "#         for line in lines:\n",
    "#             file.write(line + '\\n')\n",
    "\n",
    "# # Test\n",
    "# # write_file(['Hello', 'World'], 'output.txt')"
   ]
  },
  {
   "cell_type": "markdown",
   "metadata": {},
   "source": [
    "### Assignment 3: Copying a File\n",
    "\n",
    "Write a function that copies the contents of a file named `source.txt` to a new file named `destination.txt`."
   ]
  },
  {
   "cell_type": "code",
   "execution_count": 16,
   "metadata": {},
   "outputs": [
    {
     "name": "stdout",
     "output_type": "stream",
     "text": [
      "hey welcome to the data science courseto learn data science then you havve to do consistencyok best of luck\n"
     ]
    }
   ],
   "source": [
    "def copy(source,destination):\n",
    "  with open(source,\"r\")as file:\n",
    "    content=file.read()\n",
    "    with open(destination,\"w\")as file:\n",
    "      a=file.write(content)\n",
    "  print(content)\n",
    "\n",
    "\n",
    "\n",
    "  \n",
    "source=\"output.txt\"\n",
    "destination=\"dest.txt\"\n",
    "copy(source,destination)\n",
    "\n",
    "\n",
    "\n",
    "\n",
    "\n",
    "\n",
    "\n",
    "\n",
    "\n",
    "\n",
    "\n",
    "\n",
    "\n",
    "\n",
    "\n",
    "\n",
    "\n",
    "\n",
    "\n",
    "\n",
    "# def copy_file(source, destination):\n",
    "#     with open(source, 'r') as src:\n",
    "#         with open(destination, 'w') as dest:\n",
    "#             dest.write(src.read())\n",
    "\n",
    "# # Test\n",
    "# # copy_file('source.txt', 'destination.txt')"
   ]
  },
  {
   "cell_type": "markdown",
   "metadata": {},
   "source": [
    "### Assignment 4: Appending to a File\n",
    "\n",
    "Write a function that appends a given string to the end of a file named `log.txt`."
   ]
  },
  {
   "cell_type": "code",
   "execution_count": 19,
   "metadata": {},
   "outputs": [
    {
     "name": "stdout",
     "output_type": "stream",
     "text": [
      "This is a simple string for testing file operations in Python."
     ]
    }
   ],
   "source": [
    "def app(file,string):\n",
    "  with open(file,\"a\") as file:\n",
    "    for line in string:\n",
    "      print(f\"{line}\",end=\"\")\n",
    "\n",
    "\n",
    "\n",
    "\n",
    "\n",
    "file=\"log.txt\"\n",
    "\n",
    "string=\"This is a simple string for testing file operations in Python.\"\n",
    "\n",
    "app(file,string)\n",
    "\n",
    "\n",
    "\n",
    "# def append_to_file(text, filename):\n",
    "#     with open(filename, 'a') as file:\n",
    "#         file.write(text + '\\n')\n",
    "\n",
    "# # Test\n",
    "# # append_to_file('This is a new log entry.', 'log.txt')"
   ]
  },
  {
   "cell_type": "markdown",
   "metadata": {},
   "source": [
    "### Assignment 5: Counting Words in a File\n",
    "\n",
    "Write a function that reads the contents of a file named `document.txt` and returns the number of words in the file."
   ]
  },
  {
   "cell_type": "code",
   "execution_count": 21,
   "metadata": {},
   "outputs": [
    {
     "name": "stdout",
     "output_type": "stream",
     "text": [
      "Welcome to the Data Science course.\n",
      "This course will cover Python, statistics, machine learning, and deep learning.\n",
      "Make sure to practice consistently and revise regularly.\n",
      "Good luck and stay curious!\n",
      "\n",
      "total words:30\n"
     ]
    }
   ],
   "source": [
    "def read_count(file):\n",
    "  with open(file,\"r\")as file:\n",
    "    content=file.read()\n",
    "    print(content)\n",
    "\n",
    "    word=content.split()\n",
    "    word_count=len(word)\n",
    "\n",
    "  return word_count\n",
    "\n",
    "\n",
    "\n",
    "file=\"document.txt\"\n",
    "a=read_count(file)\n",
    "print(f\"total words:{a}\")\n",
    "\n",
    "\n",
    "\n",
    "\n",
    "\n",
    "# def count_words(filename):\n",
    "#     with open(filename, 'r') as file:\n",
    "#         text = file.read()\n",
    "#         words = text.split()\n",
    "#         return len(words)\n",
    "\n",
    "# # Test\n",
    "# # print(count_words('document.txt'))"
   ]
  },
  {
   "cell_type": "markdown",
   "metadata": {},
   "source": [
    "### Assignment 6: Finding and Replacing Text\n",
    "\n",
    "Write a function that finds and replaces all occurrences of a given word in a file named `data.txt` with another word."
   ]
  },
  {
   "cell_type": "code",
   "execution_count": 29,
   "metadata": {},
   "outputs": [
    {
     "name": "stdout",
     "output_type": "stream",
     "text": [
      "\n",
      "0\n"
     ]
    }
   ],
   "source": [
    "def replacement(old_file,old,new):\n",
    "  with open(old_file,\"r\")as file:\n",
    "    content=file.read()\n",
    "  new=content.replace(old,new)\n",
    "\n",
    "  with open(old_file,\"w\")as file:\n",
    "    new_content=file.write(new)\n",
    "  \n",
    "\n",
    "  return content,new_content\n",
    "  \n",
    "\n",
    "\n",
    "old_file=\"data.txt\"\n",
    "\n",
    "a=replacement(old_file,\"hey\",\"hello\")\n",
    "print(a[0])\n",
    "print(a[1])\n",
    "\n",
    "\n",
    "\n",
    "\n",
    "\n",
    "\n",
    "\n",
    "# def find_and_replace(filename, old_word, new_word):\n",
    "#     with open(filename, 'r') as file:\n",
    "#         text = file.read()\n",
    "#     new_text = text.replace(old_word, new_word)\n",
    "#     with open(filename, 'w') as file:\n",
    "#         file.write(new_text)\n",
    "\n",
    "# # Test\n",
    "# # find_and_replace('data.txt', 'old', 'new')"
   ]
  },
  {
   "cell_type": "markdown",
   "metadata": {},
   "source": [
    "### Assignment 7: Reading a File in Reverse\n",
    "\n",
    "Write a function that reads the contents of a file named `reverse.txt` and prints each line in reverse order."
   ]
  },
  {
   "cell_type": "code",
   "execution_count": 42,
   "metadata": {},
   "outputs": [
    {
     "name": "stdout",
     "output_type": "stream",
     "text": [
      "['File Permissions\\n', 'You may not have write permission to data.txt.\\n', '\\n', 'Solution: Check file permissions or try saving to a new file.']\n",
      "['Solution: Check file permissions or try saving to a new file.', '\\n', 'You may not have write permission to data.txt.\\n', 'File Permissions\\n']\n"
     ]
    }
   ],
   "source": [
    "def re(file):\n",
    "  with open(file,\"r\")as file:\n",
    "    content=file.readlines()\n",
    "    print(content)\n",
    "\n",
    "  reversed=content[::-1]\n",
    "  return reversed\n",
    "\n",
    "file=\"reverse.txt\"\n",
    "a=re(file)\n",
    "print(a)\n",
    "\n",
    "\n",
    "\n",
    "\n",
    "\n",
    "\n",
    "\n",
    "\n",
    "\n",
    "# def read_reverse(filename):\n",
    "#     with open(filename, 'r') as file:\n",
    "#         lines = file.readlines()\n",
    "#     for line in reversed(lines):\n",
    "#         print(line.strip())\n",
    "\n",
    "# # Test\n",
    "# # read_reverse('reverse.txt')"
   ]
  },
  {
   "cell_type": "markdown",
   "metadata": {},
   "source": [
    "### Assignment 8: Counting Lines, Words, and Characters\n",
    "\n",
    "Write a function that reads the contents of a file named `stats.txt` and returns the number of lines, words, and characters in the file."
   ]
  },
  {
   "cell_type": "code",
   "execution_count": 44,
   "metadata": {},
   "outputs": [
    {
     "name": "stdout",
     "output_type": "stream",
     "text": [
      "word:27,char:160,line:5\n"
     ]
    }
   ],
   "source": [
    "def  stat(file):\n",
    "  \n",
    "  with open(file,\"r\")as file:\n",
    "    content=file.read()\n",
    "\n",
    "    lines=content.splitlines()\n",
    "    num_line=len(lines)\n",
    "\n",
    "    words=content.split()\n",
    "    num_word=len(words)\n",
    "\n",
    "    num_char=len(content)\n",
    "  return num_char,num_line,num_word\n",
    "\n",
    "\n",
    "file=\"stats.txt\"\n",
    "\n",
    "num_char,num_line,num_word=stat(file)\n",
    "print(f\"word:{num_word},char:{num_char},line:{num_line}\")\n",
    "\n",
    "\n",
    "\n",
    "\n",
    "\n",
    "\n",
    "\n",
    "\n",
    "\n",
    "\n",
    "\n",
    "\n",
    "\n",
    "\n",
    "\n",
    "\n",
    "# def count_lwc(filename):\n",
    "#     with open(filename, 'r') as file:\n",
    "#         lines = file.readlines()\n",
    "#         words = sum(len(line.split()) for line in lines)\n",
    "#         characters = sum(len(line) for line in lines)\n",
    "#     return len(lines), words, characters\n",
    "\n",
    "# # Test\n",
    "# # print(count_lwc('stats.txt'))"
   ]
  },
  {
   "cell_type": "markdown",
   "metadata": {},
   "source": [
    "### Assignment 9: Merging Multiple Files\n",
    "\n",
    "Write a function that merges the contents of multiple files into a single file named `merged.txt`."
   ]
  },
  {
   "cell_type": "code",
   "execution_count": 48,
   "metadata": {},
   "outputs": [],
   "source": [
    "def merged(old,new):\n",
    "  \n",
    "  with open(new,\"w\")as file:\n",
    "    for i in old:\n",
    "      with open(i,\"r\")as f:\n",
    "        a=f.read()\n",
    "        file.write(a)\n",
    "\n",
    "  \n",
    "  \n",
    "\n",
    "\n",
    "old=[\"file1.txt\",\"file2.txt\"]\n",
    "new=\"merged.txt\"\n",
    "merged(old,new)\n",
    "\n",
    "\n",
    "\n",
    "\n",
    "\n",
    "\n",
    "\n",
    "\n",
    "\n",
    "\n",
    "\n",
    "\n",
    "\n",
    "\n",
    "\n",
    "# def merge_files(file_list, output_file):\n",
    "#     with open(output_file, 'w') as outfile:\n",
    "#         for fname in file_list:\n",
    "#             with open(fname, 'r') as infile:\n",
    "#                 outfile.write(infile.read() + '\\n')\n",
    "\n",
    "# # Test\n",
    "# # merge_files(['file1.txt', 'file2.txt'], 'merged.txt')"
   ]
  },
  {
   "cell_type": "markdown",
   "metadata": {},
   "source": [
    "### Assignment 10: Splitting a Large File\n",
    "\n",
    "Write a function that splits a large file named `large.txt` into smaller files of 100 lines each."
   ]
  },
  {
   "cell_type": "code",
   "execution_count": 51,
   "metadata": {},
   "outputs": [],
   "source": [
    "def split(filename):\n",
    "  with open(filename,\"r\")as file:\n",
    "    content=file.readlines()\n",
    "\n",
    "  file_count=1\n",
    "\n",
    "  for i in range(0,len(content),100):\n",
    "    part=content[i:i+100]\n",
    "    newfile=f\"part{file_count}.txt\"\n",
    "\n",
    "    with open(newfile,\"w\")as f:\n",
    "      f.writelines(part)\n",
    "\n",
    "    file_count+=1\n",
    "\n",
    "split(\"large.txt\")\n",
    "\n",
    "\n",
    "\n",
    "\n",
    "\n",
    "\n",
    "\n",
    "\n",
    "\n",
    "\n",
    "\n",
    "\n",
    "\n",
    "\n",
    "\n",
    "# def split_file(filename, lines_per_file):\n",
    "#     with open(filename, 'r') as file:\n",
    "#         lines = file.readlines()\n",
    "#     for i in range(0, len(lines), lines_per_file):\n",
    "#         with open(f'{filename}_part{i//lines_per_file + 1}.txt', 'w') as part_file:\n",
    "#             part_file.writelines(lines[i:i + lines_per_file])\n",
    "\n",
    "# # Test\n",
    "# # split_file('large.txt', 100)"
   ]
  },
  {
   "cell_type": "markdown",
   "metadata": {},
   "source": [
    "### Assignment 11: Creating a Log File\n",
    "\n",
    "Write a function that creates a log file named `activity.log` and writes log messages with timestamps."
   ]
  },
  {
   "cell_type": "code",
   "execution_count": 57,
   "metadata": {},
   "outputs": [
    {
     "name": "stdout",
     "output_type": "stream",
     "text": [
      "2025-06-04 09:19:54.997681 This is a log message.\n",
      "52\n"
     ]
    }
   ],
   "source": [
    "import datetime\n",
    "def log(file,messages):\n",
    "  timestamp=datetime.datetime.now()\n",
    "  print(timestamp,messages)\n",
    "  with open(file,\"a\")as f:\n",
    "    a=f.write(f\"{timestamp} : {messages}\\n\")\n",
    "    print(a)\n",
    "  \n",
    "log(\"activity.log\",'This is a log message.')\n",
    "\n",
    "\n",
    "# import datetime\n",
    "\n",
    "# def log_message(message, filename='activity.log'):\n",
    "#     timestamp = datetime.datetime.now().isoformat()\n",
    "#     with open(filename, 'a') as file:\n",
    "#         file.write(f'[{timestamp}] {message}\\n')\n",
    "\n",
    "# # Test\n",
    "# # log_message('This is a log message.')"
   ]
  },
  {
   "cell_type": "markdown",
   "metadata": {},
   "source": [
    "### Assignment 12: Binary File Operations\n",
    "\n",
    "Write a function that reads a binary file named `image.bin` and writes its contents to another binary file named `copy_image.bin`."
   ]
  },
  {
   "cell_type": "code",
   "execution_count": null,
   "metadata": {},
   "outputs": [],
   "source": [
    "def copy_binary_file(source, destination):\n",
    "    with open(source, 'rb') as src:\n",
    "        with open(destination, 'wb') as dest:\n",
    "            dest.write(src.read())\n",
    "\n",
    "# Test\n",
    "# copy_binary_file('image.bin', 'copy_image.bin')"
   ]
  },
  {
   "cell_type": "markdown",
   "metadata": {},
   "source": [
    "### Assignment 13: CSV File Operations\n",
    "\n",
    "Write a function that reads a CSV file named `data.csv` and prints its contents as a list of dictionaries."
   ]
  },
  {
   "cell_type": "code",
   "execution_count": 59,
   "metadata": {},
   "outputs": [
    {
     "name": "stdout",
     "output_type": "stream",
     "text": [
      "[]\n"
     ]
    }
   ],
   "source": [
    "import csv\n",
    "def csv_file(file):\n",
    "  with open(file,\"r\")as file:\n",
    "    reader=csv.DictReader(file)\n",
    "    return list(reader)\n",
    "  \n",
    "print(csv_file(\"data.csv\"))\n",
    "  \n",
    "\n",
    "\n",
    "\n",
    "\n",
    "\n",
    "\n",
    "\n",
    "\n",
    "\n",
    "\n",
    "\n",
    "\n",
    "# import csv\n",
    "\n",
    "# def read_csv_as_dicts(filename):\n",
    "#     with open(filename, 'r') as file:\n",
    "#         reader = csv.DictReader(file)\n",
    "#         return list(reader)\n",
    "\n",
    "# Test\n",
    "# print(read_csv_as_dicts('data.csv'))"
   ]
  },
  {
   "cell_type": "markdown",
   "metadata": {},
   "source": [
    "### Assignment 14: JSON File Operations\n",
    "\n",
    "Write a function that reads a JSON file named `data.json` and prints its contents as a Python dictionary."
   ]
  },
  {
   "cell_type": "code",
   "execution_count": null,
   "metadata": {},
   "outputs": [],
   "source": [
    "import json\n",
    "\n",
    "def read_json(filename):\n",
    "    with open(filename, 'r') as file:\n",
    "        data = json.load(file)\n",
    "        return data\n",
    "\n",
    "# Test\n",
    "# print(read_json('data.json'))"
   ]
  },
  {
   "cell_type": "markdown",
   "metadata": {},
   "source": [
    "### Assignment 15: File Permission Handling\n",
    "\n",
    "Write a function that attempts to read a file named `protected.txt` and handles any permission errors gracefully by printing an error message."
   ]
  },
  {
   "cell_type": "code",
   "execution_count": null,
   "metadata": {},
   "outputs": [],
   "source": [
    "def read_protected_file(filename):\n",
    "    try:\n",
    "        with open(filename, 'r') as file:\n",
    "            print(file.read())\n",
    "    except PermissionError as e:\n",
    "        print(f\"Permission error: {e}\")\n",
    "\n",
    "# Test\n",
    "# read_protected_file('protected.txt')"
   ]
  }
 ],
 "metadata": {
  "kernelspec": {
   "display_name": ".venv",
   "language": "python",
   "name": "python3"
  },
  "language_info": {
   "codemirror_mode": {
    "name": "ipython",
    "version": 3
   },
   "file_extension": ".py",
   "mimetype": "text/x-python",
   "name": "python",
   "nbconvert_exporter": "python",
   "pygments_lexer": "ipython3",
   "version": "3.11.9"
  }
 },
 "nbformat": 4,
 "nbformat_minor": 5
}

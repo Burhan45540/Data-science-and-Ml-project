{
 "cells": [
  {
   "cell_type": "markdown",
   "metadata": {},
   "source": [
    "# Module 3: Data Structures Assignments\n",
    "## Lesson 3.1: Lists\n",
    "### Assignment 1: Creating and Accessing Lists\n",
    "\n",
    "Create a list of the first 20 positive integers. Print the list."
   ]
  },
  {
   "cell_type": "code",
   "execution_count": null,
   "metadata": {},
   "outputs": [
    {
     "name": "stdout",
     "output_type": "stream",
     "text": [
      "[1, 2, 3, 4, 5, 6, 7, 8, 9, 10, 11, 12, 13, 14, 15, 16, 17, 18, 19, 20]\n",
      "[1, 2, 3, 4, 5, 6, 7, 8, 9, 10, 11, 12, 13, 14, 15, 16, 17, 18, 19, 20]\n"
     ]
    }
   ],
   "source": [
    "lst=[]\n",
    "for i in range(1,21):\n",
    "  if i>0:\n",
    "    lst.append(i)\n",
    "print(lst)\n",
    "\n",
    "\n",
    "\n",
    "\n",
    "\n",
    "\n",
    "\n",
    "\n",
    "\n",
    "\n",
    "\n",
    "\n",
    "\n",
    "# lst = list(range(1, 21))\n",
    "# print(lst)"
   ]
  },
  {
   "cell_type": "markdown",
   "metadata": {},
   "source": [
    "### Assignment 2: Accessing List Elements\n",
    "\n",
    "Print the first, middle, and last elements of the list created in Assignment 1."
   ]
  },
  {
   "cell_type": "code",
   "execution_count": 6,
   "metadata": {},
   "outputs": [
    {
     "name": "stdout",
     "output_type": "stream",
     "text": [
      "first element is 1\n",
      "middle element is 11\n",
      "last element is 20\n"
     ]
    }
   ],
   "source": [
    "a=lst[0]\n",
    "b=lst[len(lst)//2]\n",
    "c=lst[-1]\n",
    "print(f\"first element is {a}\")\n",
    "print(f\"middle element is {b}\")\n",
    "print(f\"last element is {c}\")\n",
    "\n",
    "\n",
    "\n",
    "\n",
    "\n",
    "\n",
    "\n",
    "\n",
    "\n",
    "\n",
    "\n",
    "\n",
    "\n",
    "\n",
    "\n",
    "\n",
    "\n",
    "# print(f\"First element: {lst[0]}\")\n",
    "# print(f\"Middle element: {lst[len(lst) // 2]}\")\n",
    "# print(f\"Last element: {lst[-1]}\")"
   ]
  },
  {
   "cell_type": "markdown",
   "metadata": {},
   "source": [
    "### Assignment 3: List Slicing\n",
    "\n",
    "Print the first five elements, the last five elements, and the elements from index 5 to 15 of the list created in Assignment 1."
   ]
  },
  {
   "cell_type": "code",
   "execution_count": 9,
   "metadata": {},
   "outputs": [
    {
     "name": "stdout",
     "output_type": "stream",
     "text": [
      "first 5 element is [1, 2, 3, 4, 5]\n",
      "last 5 element is [16, 17, 18, 19, 20]\n",
      "index 5 to 15 element is [6, 7, 8, 9, 10, 11, 12, 13, 14, 15, 16]\n"
     ]
    }
   ],
   "source": [
    "\n",
    "a=lst[:5]\n",
    "b=lst[-5:]\n",
    "c=lst[5:16]\n",
    "print(f\"first 5 element is {a}\")\n",
    "print(f\"last 5 element is {b}\")\n",
    "print(f\"index 5 to 15 element is {c}\")\n",
    "\n",
    "\n",
    "\n",
    "\n",
    "\n",
    "\n",
    "\n",
    "\n",
    "\n",
    "\n",
    "# print(f\"First five elements: {lst[:5]}\")\n",
    "# print(f\"Last five elements: {lst[-5:]}\")\n",
    "# print(f\"Elements from index 5 to 15: {lst[5:16]}\")"
   ]
  },
  {
   "cell_type": "markdown",
   "metadata": {},
   "source": [
    "### Assignment 4: List Comprehensions\n",
    "\n",
    "Create a new list containing the squares of the first 10 positive integers using a list comprehension. Print the new list."
   ]
  },
  {
   "cell_type": "code",
   "execution_count": null,
   "metadata": {},
   "outputs": [
    {
     "name": "stdout",
     "output_type": "stream",
     "text": [
      "the square of first 10 positie integers is [1, 4, 9, 16, 25, 36, 49, 64, 81, 100]\n",
      "[1, 4, 9, 16, 25, 36, 49, 64, 81]\n",
      "[1, 4, 9, 16, 25, 36, 49, 64, 81, 100]\n"
     ]
    }
   ],
   "source": [
    "#using list comprehension\n",
    "\n",
    "list1=[i**2 for i in range(1,11)]\n",
    "print(f\"the square of first 10 positive integers is {list1}\")\n",
    "\n",
    "\n",
    "#without\n",
    "lst1=[]\n",
    "for i in range(1,10):\n",
    "  lst1.append(i**2)\n",
    "\n",
    "print(f\"the square of first 10 positive integers is {lst1}\")\n",
    "\n",
    "\n",
    "\n",
    "\n",
    "\n",
    "\n",
    "\n",
    "\n",
    "\n",
    "\n",
    "\n",
    "\n",
    "\n",
    "\n",
    "\n",
    "\n",
    "\n",
    "\n",
    "\n",
    "\n",
    "\n",
    "\n",
    "\n",
    "\n",
    "\n",
    "squares = [x**2 for x in range(1, 11)]\n",
    "print(squares)"
   ]
  },
  {
   "cell_type": "markdown",
   "metadata": {},
   "source": [
    "### Assignment 5: Filtering Lists\n",
    "\n",
    "Create a new list containing only the even numbers from the list created in Assignment 1 using a list comprehension. Print the new list."
   ]
  },
  {
   "cell_type": "code",
   "execution_count": 13,
   "metadata": {},
   "outputs": [
    {
     "name": "stdout",
     "output_type": "stream",
     "text": [
      "even number from the list1 [2, 4, 6, 8, 10] \n",
      "[2, 4, 6, 8, 10, 12, 14, 16, 18, 20]\n"
     ]
    }
   ],
   "source": [
    "\n",
    "list2=[i for i in range(1,11) if i%2==0]\n",
    "print(f\"even number from the list1 {list2} \")\n",
    "\n",
    "\n",
    "\n",
    "\n",
    "\n",
    "\n",
    "\n",
    "\n",
    "\n",
    "\n",
    "\n",
    "\n",
    "\n",
    "\n",
    "\n",
    "\n",
    "\n",
    "\n",
    "\n",
    "\n",
    "\n",
    "\n",
    "\n",
    "\n",
    "\n",
    "\n",
    "\n",
    "evens = [x for x in lst if x % 2 == 0]\n",
    "print(evens)"
   ]
  },
  {
   "cell_type": "markdown",
   "metadata": {},
   "source": [
    "### Assignment 6: List Methods\n",
    "\n",
    "Create a list of random numbers and sort it in ascending and descending order. Remove the duplicates from the list and print the modified list."
   ]
  },
  {
   "cell_type": "code",
   "execution_count": 20,
   "metadata": {},
   "outputs": [
    {
     "name": "stdout",
     "output_type": "stream",
     "text": [
      "original list is [13, 9, 8, 11, 13, 1, 5, 17, 1, 3, 20, 12, 4, 2, 19]\n",
      "sorting list is :[1, 1, 2, 3, 4, 5, 8, 9, 11, 12, 13, 13, 17, 19, 20]\n",
      "descending order list is :[20, 19, 17, 13, 13, 12, 11, 9, 8, 5, 4, 3, 2, 1, 1]\n"
     ]
    }
   ],
   "source": [
    "\n",
    "import random\n",
    "list3=[random.randint(1,20) for i in range(15)]\n",
    "print(f\"original list is {list3}\")\n",
    "\n",
    "b=sorted(list3)\n",
    "c=sorted(list3,reverse=True)\n",
    "\n",
    "print(f\"sorting list is :{b}\")\n",
    "print(f\"descending order list is :{c}\")\n",
    "\n",
    "\n",
    "\n",
    "\n",
    "\n",
    "\n",
    "\n",
    "\n",
    "\n",
    "\n",
    "\n",
    "\n",
    "\n",
    "\n",
    "\n",
    "\n",
    "\n",
    "\n",
    "\n",
    "\n",
    "\n",
    "\n",
    "# import random\n",
    "\n",
    "# random_numbers = [random.randint(1, 20) for _ in range(15)]\n",
    "# print(f\"Original list: {random_numbers}\")\n",
    "\n",
    "# sorted_numbers = sorted(random_numbers)\n",
    "# print(f\"Sorted in ascending order: {sorted_numbers}\")\n",
    "\n",
    "# sorted_numbers_desc = sorted(random_numbers, reverse=True)\n",
    "# print(f\"Sorted in descending order: {sorted_numbers_desc}\")\n",
    "\n",
    "# unique_numbers = list(set(random_numbers))\n",
    "# print(f\"List with duplicates removed: {unique_numbers}\")"
   ]
  },
  {
   "cell_type": "markdown",
   "metadata": {},
   "source": [
    "### Assignment 7: Nested Lists\n",
    "\n",
    "Create a nested list representing a 3x3 matrix and print the matrix. Access and print the element at the second row and third column."
   ]
  },
  {
   "cell_type": "code",
   "execution_count": 29,
   "metadata": {},
   "outputs": [
    {
     "name": "stdout",
     "output_type": "stream",
     "text": [
      "[[1, 2, 3, 4, 5], [6, 7, 8, 9, 10], [11, 12, 13, 14, 15]]\n",
      "[6, 7, 8, 9, 10]\n",
      "[3, 8, 13]\n",
      "Matrix:\n",
      "[1, 2, 3]\n",
      "[4, 5, 6]\n",
      "[7, 8, 9]\n",
      "Element at second row and third column: 6\n"
     ]
    }
   ],
   "source": [
    "matrix=[\n",
    "    [1,2,3,4,5],\n",
    "    [6,7,8,9,10],\n",
    "    [11,12,13,14,15]\n",
    "]\n",
    "\n",
    "print(matrix)\n",
    "\n",
    "second_row=matrix[1]\n",
    "print(second_row)\n",
    "\n",
    "third_column = [row[2] for row in matrix]\n",
    "print(third_column)\n",
    "\n",
    "\n",
    "\n",
    "\n",
    "\n",
    "\n",
    "\n",
    "\n",
    "\n",
    "\n",
    "\n",
    "\n",
    "\n",
    "\n",
    "\n",
    "\n",
    "\n",
    "\n",
    "\n",
    "\n",
    "\n",
    "\n",
    "\n",
    "\n",
    "\n",
    "\n",
    "\n",
    "\n",
    "\n",
    "matrix = [\n",
    "    [1, 2, 3],\n",
    "    [4, 5, 6],\n",
    "    [7, 8, 9]\n",
    "]\n",
    "print(\"Matrix:\")\n",
    "for row in matrix:\n",
    "    print(row)\n",
    "print(f\"Element at second row and third column: {matrix[1][2]}\")"
   ]
  },
  {
   "cell_type": "markdown",
   "metadata": {},
   "source": [
    "### Assignment 8: List of Dictionaries\n",
    "\n",
    "Create a list of dictionaries where each dictionary represents a student with keys 'name' and 'score'. Sort the list of dictionaries by the 'score' in descending order and print the sorted list."
   ]
  },
  {
   "cell_type": "code",
   "execution_count": null,
   "metadata": {},
   "outputs": [
    {
     "name": "stdout",
     "output_type": "stream",
     "text": [
      "{'name': 'Charlie', 'score': 95}\n",
      "{'name': 'Alice', 'score': 88}\n",
      "{'name': 'Eve', 'score': 78}\n",
      "{'name': 'Bob', 'score': 72}\n",
      "{'name': 'David', 'score': 65}\n"
     ]
    }
   ],
   "source": [
    "students = [\n",
    "    {'name': 'Alice', 'score': 88},\n",
    "    {'name': 'Bob', 'score': 72},\n",
    "    {'name': 'Charlie', 'score': 95},\n",
    "    {'name': 'David', 'score': 65},\n",
    "    {'name': 'Eve', 'score': 78}\n",
    "]\n",
    "desc=sorted(students, key=lambda x:x[\"score\"], reverse=True)\n",
    "for i in desc:\n",
    "  print(i)\n",
    "\n",
    "\n",
    "\n",
    "\n",
    "\n",
    "\n",
    "\n",
    "\n",
    "\n",
    "\n",
    "\n",
    "\n",
    "\n",
    "\n",
    "\n",
    "\n",
    "\n",
    "\n",
    "\n",
    "\n",
    "\n",
    "\n",
    "\n",
    "\n",
    "\n",
    "\n",
    "\n",
    "\n",
    "\n",
    "\n",
    "\n",
    "\n",
    "\n",
    "\n",
    "\n",
    "\n",
    "\n",
    "\n",
    "\n",
    "\n",
    "\n",
    "\n",
    "\n",
    "\n",
    "\n",
    "\n",
    "\n",
    "\n",
    "\n",
    "\n",
    "\n",
    "\n",
    "\n",
    "# sorted_students = sorted(students, key=lambda x: x['score'], reverse=True)\n",
    "# print(\"Sorted students by score in descending order:\")\n",
    "# for student in sorted_students:\n",
    "#     print(student)"
   ]
  },
  {
   "cell_type": "markdown",
   "metadata": {},
   "source": [
    "### Assignment 9: Matrix Transposition\n",
    "\n",
    "Write a function that takes a 3x3 matrix (nested list) as input and returns its transpose. Print the original and transposed matrices."
   ]
  },
  {
   "cell_type": "code",
   "execution_count": null,
   "metadata": {},
   "outputs": [
    {
     "name": "stdout",
     "output_type": "stream",
     "text": [
      "[1, 4, 7]\n",
      "[2, 5, 8]\n",
      "[3, 6, 9]\n"
     ]
    }
   ],
   "source": [
    "\n",
    "\n",
    "matrix = [\n",
    "    [1, 2, 3],\n",
    "    [4, 5, 6],\n",
    "    [7, 8, 9]\n",
    "]\n",
    "transpose=[[0,0,0],\n",
    "           [0,0,0],\n",
    "           [0,0,0],\n",
    "           ]\n",
    "rows=len(matrix)\n",
    "cols=len(matrix[0])\n",
    "\n",
    "for i in range(rows):\n",
    "  for j in range(cols):\n",
    "    transpose[j][i]=matrix[i][j]\n",
    "\n",
    "\n",
    "for i in transpose:\n",
    "        print(i)\n",
    "\n",
    "        \n",
    "\n",
    "#def transpose_matrix(matrix):\n",
    "#     transposed = [[matrix[j][i] for j in range(len(matrix))] for i in range(len(matrix[0]))]\n",
    "#     return transposed\n",
    "\n",
    "# transposed = transpose_matrix(matrix)\n",
    "# print(\"Original matrix:\")\n",
    "# for row in matrix:\n",
    "#     print(row)\n",
    "# print(\"Transposed matrix:\")\n",
    "# for row in transposed:\n",
    "#     print(row)"
   ]
  },
  {
   "cell_type": "markdown",
   "metadata": {},
   "source": [
    "### Assignment 10: Flattening a Nested List\n",
    "\n",
    "Write a function that takes a nested list and flattens it into a single list. Print the original and flattened lists."
   ]
  },
  {
   "cell_type": "code",
   "execution_count": 4,
   "metadata": {},
   "outputs": [
    {
     "name": "stdout",
     "output_type": "stream",
     "text": [
      "original list : [[1, 2, 3], [4, 5], [6, 7, 8, 9]]\n",
      "flatten list : [1, 2, 3, 4, 5, 6, 7, 8, 9]\n"
     ]
    }
   ],
   "source": [
    "\n",
    "#flatting a list means making 1 list out of list of list\n",
    "original=[\n",
    "    [1,2,3],\n",
    "    [4,5],\n",
    "    [6,7,8,9]\n",
    "]\n",
    "\n",
    "result=[]\n",
    "# result=[j for i in original for j in i]\n",
    "for i in original:\n",
    "  for j in i:\n",
    "    result.append(j)\n",
    "print(f\"original list : {original}\")\n",
    "\n",
    "print(f\"flatten list : {result}\")\n",
    "\n",
    "\n",
    "\n",
    "\n",
    "\n",
    "\n",
    "\n",
    "\n",
    "\n",
    "\n",
    "\n",
    "\n",
    "\n",
    "\n",
    "\n",
    "\n",
    "\n",
    "\n",
    "\n",
    "\n",
    "# def flatten_list(nested_list):\n",
    "#     flat_list = [item for sublist in nested_list for item in sublist]\n",
    "#     return flat_list\n",
    "\n",
    "# nested_list = [\n",
    "#     [1, 2, 3],\n",
    "#     [4, 5, 6],\n",
    "#     [7, 8, 9]\n",
    "# ]\n",
    "# flattened = flatten_list(nested_list)\n",
    "# print(\"Original nested list:\")\n",
    "# print(nested_list)\n",
    "# print(\"Flattened list:\")\n",
    "# print(flattened)"
   ]
  },
  {
   "cell_type": "markdown",
   "metadata": {},
   "source": [
    "### Assignment 11: List Manipulation\n",
    "\n",
    "Create a list of the first 10 positive integers. Remove the elements at indices 2, 4, and 6, and insert the element '99' at index 5. Print the modified list."
   ]
  },
  {
   "cell_type": "code",
   "execution_count": 14,
   "metadata": {},
   "outputs": [
    {
     "name": "stdout",
     "output_type": "stream",
     "text": [
      "[1, 2, 3, 4, 5, 6, 7, 8, 9, 10]\n",
      "None None None\n"
     ]
    },
    {
     "data": {
      "text/plain": [
       "[1, 2, 4, 6, 8, 99, 10]"
      ]
     },
     "execution_count": 14,
     "metadata": {},
     "output_type": "execute_result"
    }
   ],
   "source": [
    "lst=[]\n",
    "for i in range(1,11):\n",
    "  lst.append(i)\n",
    "\n",
    "print(lst)\n",
    "\n",
    "\n",
    "a=lst.remove(3)\n",
    "b=lst.remove(5)\n",
    "c=lst.remove(7)\n",
    "\n",
    "print(a,b,c)\n",
    "lst\n",
    "\n",
    "lst[5]=99\n",
    "lst\n",
    "\n",
    "\n",
    "\n",
    "\n",
    "\n",
    "\n",
    "\n",
    "\n",
    "\n",
    "\n",
    "\n",
    "\n",
    "\n",
    "\n",
    "\n",
    "\n",
    "\n",
    "\n",
    "\n",
    "\n",
    "\n",
    "\n",
    "# lst = list(range(1, 11))\n",
    "# print(f\"Original list: {lst}\")\n",
    "# del lst[6]\n",
    "# del lst[4]\n",
    "# del lst[2]\n",
    "# lst.insert(5, 99)\n",
    "# print(f\"Modified list: {lst}\")"
   ]
  },
  {
   "cell_type": "markdown",
   "metadata": {},
   "source": [
    "### Assignment 12: List Zipping\n",
    "\n",
    "Create two lists of the same length. Use the `zip` function to combine these lists into a list of tuples and print the result."
   ]
  },
  {
   "cell_type": "code",
   "execution_count": 18,
   "metadata": {},
   "outputs": [
    {
     "name": "stdout",
     "output_type": "stream",
     "text": [
      "[1, 'a'] [2, 'b'] [3, 'c'] [4, 'd'] [5, 'e'] "
     ]
    }
   ],
   "source": [
    "list1 = [1, 2, 3, 4, 5]\n",
    "list2 = ['a', 'b', 'c', 'd', 'e']\n",
    "\n",
    "for a,b in zip(list1,list2):\n",
    "  print(list((a,b)),end=\" \")\n",
    "\n",
    "# zipped = list(zip(list1, list2))\n",
    "# print(zipped)"
   ]
  },
  {
   "cell_type": "markdown",
   "metadata": {},
   "source": [
    "### Assignment 13: List Reversal\n",
    "\n",
    "Write a function that takes a list and returns a new list with the elements in reverse order. Print the original and reversed lists."
   ]
  },
  {
   "cell_type": "code",
   "execution_count": 19,
   "metadata": {},
   "outputs": [
    {
     "name": "stdout",
     "output_type": "stream",
     "text": [
      "original list is [1, 2, 3, 4, 5]\n",
      "reversed list is [5, 4, 3, 2, 1]\n"
     ]
    }
   ],
   "source": [
    "\n",
    "a=[1,2,3,4,5]\n",
    "b=a[::-1]\n",
    "\n",
    "print(f\"original list is {a}\")\n",
    "print(f\"reversed list is {b}\")\n",
    "\n",
    "\n",
    "\n",
    "\n",
    "\n",
    "\n",
    "\n",
    "\n",
    "\n",
    "\n",
    "\n",
    "\n",
    "\n",
    "\n",
    "\n",
    "# def reverse_list(lst):\n",
    "#     return lst[::-1]\n",
    "\n",
    "# original_list = [1, 2, 3, 4, 5]\n",
    "# reversed_list = reverse_list(original_list)\n",
    "# print(f\"Original list: {original_list}\")\n",
    "# print(f\"Reversed list: {reversed_list}\")"
   ]
  },
  {
   "cell_type": "markdown",
   "metadata": {},
   "source": [
    "### Assignment 14: List Rotation\n",
    "\n",
    "Write a function that rotates a list by n positions. Print the original and rotated lists.\n",
    "\n",
    "\n",
    "\n",
    "\n",
    "\n",
    "\n",
    "\n",
    "\n",
    "Sure! Let’s **easily understand** what `rotated = list1[n:] + list1[:n]` means, step by step.\n",
    "\n",
    "---\n",
    "\n",
    "### 🧠 You have this list:\n",
    "\n",
    "```python\n",
    "list1 = [1, 2, 3, 4, 5]\n",
    "n = 2  # rotate by 2 positions to the left\n",
    "```\n",
    "\n",
    "---\n",
    "\n",
    "### 🔄 Goal:\n",
    "\n",
    "Rotate it **left by 2 positions** → so first 2 elements go to the end.\n",
    "\n",
    "```\n",
    "Original: [1, 2, 3, 4, 5]\n",
    "Rotate left by 2 → [3, 4, 5, 1, 2]\n",
    "```\n",
    "\n",
    "---\n",
    "\n",
    "### 🔍 What `list1[n:]` does:\n",
    "\n",
    "```python\n",
    "list1[2:] → [3, 4, 5]  # from index 2 to end\n",
    "```\n",
    "\n",
    "### 🔍 What `list1[:n]` does:\n",
    "\n",
    "```python\n",
    "list1[:2] → [1, 2]  # from start to index 2 (not included)\n",
    "```\n",
    "\n",
    "---\n",
    "\n",
    "### ➕ Combine both:\n",
    "\n",
    "```python\n",
    "rotated = list1[2:] + list1[:2]\n",
    "         = [3, 4, 5] + [1, 2]\n",
    "         = [3, 4, 5, 1, 2]\n",
    "```\n",
    "\n",
    "---\n",
    "\n",
    "### ✅ Final Output:\n",
    "\n",
    "```python\n",
    "Rotated List: [3, 4, 5, 1, 2]\n",
    "```\n",
    "\n",
    "Let me know if you want to visualize right rotation too!\n"
   ]
  },
  {
   "cell_type": "code",
   "execution_count": 30,
   "metadata": {},
   "outputs": [
    {
     "name": "stdout",
     "output_type": "stream",
     "text": [
      "Original list: [1, 2, 3, 4, 5]\n",
      "Rotated list: [3, 4, 5, 1, 2]\n"
     ]
    }
   ],
   "source": [
    "\n",
    "original_list = [1, 2, 3, 4, 5]\n",
    "n=2\n",
    "rotated_list=list1[n:]+list1[:n]\n",
    "print(f\"Original list: {original_list}\")\n",
    "print(f\"Rotated list: {rotated_list}\")"
   ]
  },
  {
   "cell_type": "markdown",
   "metadata": {},
   "source": [
    "### Assignment 15: List Intersection\n",
    "\n",
    "Write a function that takes two lists and returns a new list containing only the elements that are present in both lists. Print the intersected list."
   ]
  },
  {
   "cell_type": "code",
   "execution_count": null,
   "metadata": {},
   "outputs": [
    {
     "name": "stdout",
     "output_type": "stream",
     "text": [
      "List 1: [1, 2, 3, 4, 5]\n",
      "List 2: [3, 4, 5, 6, 7]\n",
      "Intersection: [3, 4, 5]\n"
     ]
    }
   ],
   "source": [
    "\n",
    "list1 = [1, 2, 3, 4, 5]\n",
    "list2 = [3, 4, 5, 6, 7]\n",
    "intersection=[]\n",
    "\n",
    "\n",
    "for i in list1:\n",
    "    if i in list2:\n",
    "        intersection.append(i)\n",
    "\n",
    "print(f\"List 1: {list1}\")\n",
    "print(f\"List 2: {list2}\")\n",
    "print(f\"Intersection: {intersection}\")\n",
    "\n",
    "\n",
    "\n",
    "# def list_intersection(lst1, lst2):\n",
    "#     return [x for x in lst1 if x in lst2]\n",
    "# intersection = list_intersection(list1, list2)"
   ]
  }
 ],
 "metadata": {
  "kernelspec": {
   "display_name": ".venv",
   "language": "python",
   "name": "python3"
  },
  "language_info": {
   "codemirror_mode": {
    "name": "ipython",
    "version": 3
   },
   "file_extension": ".py",
   "mimetype": "text/x-python",
   "name": "python",
   "nbconvert_exporter": "python",
   "pygments_lexer": "ipython3",
   "version": "3.11.9"
  }
 },
 "nbformat": 4,
 "nbformat_minor": 5
}

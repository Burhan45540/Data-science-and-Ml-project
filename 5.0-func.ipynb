{
 "cells": [
  {
   "cell_type": "markdown",
   "id": "259a2a5e",
   "metadata": {},
   "source": [
    "\n",
    "\n",
    "### ✅ **Definition:**\n",
    "\n",
    "A function in Python is a block of reusable code that performs a specific task. It is defined using the `def` keyword.\n",
    "\n",
    "---\n",
    "\n",
    "### ✅ **Syntax:**\n",
    "\n",
    "```python\n",
    "def function_name(parameters):\n",
    "    \"\"\"This is a docstring that describes the function.\"\"\"\n",
    "    # block of code\n",
    "    return value\n",
    "```\n",
    "\n",
    "---\n",
    "\n",
    "### ✅ **Example:**\n",
    "\n",
    "```python\n",
    "def add_numbers(a, b):\n",
    "    \"\"\"This function adds two numbers and returns the result.\"\"\"\n",
    "    result = a + b      # block of code\n",
    "    return result        # return statement\n",
    "```\n",
    "\n",
    "---\n",
    "\n",
    "### ✅ **Explanation:**\n",
    "\n",
    "* `def` – Used to define a function.\n",
    "* `add_numbers` – Function name.\n",
    "* `a, b` – Parameters (inputs).\n",
    "* `\"\"\"...\"\"\"` – Docstring: describes what the function does.\n",
    "* `result = a + b` – Block of code inside the function.\n",
    "* `return result` – Returns the output back to the caller.\n",
    "\n",
    "---\n",
    "\n",
    "### ✅ **Calling the function:**\n",
    "\n",
    "```python\n",
    "sum_value = add_numbers(5, 3)\n",
    "print(sum_value)   # Output: 8\n",
    "```\n",
    "\n",
    "\n"
   ]
  }
 ],
 "metadata": {
  "kernelspec": {
   "display_name": ".venv",
   "language": "python",
   "name": "python3"
  },
  "language_info": {
   "name": "python",
   "version": "3.11.9"
  }
 },
 "nbformat": 4,
 "nbformat_minor": 5
}

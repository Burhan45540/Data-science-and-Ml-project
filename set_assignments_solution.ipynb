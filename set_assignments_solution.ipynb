{
 "cells": [
  {
   "cell_type": "markdown",
   "metadata": {},
   "source": [
    "# Module 3: Data Structures Assignments\n",
    "## Lesson 3.3: Sets\n",
    "### Assignment 1: Creating and Accessing Sets\n",
    "\n",
    "Create a set with the first 10 positive integers. Print the set."
   ]
  },
  {
   "cell_type": "code",
   "execution_count": 1,
   "metadata": {},
   "outputs": [
    {
     "name": "stdout",
     "output_type": "stream",
     "text": [
      "{1, 2, 3, 4, 5, 6, 7, 8, 9, 10}\n"
     ]
    }
   ],
   "source": [
    "set1=set(range(1,11))\n",
    "print(set1)\n",
    "\n",
    "\n",
    "\n",
    "\n",
    "\n",
    "\n",
    "\n",
    "\n",
    "\n",
    "\n",
    "\n",
    "\n",
    "\n",
    "\n",
    "\n",
    "\n",
    "\n",
    "\n",
    "\n",
    "\n",
    "\n",
    "\n",
    "\n",
    "\n",
    "\n",
    "\n",
    "\n",
    "\n",
    "\n",
    "\n",
    "\n",
    "\n",
    "\n",
    "\n",
    "\n",
    "\n",
    "# s = set(range(1, 11))\n",
    "# print(s)"
   ]
  },
  {
   "cell_type": "markdown",
   "metadata": {},
   "source": [
    "### Assignment 2: Adding and Removing Elements\n",
    "\n",
    "Add the number 11 to the set created in Assignment 1. Then remove the number 1 from the set. Print the modified set."
   ]
  },
  {
   "cell_type": "code",
   "execution_count": 4,
   "metadata": {},
   "outputs": [
    {
     "name": "stdout",
     "output_type": "stream",
     "text": [
      "original list:{2, 3, 4, 5, 6, 7, 9, 10, 11, 21}\n",
      "modified list is {2, 3, 4, 5, 6, 7, 9, 10, 11, 21}\n"
     ]
    }
   ],
   "source": [
    "\n",
    "set1.add(21)\n",
    "set1.remove(8)\n",
    "print(f\"original list:{set1}\")\n",
    "print(f\"modified list is {set1}\")\n",
    "\n",
    "\n",
    "\n",
    "\n",
    "\n",
    "\n",
    "\n",
    "\n",
    "\n",
    "\n",
    "\n",
    "\n",
    "\n",
    "\n",
    "\n",
    "\n",
    "\n",
    "\n",
    "\n",
    "\n",
    "\n",
    "# s.add(11)\n",
    "# s.remove(1)\n",
    "# print(s)"
   ]
  },
  {
   "cell_type": "markdown",
   "metadata": {},
   "source": [
    "### Assignment 3: Set Operations\n",
    "\n",
    "Create two sets: one with the first 5 positive integers and another with the first 5 even integers. Perform and print the results of union, intersection, difference, and symmetric difference operations on these sets."
   ]
  },
  {
   "cell_type": "code",
   "execution_count": 7,
   "metadata": {},
   "outputs": [
    {
     "name": "stdout",
     "output_type": "stream",
     "text": [
      "set2:{1, 2, 3, 4, 5}\n",
      "set3:{2, 4, 6, 8, 10}\n",
      "union:{1, 2, 3, 4, 5, 6, 8, 10}\n",
      "intersection:{2, 4}\n",
      "difference:{1, 3, 5}\n",
      "symmetric difference:{1, 3, 5, 6, 8, 10}\n"
     ]
    }
   ],
   "source": [
    "set2=set(range(1,6))\n",
    "set3=set(i for i in range(1,11) if i%2==0)\n",
    "\n",
    "print(f\"set2:{set2}\")\n",
    "print(f\"set3:{set3}\")\n",
    "\n",
    "a=set2.union(set3)\n",
    "b=set2.intersection(set3)\n",
    "c=set2.difference(set3)\n",
    "d=set2.symmetric_difference(set3)\n",
    "\n",
    "\n",
    "print(f\"union:{a}\")\n",
    "print(f\"intersection:{b}\")\n",
    "print(f\"difference:{c}\")\n",
    "print(f\"symmetric difference:{d}\")\n",
    "\n",
    "\n",
    "\n",
    "\n",
    "\n",
    "\n",
    "\n",
    "\n",
    "\n",
    "\n",
    "\n",
    "\n",
    "\n",
    "\n",
    "\n",
    "\n",
    "\n",
    "\n",
    "\n",
    "\n",
    "\n",
    "\n",
    "\n",
    "\n",
    "\n",
    "# set1 = set(range(1, 6))\n",
    "# set2 = set(range(2, 11, 2))\n",
    "# print(f\"Union: {set1 | set2}\")\n",
    "# print(f\"Intersection: {set1 & set2}\")\n",
    "# print(f\"Difference (set1 - set2): {set1 - set2}\")\n",
    "# print(f\"Symmetric Difference: {set1 ^ set2}\")"
   ]
  },
  {
   "cell_type": "markdown",
   "metadata": {},
   "source": [
    "### Assignment 4: Set Comprehensions\n",
    "\n",
    "Create a new set containing the squares of the first 10 positive integers using a set comprehension. Print the new set."
   ]
  },
  {
   "cell_type": "code",
   "execution_count": 9,
   "metadata": {},
   "outputs": [
    {
     "name": "stdout",
     "output_type": "stream",
     "text": [
      "{64, 1, 4, 36, 100, 9, 16, 49, 81, 25}\n",
      "{64, 1, 4, 36, 100, 9, 16, 49, 81, 25}\n"
     ]
    }
   ],
   "source": [
    "\n",
    "\n",
    "set4=set( i**2 for i in range(1,11) )\n",
    "print(set4)\n",
    "\n",
    "\n",
    "\n",
    "\n",
    "\n",
    "\n",
    "\n",
    "\n",
    "\n",
    "\n",
    "\n",
    "\n",
    "\n",
    "\n",
    "\n",
    "\n",
    "\n",
    "\n",
    "\n",
    "\n",
    "\n",
    "\n",
    "\n",
    "\n",
    "\n",
    "\n",
    "\n",
    "\n",
    "squares = {x**2 for x in range(1, 11)}\n",
    "print(squares)"
   ]
  },
  {
   "cell_type": "markdown",
   "metadata": {},
   "source": [
    "### Assignment 5: Filtering Sets\n",
    "\n",
    "Create a new set containing only the even numbers from the set created in Assignment 1 using a set comprehension. Print the new set."
   ]
  },
  {
   "cell_type": "code",
   "execution_count": 11,
   "metadata": {},
   "outputs": [
    {
     "name": "stdout",
     "output_type": "stream",
     "text": [
      "{2, 4, 6, 8, 10}\n"
     ]
    }
   ],
   "source": [
    "set1=set(i for i in range(1,11) if i%2==0)\n",
    "print(set1)\n",
    "\n",
    "\n",
    "\n",
    "\n",
    "\n",
    "\n",
    "\n",
    "\n",
    "\n",
    "\n",
    "\n",
    "\n",
    "\n",
    "\n",
    "\n",
    "\n",
    "\n",
    "\n",
    "\n",
    "\n",
    "\n",
    "\n",
    "\n",
    "# evens = {x for x in s if x % 2 == 0}\n",
    "# print(evens)"
   ]
  },
  {
   "cell_type": "markdown",
   "metadata": {},
   "source": [
    "### Assignment 6: Set Methods\n",
    "\n",
    "Create a set with duplicate elements and remove the duplicates using set methods. Print the modified set."
   ]
  },
  {
   "cell_type": "code",
   "execution_count": 12,
   "metadata": {},
   "outputs": [
    {
     "name": "stdout",
     "output_type": "stream",
     "text": [
      "{1, 2, 3, 4, 5, 6, 8, 9}\n"
     ]
    }
   ],
   "source": [
    "\n",
    "set5={1,2,2,2,3,4,5,6,5,5,8,9,}\n",
    "print(set(set5))\n",
    "\n",
    "\n",
    "\n",
    "\n",
    "\n",
    "\n",
    "\n",
    "\n",
    "\n",
    "\n",
    "\n",
    "\n",
    "\n",
    "\n",
    "\n",
    "\n",
    "\n",
    "\n",
    "\n",
    "\n",
    "\n",
    "\n",
    "\n",
    "# s = {1, 2, 2, 3, 4, 4, 5}\n",
    "# unique_s = set(s)\n",
    "# print(unique_s)"
   ]
  },
  {
   "cell_type": "markdown",
   "metadata": {},
   "source": [
    "### Assignment 7: Subsets and Supersets\n",
    "\n",
    "Create two sets: one with the first 5 positive integers and another with the first 3 positive integers. Check if the second set is a subset of the first set and if the first set is a superset of the second set. Print the results."
   ]
  },
  {
   "cell_type": "code",
   "execution_count": 16,
   "metadata": {},
   "outputs": [
    {
     "name": "stdout",
     "output_type": "stream",
     "text": [
      "set6:{1, 2, 3, 4, 5}\n",
      "set7:{1, 2, 3}\n",
      "subset:True\n",
      "superset:True\n"
     ]
    }
   ],
   "source": [
    "\n",
    "set6=set(range(1,6))\n",
    "set7=set(range(1,4))\n",
    "print(f\"set6:{set6}\")\n",
    "print(f\"set7:{set7}\")\n",
    "\n",
    "a=set7.issubset(set6)\n",
    "print(f\"subset:{a}\")\n",
    "\n",
    "b=set6.issuperset(set7)\n",
    "print(f\"superset:{b}\")\n",
    "\n",
    "\n",
    "\n",
    "\n",
    "\n",
    "\n",
    "\n",
    "\n",
    "\n",
    "\n",
    "\n",
    "\n",
    "\n",
    "\n",
    "\n",
    "\n",
    "\n",
    "\n",
    "\n",
    "\n",
    "\n",
    "\n",
    "\n",
    "\n",
    "\n",
    "# set1 = set(range(1, 6))\n",
    "# set2 = set(range(1, 4))\n",
    "# print(f\"Is set2 a subset of set1? {set2.issubset(set1)}\")\n",
    "# print(f\"Is set1 a superset of set2? {set1.issuperset(set2)}\")"
   ]
  },
  {
   "cell_type": "markdown",
   "id": "67622a4b",
   "metadata": {},
   "source": [
    "### 🧊 **frozenset** in Python (Simple Explanation)\n",
    "\n",
    "#### 📘 Definition:\n",
    "\n",
    "A **frozenset** is just like a **set**, but it is **immutable** (cannot be changed after creation).\n",
    "\n",
    "---\n",
    "\n",
    "### ✅ Key Points:\n",
    "\n",
    "* Stores **unique, unordered elements** (like a set).\n",
    "* **Cannot** add, remove, or change items.\n",
    "* Useful when you need a set that must not change (e.g., as a key in a dictionary).\n",
    "\n",
    "---\n",
    "\n",
    "### 🧪 Example:\n",
    "\n",
    "```python\n",
    "fs = frozenset([1, 2, 3, 2, 1])\n",
    "print(fs)  # Output: frozenset({1, 2, 3})\n",
    "```\n",
    "\n",
    "---\n",
    "\n",
    "### 🔒 Not Allowed:\n",
    "\n",
    "```python\n",
    "fs.add(4)      # ❌ Error\n",
    "fs.remove(2)   # ❌ Error\n",
    "```\n",
    "\n",
    "---\n",
    "\n",
    "### ✅ Allowed Operations:\n",
    "\n",
    "You can still use:\n",
    "\n",
    "* `len()`\n",
    "* `in` (membership check)\n",
    "* set operations like union, intersection, etc.\n",
    "\n",
    "```python\n",
    "fs1 = frozenset([1, 2])\n",
    "fs2 = frozenset([2, 3])\n",
    "print(fs1 | fs2)  # Output: frozenset({1, 2, 3}) → union\n",
    "```\n",
    "\n",
    "---\n",
    "\n",
    "### 📌 Summary:\n",
    "\n",
    "> `frozenset` = **set that you cannot change** (read-only version of a set).\n"
   ]
  },
  {
   "cell_type": "markdown",
   "metadata": {},
   "source": [
    "### Assignment 8: Frozenset\n",
    "\n",
    "Create a frozenset with the first 5 positive integers. Print the frozenset."
   ]
  },
  {
   "cell_type": "code",
   "execution_count": null,
   "metadata": {},
   "outputs": [],
   "source": [
    "\n",
    "\n",
    "fs = frozenset(range(1, 6))\n",
    "print(fs)"
   ]
  },
  {
   "cell_type": "markdown",
   "metadata": {},
   "source": [
    "### Assignment 9: Set and List Conversion\n",
    "\n",
    "Create a set with the first 5 positive integers. Convert it to a list, append the number 6, and convert it back to a set. Print the resulting set."
   ]
  },
  {
   "cell_type": "code",
   "execution_count": 17,
   "metadata": {},
   "outputs": [
    {
     "name": "stdout",
     "output_type": "stream",
     "text": [
      "original set:{1, 2, 3, 4, 5}\n",
      "resulting set:{1, 2, 3, 4, 5, 6}\n"
     ]
    }
   ],
   "source": [
    "\n",
    "set7=set(range(1,6))\n",
    "print(f\"original set:{set7}\")\n",
    "lst=list(set7)\n",
    "lst.append(6)\n",
    "set8=set(lst)\n",
    "print(f\"resulting set:{set8}\")\n",
    "\n",
    "\n",
    "\n",
    "\n",
    "\n",
    "\n",
    "\n",
    "\n",
    "\n",
    "\n",
    "\n",
    "\n",
    "\n",
    "\n",
    "\n",
    "\n",
    "\n",
    "\n",
    "\n",
    "\n",
    "\n",
    "\n",
    "\n",
    "\n",
    "\n",
    "\n",
    "\n",
    "\n",
    "\n",
    "\n",
    "\n",
    "# s = set(range(1, 6))\n",
    "# lst = list(s)\n",
    "# lst.append(6)\n",
    "# s = set(lst)\n",
    "# print(s)"
   ]
  },
  {
   "cell_type": "markdown",
   "metadata": {},
   "source": [
    "### Assignment 10: Set and Dictionary\n",
    "\n",
    "Create a dictionary with set keys and integer values. Print the dictionary."
   ]
  },
  {
   "cell_type": "code",
   "execution_count": null,
   "metadata": {},
   "outputs": [],
   "source": [
    "\n",
    "\n",
    "\n",
    "\n",
    "\n",
    "\n",
    "\n",
    "\n",
    "\n",
    "\n",
    "\n",
    "\n",
    "\n",
    "\n",
    "\n",
    "\n",
    "\n",
    "\n",
    "\n",
    "\n",
    "\n",
    "\n",
    "\n",
    "\n",
    "\n",
    "\n",
    "\n",
    "\n",
    "\n",
    "\n",
    "\n",
    "\n",
    "\n",
    "\n",
    "\n",
    "# d = {\n",
    "#     frozenset({1, 2}): 3,\n",
    "#     frozenset({3, 4}): 7,\n",
    "#     frozenset({5, 6}): 11\n",
    "# }\n",
    "# print(d)"
   ]
  },
  {
   "cell_type": "markdown",
   "metadata": {},
   "source": [
    "### Assignment 11: Iterating Over Sets\n",
    "\n",
    "Create a set and iterate over the elements, printing each element."
   ]
  },
  {
   "cell_type": "code",
   "execution_count": 18,
   "metadata": {},
   "outputs": [
    {
     "name": "stdout",
     "output_type": "stream",
     "text": [
      "1 2 3 4 5 6 7 8 "
     ]
    }
   ],
   "source": [
    "\n",
    "set9={1,2,3,4,5,6,7,8}\n",
    "\n",
    "for i in set9:\n",
    "  print(i,end=\" \")\n",
    "\n",
    "\n",
    "\n",
    "\n",
    "\n",
    "\n",
    "\n",
    "\n",
    "\n",
    "\n",
    "\n",
    "\n",
    "\n",
    "\n",
    "\n",
    "\n",
    "\n",
    "\n",
    "\n",
    "\n",
    "\n",
    "\n",
    "# s = set(range(1, 6))\n",
    "# for elem in s:\n",
    "#     print(elem)"
   ]
  },
  {
   "cell_type": "markdown",
   "metadata": {},
   "source": [
    "### Assignment 12: Removing Elements from Sets\n",
    "\n",
    "Create a set and remove elements from it until it is empty. Print the set after each removal."
   ]
  },
  {
   "cell_type": "code",
   "execution_count": 20,
   "metadata": {},
   "outputs": [
    {
     "name": "stdout",
     "output_type": "stream",
     "text": [
      "{2, 3, 4, 5, 6, 7, 8, 9, 10}\n",
      "{3, 4, 5, 6, 7, 8, 9, 10}\n",
      "{4, 5, 6, 7, 8, 9, 10}\n",
      "{5, 6, 7, 8, 9, 10}\n",
      "{6, 7, 8, 9, 10}\n",
      "{7, 8, 9, 10}\n",
      "{8, 9, 10}\n",
      "{9, 10}\n",
      "{10}\n",
      "set()\n"
     ]
    }
   ],
   "source": [
    "\n",
    "set10=set(range(1,11))\n",
    "while set10:\n",
    "  set10.pop()\n",
    "  print(set10)\n",
    "\n",
    "\n",
    "\n",
    "\n",
    "\n",
    "\n",
    "\n",
    "\n",
    "\n",
    "\n",
    "\n",
    "\n",
    "\n",
    "# s = set(range(1, 6))\n",
    "# while s:\n",
    "#     s.pop()\n",
    "#     print(s)"
   ]
  },
  {
   "cell_type": "markdown",
   "metadata": {},
   "source": [
    "### Assignment 13: Set Symmetric Difference Update\n",
    "\n",
    "Create two sets and update the first set with the symmetric difference of the two sets. Print the modified first set."
   ]
  },
  {
   "cell_type": "code",
   "execution_count": 22,
   "metadata": {},
   "outputs": [
    {
     "name": "stdout",
     "output_type": "stream",
     "text": [
      "{1, 2, 3, 4, 5, 6, 7, 8, 9, 10}\n",
      "{2, 4, 6, 8, 10}\n",
      "{1, 3, 5, 7, 9}\n"
     ]
    }
   ],
   "source": [
    "set11=set(range(1,11))\n",
    "\n",
    "set12=set(i for i in range(1,11) if i%2==0)\n",
    "\n",
    "print(set11)\n",
    "print(set12)\n",
    "a=set11.symmetric_difference(set12)\n",
    "print(a)\n",
    "\n",
    "\n",
    "\n",
    "\n",
    "\n",
    "\n",
    "\n",
    "\n",
    "\n",
    "\n",
    "\n",
    "\n",
    "\n",
    "\n",
    "\n",
    "\n",
    "\n",
    "\n",
    "\n",
    "\n",
    "\n",
    "\n",
    "\n",
    "\n",
    "# set1 = {1, 2, 3}\n",
    "# set2 = {3, 4, 5}\n",
    "# set1.symmetric_difference_update(set2)\n",
    "# print(set1)"
   ]
  },
  {
   "cell_type": "markdown",
   "metadata": {},
   "source": [
    "### Assignment 14: Set Membership Testing\n",
    "\n",
    "Create a set and test if certain elements are present in the set. Print the results."
   ]
  },
  {
   "cell_type": "code",
   "execution_count": 23,
   "metadata": {},
   "outputs": [
    {
     "name": "stdout",
     "output_type": "stream",
     "text": [
      "False\n",
      "True\n",
      "False\n",
      "True\n",
      "True\n"
     ]
    }
   ],
   "source": [
    "\n",
    "set13=set(range(1,11))\n",
    "\n",
    "print(13 in set13)\n",
    "print(3 in set13)\n",
    "print(11 in set13)\n",
    "print(1 in set13)\n",
    "print(7 in set13)\n",
    "\n",
    "\n",
    "\n",
    "\n",
    "\n",
    "\n",
    "\n",
    "\n",
    "\n",
    "\n",
    "\n",
    "\n",
    "\n",
    "\n",
    "\n",
    "\n",
    "\n",
    "\n",
    "\n",
    "\n",
    "\n",
    "\n",
    "# s = set(range(1, 6))\n",
    "# print(3 in s)\n",
    "# print(6 in s)"
   ]
  },
  {
   "cell_type": "markdown",
   "metadata": {},
   "source": [
    "### Assignment 15: Set of Tuples\n",
    "\n",
    "Create a set containing tuples, where each tuple contains two elements. Print the set."
   ]
  },
  {
   "cell_type": "code",
   "execution_count": 24,
   "metadata": {},
   "outputs": [
    {
     "name": "stdout",
     "output_type": "stream",
     "text": [
      "{(1, 2), (3, 4), (5, 6)}\n"
     ]
    }
   ],
   "source": [
    "\n",
    "set14={(1,2),(3,4),(5,6)}\n",
    "print(set14)\n",
    "\n",
    "\n",
    "\n",
    "\n",
    "\n",
    "\n",
    "\n",
    "\n",
    "\n",
    "\n",
    "\n",
    "\n",
    "\n",
    "\n",
    "\n",
    "\n",
    "\n",
    "\n",
    "\n",
    "\n",
    "\n",
    "\n",
    "\n",
    "\n",
    "# s = { (1, 2), (3, 4), (5, 6) }\n",
    "# print(s)"
   ]
  },
  {
   "cell_type": "code",
   "execution_count": null,
   "id": "dfd148d6",
   "metadata": {},
   "outputs": [],
   "source": []
  }
 ],
 "metadata": {
  "kernelspec": {
   "display_name": ".venv",
   "language": "python",
   "name": "python3"
  },
  "language_info": {
   "codemirror_mode": {
    "name": "ipython",
    "version": 3
   },
   "file_extension": ".py",
   "mimetype": "text/x-python",
   "name": "python",
   "nbconvert_exporter": "python",
   "pygments_lexer": "ipython3",
   "version": "3.11.9"
  }
 },
 "nbformat": 4,
 "nbformat_minor": 5
}

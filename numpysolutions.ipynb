{
 "cells": [
  {
   "cell_type": "markdown",
   "metadata": {},
   "source": [
    "# Module: NumPy Assignments\n",
    "## Lesson: NumPy\n",
    "### Assignment 1: Array Creation and Manipulation\n",
    "\n",
    "1. Create a NumPy array of shape (5, 5) filled with random integers between 1 and 20. Replace all the elements in the third column with 1."
   ]
  },
  {
   "cell_type": "code",
   "execution_count": null,
   "metadata": {},
   "outputs": [
    {
     "name": "stdout",
     "output_type": "stream",
     "text": [
      "original array : [[11  7  3 11  8]\n",
      " [ 2  6  2  6 16]\n",
      " [ 5  3  4 15 19]\n",
      " [ 4  1  1 15  5]\n",
      " [19 10  1 19 14]]\n",
      "new array: [[11  7  1 11  8]\n",
      " [ 2  6  1  6 16]\n",
      " [ 5  3  1 15 19]\n",
      " [ 4  1  1 15  5]\n",
      " [19 10  1 19 14]]\n"
     ]
    }
   ],
   "source": [
    "import numpy as np\n",
    "\n",
    "arr1=np.random.randint(1,20,size=(5,5))\n",
    "print(f\"original array :\",arr1)\n",
    "\n",
    "arr1[: ,2]=1  #[row,column]\n",
    "print(f\"new array:\",arr1)\n",
    "\n",
    "\n",
    "\n",
    "\n",
    "\n",
    "\n",
    "\n",
    "\n",
    "\n",
    "\n",
    "\n",
    "\n",
    "\n",
    "\n",
    "\n",
    "\n",
    "# import numpy as np\n",
    "\n",
    "# # Create a NumPy array of shape (5, 5) filled with random integers\n",
    "# array = np.random.randint(1, 21, size=(5, 5))\n",
    "# print(\"Original array:\")\n",
    "# print(array)\n",
    "\n",
    "# # Replace all the elements in the third column with 1\n",
    "# array[:, 2] = 1\n",
    "# print(\"Modified array:\")\n",
    "# print(array)"
   ]
  },
  {
   "cell_type": "markdown",
   "metadata": {},
   "source": [
    "2. Create a NumPy array of shape (4, 4) with values from 1 to 16. Replace the diagonal elements with 0."
   ]
  },
  {
   "cell_type": "code",
   "execution_count": 8,
   "metadata": {},
   "outputs": [
    {
     "name": "stdout",
     "output_type": "stream",
     "text": [
      "original array:\n",
      "[[ 5 13 14 12]\n",
      " [ 2 12  1  1]\n",
      " [ 6  7 11  8]\n",
      " [ 6 15  2 13]]\n",
      "modified array:\n",
      "[[ 0 13 14 12]\n",
      " [ 2  0  1  1]\n",
      " [ 6  7  0  8]\n",
      " [ 6 15  2  0]]\n"
     ]
    }
   ],
   "source": [
    "arr2=np.random.randint(1,16,size=(4,4))\n",
    "print(\"original array:\")\n",
    "print(arr2)\n",
    "\n",
    "np.fill_diagonal(arr2,0)\n",
    "print(\"modified array:\")\n",
    "print(arr2)\n",
    "\n",
    "\n",
    "\n",
    "\n",
    "\n",
    "\n",
    "\n",
    "\n",
    "\n",
    "\n",
    "\n",
    "\n",
    "\n",
    "\n",
    "\n",
    "# # Create a NumPy array of shape (4, 4) with values from 1 to 16\n",
    "# array = np.arange(1, 17).reshape((4, 4))\n",
    "# print(\"Original array:\")\n",
    "# print(array)\n",
    "\n",
    "# # Replace the diagonal elements with 0\n",
    "# np.fill_diagonal(array, 0)\n",
    "# print(\"Modified array:\")\n",
    "# print(array)"
   ]
  },
  {
   "cell_type": "markdown",
   "metadata": {},
   "source": [
    "### Assignment 2: Array Indexing and Slicing\n",
    "\n",
    "1. Create a NumPy array of shape (6, 6) with values from 1 to 36. Extract the sub-array consisting of the 3rd to 5th rows and 2nd to 4th columns."
   ]
  },
  {
   "cell_type": "code",
   "execution_count": 11,
   "metadata": {},
   "outputs": [
    {
     "name": "stdout",
     "output_type": "stream",
     "text": [
      "original array:\n",
      "[[26  7 26 11 27 12]\n",
      " [26  8  9 16  7  6]\n",
      " [ 6 24 15 23 36 17]\n",
      " [22  1  8 21  2 15]\n",
      " [ 1 30  5  6 36 10]\n",
      " [27 20 25 13 16  8]]\n",
      "Extracted array:\n",
      "[[24 15 23]\n",
      " [ 1  8 21]\n",
      " [30  5  6]]\n"
     ]
    }
   ],
   "source": [
    "arr3=np.random.randint(1,37,size=(6,6))\n",
    "print(\"original array:\")\n",
    "print(arr3)\n",
    "\n",
    "arr4=arr3[2:5,1:4]\n",
    "print(\"Extracted array:\")\n",
    "print(arr4)\n",
    "\n",
    "\n",
    "\n",
    "\n",
    "\n",
    "\n",
    "\n",
    "\n",
    "\n",
    "\n",
    "\n",
    "\n",
    "# # Create a NumPy array of shape (6, 6) with values from 1 to 36\n",
    "# array = np.arange(1, 37).reshape((6, 6))\n",
    "# print(\"Original array:\")\n",
    "# print(array)\n",
    "\n",
    "# # Extract the sub-array\n",
    "# sub_array = array[2:5, 1:4]\n",
    "# print(\"Sub-array:\")\n",
    "# print(sub_array)"
   ]
  },
  {
   "cell_type": "markdown",
   "metadata": {},
   "source": [
    "2. Create a NumPy array of shape (5, 5) with random integers. Extract the elements on the border."
   ]
  },
  {
   "cell_type": "code",
   "execution_count": 16,
   "metadata": {},
   "outputs": [
    {
     "name": "stdout",
     "output_type": "stream",
     "text": [
      "original array:\n",
      "[[12 17 22  9 16]\n",
      " [26 27 23 28 11]\n",
      " [27 22 33 22 30]\n",
      " [ 5 24  4 15 34]\n",
      " [22 11  6 27 21]]\n",
      "modify array\n",
      "[[12 17 22  9 16]\n",
      " [26  0  0  0 11]\n",
      " [27  0  0  0 30]\n",
      " [ 5  0  0  0 34]\n",
      " [22 11  6 27 21]]\n"
     ]
    }
   ],
   "source": [
    "arr5=np.random.randint(1,37,size=(5,5))\n",
    "print(\"original array:\")\n",
    "print(arr5)\n",
    "\n",
    "\n",
    "print(\"modify array\")\n",
    "border=np.copy(arr5)\n",
    "border[1:4,1:4]=0\n",
    "print(border)\n",
    "\n",
    "\n",
    "\n",
    "\n",
    "\n",
    "\n",
    "\n",
    "\n",
    "\n",
    "\n",
    "\n",
    "\n",
    "\n",
    "\n",
    "# # Create a NumPy array of shape (5, 5) with random integers\n",
    "# array = np.random.randint(1, 21, size=(5, 5))\n",
    "# print(\"Original array:\")\n",
    "# print(array)\n",
    "\n",
    "# # Extract the elements on the border\n",
    "# border_elements = np.concatenate((array[0, :], array[-1, :], array[1:-1, 0], array[1:-1, -1]))\n",
    "# print(\"Border elements:\")\n",
    "# print(border_elements)"
   ]
  },
  {
   "cell_type": "markdown",
   "metadata": {},
   "source": [
    "### Assignment 3: Array Operations\n",
    "\n",
    "1. Create two NumPy arrays of shape (3, 4) filled with random integers. Perform element-wise addition, subtraction, multiplication, and division."
   ]
  },
  {
   "cell_type": "code",
   "execution_count": 23,
   "metadata": {},
   "outputs": [
    {
     "name": "stdout",
     "output_type": "stream",
     "text": [
      "first array:\n",
      "[[99 94 82 57]\n",
      " [28 94 13 37]\n",
      " [64 89 92 79]]\n",
      "second array:\n",
      "[[75  4  4 45]\n",
      " [39 54 59 20]\n",
      " [74 79 46  8]]\n",
      "Element-wise Addition:\n",
      "[[174  98  86 102]\n",
      " [ 67 148  72  57]\n",
      " [138 168 138  87]]\n",
      "Element-wise Subtraction:\n",
      "[[ 24  90  78  12]\n",
      " [-11  40 -46  17]\n",
      " [-10  10  46  71]]\n",
      "Element-wise Multiplication:\n",
      "[[7425  376  328 2565]\n",
      " [1092 5076  767  740]\n",
      " [4736 7031 4232  632]]\n",
      "Element-wise Division:\n",
      "[[ 1.32       23.5        20.5         1.26666667]\n",
      " [ 0.71794872  1.74074074  0.22033898  1.85      ]\n",
      " [ 0.86486486  1.12658228  2.          9.875     ]]\n"
     ]
    }
   ],
   "source": [
    "arr6=np.random.randint(1,100,size=(3,4))\n",
    "arr7=np.random.randint(1,100,size=(3,4))\n",
    "\n",
    "print(\"first array:\")\n",
    "print(arr6)\n",
    "print(\"second array:\")\n",
    "print(arr7)\n",
    "\n",
    "print(\"Element-wise Addition:\")\n",
    "print(arr6+arr7)\n",
    "\n",
    "print(\"Element-wise Subtraction:\")\n",
    "print(arr6-arr7)\n",
    "\n",
    "print(\"Element-wise Multiplication:\")\n",
    "print(arr6*arr7)\n",
    "\n",
    "print(\"Element-wise Division:\")\n",
    "print(arr6/arr7)\n",
    "\n",
    "\n",
    "\n",
    "\n",
    "\n",
    "\n",
    "\n",
    "\n",
    "\n",
    "\n",
    "\n",
    "\n",
    "\n",
    "\n",
    "\n",
    "\n",
    "\n",
    "\n",
    "\n",
    "\n",
    "\n",
    "\n",
    "\n",
    "\n",
    "\n",
    "# # Create two NumPy arrays of shape (3, 4) filled with random integers\n",
    "# array1 = np.random.randint(1, 11, size=(3, 4))\n",
    "# array2 = np.random.randint(1, 11, size=(3, 4))\n",
    "# print(\"Array 1:\")\n",
    "# print(array1)\n",
    "# print(\"Array 2:\")\n",
    "# print(array2)\n",
    "\n",
    "# # Perform element-wise operations\n",
    "# addition = array1 + array2\n",
    "# subtraction = array1 - array2\n",
    "# multiplication = array1 * array2\n",
    "# division = array1 / array2\n",
    "\n",
    "# print(\"Element-wise addition:\")\n",
    "# print(addition)\n",
    "# print(\"Element-wise subtraction:\")\n",
    "# print(subtraction)\n",
    "# print(\"Element-wise multiplication:\")\n",
    "# print(multiplication)\n",
    "# print(\"Element-wise division:\")\n",
    "# print(division)"
   ]
  },
  {
   "cell_type": "markdown",
   "metadata": {},
   "source": [
    "2. Create a NumPy array of shape (4, 4) with values from 1 to 16. Compute the row-wise and column-wise sum."
   ]
  },
  {
   "cell_type": "code",
   "execution_count": 26,
   "metadata": {},
   "outputs": [
    {
     "name": "stdout",
     "output_type": "stream",
     "text": [
      "original Array:\n",
      "[[ 2  2 15  1]\n",
      " [ 8  8 16  7]\n",
      " [11  6  2 12]\n",
      " [ 9 13  2 14]]\n",
      "Row-wise Sum\n",
      "[20 39 31 38]\n",
      "Column-wise Sum\n",
      "[30 29 35 34]\n"
     ]
    }
   ],
   "source": [
    "arr7=np.random.randint(1,17,size=(4,4))\n",
    "print(\"original Array:\")\n",
    "print(arr7)\n",
    "\n",
    "row=np.sum(arr7,axis=1)\n",
    "cols=np.sum(arr7,axis=0)\n",
    "\n",
    "print(\"Row-wise Sum\")\n",
    "print(row)\n",
    "\n",
    "print(\"Column-wise Sum\")\n",
    "print(cols)\n",
    "\n",
    "\n",
    "\n",
    "\n",
    "\n",
    "\n",
    "\n",
    "\n",
    "\n",
    "\n",
    "\n",
    "\n",
    "\n",
    "\n",
    "\n",
    "\n",
    "\n",
    "\n",
    "# # Create a NumPy array of shape (4, 4) with values from 1 to 16\n",
    "# array = np.arange(1, 17).reshape((4, 4))\n",
    "# print(\"Original array:\")\n",
    "# print(array)\n",
    "\n",
    "# # Compute the row-wise and column-wise sum\n",
    "# row_sum = np.sum(array, axis=1)\n",
    "# column_sum = np.sum(array, axis=0)\n",
    "\n",
    "# print(\"Row-wise sum:\")\n",
    "# print(row_sum)\n",
    "# print(\"Column-wise sum:\")\n",
    "# print(column_sum)"
   ]
  },
  {
   "cell_type": "markdown",
   "metadata": {},
   "source": [
    "### Assignment 4: Statistical Operations\n",
    "\n",
    "1. Create a NumPy array of shape (5, 5) filled with random integers. Compute the mean, median, standard deviation, and variance of the array."
   ]
  },
  {
   "cell_type": "code",
   "execution_count": 32,
   "metadata": {},
   "outputs": [
    {
     "name": "stdout",
     "output_type": "stream",
     "text": [
      "original Array:\n",
      "[[ 1  2  2 32  1]\n",
      " [49 37 47 13 55]\n",
      " [54 11 62 26 19]\n",
      " [36 89 51 41  4]\n",
      " [70 35 85 78 12]]\n",
      "Mean of the array: 36.48\n",
      "Median of the array: 36.0\n",
      "Standard Deviation of the array: 26.79420832941328\n",
      "Variance of the array: 717.9296\n"
     ]
    }
   ],
   "source": [
    "\n",
    "arr8=np.random.randint(1,100,size=(5,5))\n",
    "print(\"original Array:\")\n",
    "print(arr8)\n",
    "\n",
    "print(\"Mean of the array:\",np.mean(arr8))\n",
    "print(\"Median of the array:\",np.median(arr8))\n",
    "print(\"Standard Deviation of the array:\",np.std(arr8))\n",
    "print(\"Variance of the array:\",np.var(arr8))\n",
    "\n",
    "\n",
    "\n",
    "\n",
    "\n",
    "\n",
    "\n",
    "\n",
    "\n",
    "\n",
    "\n",
    "\n",
    "\n",
    "\n",
    "\n",
    "\n",
    "\n",
    "\n",
    "\n",
    "# # Create a NumPy array of shape (5, 5) filled with random integers\n",
    "# array = np.random.randint(1, 21, size=(5, 5))\n",
    "# print(\"Original array:\")\n",
    "# print(array)\n",
    "\n",
    "# # Compute the statistical values\n",
    "# mean = np.mean(array)\n",
    "# median = np.median(array)\n",
    "# std_dev = np.std(array)\n",
    "# variance = np.var(array)\n",
    "\n",
    "# print(\"Mean:\", mean)\n",
    "# print(\"Median:\", median)\n",
    "# print(\"Standard Deviation:\", std_dev)\n",
    "# print(\"Variance:\", variance)"
   ]
  },
  {
   "cell_type": "markdown",
   "metadata": {},
   "source": [
    "2. Create a NumPy array of shape (3, 3) with values from 1 to 9. Normalize the array (i.e., scale the values to have a mean of 0 and a standard deviation of 1)."
   ]
  },
  {
   "cell_type": "code",
   "execution_count": 34,
   "metadata": {},
   "outputs": [
    {
     "name": "stdout",
     "output_type": "stream",
     "text": [
      "original Array:\n",
      "[[7 3 2]\n",
      " [9 6 9]\n",
      " [1 7 7]]\n",
      "Normalized Array:\n",
      "[[ 0.47809144 -0.95618289 -1.31475147]\n",
      " [ 1.19522861  0.11952286  1.19522861]\n",
      " [-1.67332005  0.47809144  0.47809144]]\n"
     ]
    }
   ],
   "source": [
    "arr9=np.random.randint(1,10,size=(3,3))\n",
    "print(\"original Array:\")\n",
    "print(arr9)\n",
    "\n",
    "#normalized= x-mean/std\n",
    "\n",
    "mean=np.mean(arr9)\n",
    "std=np.std(arr9)\n",
    "\n",
    "print(\"Normalized Array:\")\n",
    "print((arr9-mean)/std)\n",
    "\n",
    "\n",
    "\n",
    "\n",
    "\n",
    "\n",
    "\n",
    "\n",
    "\n",
    "\n",
    "\n",
    "\n",
    "\n",
    "\n",
    "\n",
    "\n",
    "\n",
    "\n",
    "\n",
    "# # Create a NumPy array of shape (3, 3) with values from 1 to 9\n",
    "# array = np.arange(1, 10).reshape((3, 3))\n",
    "# print(\"Original array:\")\n",
    "# print(array)\n",
    "\n",
    "# # Normalize the array\n",
    "# mean = np.mean(array)\n",
    "# std_dev = np.std(array)\n",
    "# normalized_array = (array - mean) / std_dev\n",
    "\n",
    "# print(\"Normalized array:\")\n",
    "# print(normalized_array)"
   ]
  },
  {
   "cell_type": "markdown",
   "metadata": {},
   "source": [
    "### Assignment 5: Broadcasting\n",
    "\n",
    "1. Create a NumPy array of shape (3, 3) filled with random integers. Add a 1D array of shape (3,) to each row of the 2D array using broadcasting."
   ]
  },
  {
   "cell_type": "code",
   "execution_count": null,
   "metadata": {},
   "outputs": [],
   "source": [
    "# Create a NumPy array of shape (3, 3) filled with random integers\n",
    "array = np.random.randint(1, 11, size=(3, 3))\n",
    "row_array = np.random.randint(1, 11, size=(3,))\n",
    "print(\"Original array:\")\n",
    "print(array)\n",
    "print(\"1D array:\")\n",
    "print(row_array)\n",
    "\n",
    "# Add the 1D array to each row of the 2D array using broadcasting\n",
    "result = array + row_array\n",
    "print(\"Resulting array:\")\n",
    "print(result)"
   ]
  },
  {
   "cell_type": "markdown",
   "metadata": {},
   "source": [
    "2. Create a NumPy array of shape (4, 4) filled with random integers. Subtract a 1D array of shape (4,) from each column of the 2D array using broadcasting."
   ]
  },
  {
   "cell_type": "code",
   "execution_count": null,
   "metadata": {},
   "outputs": [],
   "source": [
    "# Create a NumPy array of shape (4, 4) filled with random integers\n",
    "array = np.random.randint(1, 11, size=(4, 4))\n",
    "column_array = np.random.randint(1, 11, size=(4,))\n",
    "print(\"Original array:\")\n",
    "print(array)\n",
    "print(\"1D array:\")\n",
    "print(column_array)\n",
    "\n",
    "# Subtract the 1D array from each column of the 2D array using broadcasting\n",
    "result = array - column_array[:, np.newaxis]\n",
    "print(\"Resulting array:\")\n",
    "print(result)"
   ]
  },
  {
   "cell_type": "markdown",
   "metadata": {},
   "source": [
    "### Assignment 6: Linear Algebra\n",
    "\n",
    "1. Create a NumPy array of shape (3, 3) representing a matrix. Compute its determinant, inverse, and eigenvalues."
   ]
  },
  {
   "cell_type": "code",
   "execution_count": null,
   "metadata": {},
   "outputs": [],
   "source": [
    "# Create a NumPy array of shape (3, 3) representing a matrix\n",
    "matrix = np.random.randint(1, 11, size=(3, 3))\n",
    "print(\"Original matrix:\")\n",
    "print(matrix)\n",
    "\n",
    "# Compute the determinant\n",
    "determinant = np.linalg.det(matrix)\n",
    "print(\"Determinant:\", determinant)\n",
    "\n",
    "# Compute the inverse\n",
    "inverse = np.linalg.inv(matrix)\n",
    "print(\"Inverse:\")\n",
    "print(inverse)\n",
    "\n",
    "# Compute the eigenvalues\n",
    "eigenvalues = np.linalg.eigvals(matrix)\n",
    "print(\"Eigenvalues:\", eigenvalues)"
   ]
  },
  {
   "cell_type": "markdown",
   "metadata": {},
   "source": [
    "2. Create two NumPy arrays of shape (2, 3) and (3, 2). Perform matrix multiplication on these arrays."
   ]
  },
  {
   "cell_type": "code",
   "execution_count": null,
   "metadata": {},
   "outputs": [],
   "source": [
    "# Create two NumPy arrays of shape (2, 3) and (3, 2)\n",
    "array1 = np.random.randint(1, 11, size=(2, 3))\n",
    "array2 = np.random.randint(1, 11, size=(3, 2))\n",
    "print(\"Array 1:\")\n",
    "print(array1)\n",
    "print(\"Array 2:\")\n",
    "print(array2)\n",
    "\n",
    "# Perform matrix multiplication\n",
    "result = np.dot(array1, array2)\n",
    "print(\"Matrix multiplication result:\")\n",
    "print(result)"
   ]
  },
  {
   "cell_type": "markdown",
   "metadata": {},
   "source": [
    "### Assignment 7: Advanced Array Manipulation\n",
    "\n",
    "1. Create a NumPy array of shape (3, 3) with values from 1 to 9. Reshape the array to shape (1, 9) and then to shape (9, 1)."
   ]
  },
  {
   "cell_type": "code",
   "execution_count": null,
   "metadata": {},
   "outputs": [],
   "source": [
    "# Create a NumPy array of shape (3, 3) with values from 1 to 9\n",
    "array = np.arange(1, 10).reshape((3, 3))\n",
    "print(\"Original array:\")\n",
    "print(array)\n",
    "\n",
    "# Reshape the array to shape (1, 9)\n",
    "reshaped_array_1 = array.reshape((1, 9))\n",
    "print(\"Reshaped array (1, 9):\")\n",
    "print(reshaped_array_1)\n",
    "\n",
    "# Reshape the array to shape (9, 1)\n",
    "reshaped_array_2 = reshaped_array_1.reshape((9, 1))\n",
    "print(\"Reshaped array (9, 1):\")\n",
    "print(reshaped_array_2)"
   ]
  },
  {
   "cell_type": "markdown",
   "metadata": {},
   "source": [
    "2. Create a NumPy array of shape (5, 5) filled with random integers. Flatten the array and then reshape it back to (5, 5)."
   ]
  },
  {
   "cell_type": "code",
   "execution_count": null,
   "metadata": {},
   "outputs": [],
   "source": [
    "# Create a NumPy array of shape (5, 5) filled with random integers\n",
    "array = np.random.randint(1, 21, size=(5, 5))\n",
    "print(\"Original array:\")\n",
    "print(array)\n",
    "\n",
    "# Flatten the array\n",
    "flattened_array = array.flatten()\n",
    "print(\"Flattened array:\")\n",
    "print(flattened_array)\n",
    "\n",
    "# Reshape the array back to (5, 5)\n",
    "reshaped_array = flattened_array.reshape((5, 5))\n",
    "print(\"Reshaped array:\")\n",
    "print(reshaped_array)"
   ]
  },
  {
   "cell_type": "markdown",
   "metadata": {},
   "source": [
    "### Assignment 8: Fancy Indexing and Boolean Indexing\n",
    "\n",
    "1. Create a NumPy array of shape (5, 5) filled with random integers. Use fancy indexing to extract the elements at the corners of the array."
   ]
  },
  {
   "cell_type": "code",
   "execution_count": null,
   "metadata": {},
   "outputs": [],
   "source": [
    "# Create a NumPy array of shape (5, 5) filled with random integers\n",
    "array = np.random.randint(1, 21, size=(5, 5))\n",
    "print(\"Original array:\")\n",
    "print(array)\n",
    "\n",
    "# Use fancy indexing to extract the elements at the corners of the array\n",
    "corners = array[[0, 0, -1, -1], [0, -1, 0, -1]]\n",
    "print(\"Corner elements:\")\n",
    "print(corners)"
   ]
  },
  {
   "cell_type": "markdown",
   "metadata": {},
   "source": [
    "2. Create a NumPy array of shape (4, 4) filled with random integers. Use boolean indexing to set all elements greater than 10 to 10."
   ]
  },
  {
   "cell_type": "code",
   "execution_count": null,
   "metadata": {},
   "outputs": [],
   "source": [
    "# Create a NumPy array of shape (4, 4) filled with random integers\n",
    "array = np.random.randint(1, 21, size=(4, 4))\n",
    "print(\"Original array:\")\n",
    "print(array)\n",
    "\n",
    "# Use boolean indexing to set all elements greater than 10 to 10\n",
    "array[array > 10] = 10\n",
    "print(\"Modified array:\")\n",
    "print(array)"
   ]
  },
  {
   "cell_type": "markdown",
   "metadata": {},
   "source": [
    "### Assignment 9: Structured Arrays\n",
    "\n",
    "1. Create a structured array with fields 'name' (string), 'age' (integer), and 'weight' (float). Add some data and sort the array by age."
   ]
  },
  {
   "cell_type": "code",
   "execution_count": null,
   "metadata": {},
   "outputs": [],
   "source": [
    "# Create a structured array with fields 'name', 'age', and 'weight'\n",
    "data_type = [('name', 'U10'), ('age', 'i4'), ('weight', 'f4')]\n",
    "data = np.array([('Alice', 25, 55.5), ('Bob', 30, 85.3), ('Charlie', 20, 65.2)], dtype=data_type)\n",
    "print(\"Original array:\")\n",
    "print(data)\n",
    "\n",
    "# Sort the array by age\n",
    "sorted_data = np.sort(data, order='age')\n",
    "print(\"Sorted array by age:\")\n",
    "print(sorted_data)"
   ]
  },
  {
   "cell_type": "markdown",
   "metadata": {},
   "source": [
    "2. Create a structured array with fields 'x' and 'y' (both integers). Add some data and compute the Euclidean distance between each pair of points."
   ]
  },
  {
   "cell_type": "code",
   "execution_count": null,
   "metadata": {},
   "outputs": [],
   "source": [
    "# Create a structured array with fields 'x' and 'y'\n",
    "data_type = [('x', 'i4'), ('y', 'i4')]\n",
    "data = np.array([(1, 2), (3, 4), (5, 6)], dtype=data_type)\n",
    "print(\"Original array:\")\n",
    "print(data)\n",
    "\n",
    "# Compute the Euclidean distance between each pair of points\n",
    "distances = np.sqrt((data['x'][:, np.newaxis] - data['x'])**2 + (data['y'][:, np.newaxis] - data['y'])**2)\n",
    "print(\"Euclidean distances:\")\n",
    "print(distances)"
   ]
  },
  {
   "cell_type": "markdown",
   "metadata": {},
   "source": [
    "### Assignment 10: Masked Arrays\n",
    "\n",
    "1. Create a masked array of shape (4, 4) with random integers and mask the elements greater than 10. Compute the sum of the unmasked elements."
   ]
  },
  {
   "cell_type": "code",
   "execution_count": null,
   "metadata": {},
   "outputs": [],
   "source": [
    "import numpy.ma as ma\n",
    "\n",
    "# Create a masked array of shape (4, 4) with random integers\n",
    "array = np.random.randint(1, 21, size=(4, 4))\n",
    "masked_array = ma.masked_greater(array, 10)\n",
    "print(\"Original array:\")\n",
    "print(array)\n",
    "print(\"Masked array:\")\n",
    "print(masked_array)\n",
    "\n",
    "# Compute the sum of the unmasked elements\n",
    "sum_unmasked = masked_array.sum()\n",
    "print(\"Sum of unmasked elements:\", sum_unmasked)"
   ]
  },
  {
   "cell_type": "markdown",
   "metadata": {},
   "source": [
    "2. Create a masked array of shape (3, 3) with random integers and mask the diagonal elements. Replace the masked elements with the mean of the unmasked elements."
   ]
  },
  {
   "cell_type": "code",
   "execution_count": null,
   "metadata": {},
   "outputs": [],
   "source": [
    "# Create a masked array of shape (3, 3) with random integers\n",
    "array = np.random.randint(1, 21, size=(3, 3))\n",
    "masked_array = ma.masked_array(array, mask=np.eye(3, dtype=bool))\n",
    "print(\"Original array:\")\n",
    "print(array)\n",
    "print(\"Masked array:\")\n",
    "print(masked_array)\n",
    "\n",
    "# Replace the masked elements with the mean of the unmasked elements\n",
    "mean_unmasked = masked_array.mean()\n",
    "masked_array = masked_array.filled(mean_unmasked)\n",
    "print(\"Modified masked array:\")\n",
    "print(masked_array)"
   ]
  }
 ],
 "metadata": {
  "kernelspec": {
   "display_name": ".venv",
   "language": "python",
   "name": "python3"
  },
  "language_info": {
   "codemirror_mode": {
    "name": "ipython",
    "version": 3
   },
   "file_extension": ".py",
   "mimetype": "text/x-python",
   "name": "python",
   "nbconvert_exporter": "python",
   "pygments_lexer": "ipython3",
   "version": "3.11.9"
  }
 },
 "nbformat": 4,
 "nbformat_minor": 5
}

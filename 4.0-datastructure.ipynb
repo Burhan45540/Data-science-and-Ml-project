{
 "cells": [
  {
   "cell_type": "markdown",
   "id": "fc70d29f",
   "metadata": {},
   "source": [
    "LISTS :\n",
    "\n",
    "\n",
    "\n",
    "\n",
    "\n",
    "\n",
    "IT CONTAIN ITEM OF DIFFERENT DATA TYPE \n",
    "\n",
    "\n",
    "\n",
    "\n",
    "\n",
    "\n",
    "\n",
    "\n",
    "\n",
    "LIST ARE ORDERED,MUTABLE COLLECTION OF ITEMS."
   ]
  },
  {
   "cell_type": "code",
   "execution_count": 3,
   "id": "cef5e771",
   "metadata": {},
   "outputs": [
    {
     "name": "stdout",
     "output_type": "stream",
     "text": [
      "['apple', 'banana', 'guava', 'pineapple', 'mango']\n",
      "mango\n",
      "mango\n",
      "['banana', 'guava', 'pineapple']\n"
     ]
    }
   ],
   "source": [
    "fruits=[\"apple\",\"banana\",\"guava\",\"pineapple\",\"mango\"]\n",
    "print(fruits)\n",
    "print(fruits[4])\n",
    "print(fruits[-1])\n",
    "print(fruits[1:4])\n"
   ]
  },
  {
   "cell_type": "code",
   "execution_count": 4,
   "id": "d1fe3bda",
   "metadata": {},
   "outputs": [
    {
     "name": "stdout",
     "output_type": "stream",
     "text": [
      "['apple', 'banana', 'guava', 'pineapple', 'mango']\n",
      "['apple', 'banana', 'guava', 'watermelon', 'mango']\n"
     ]
    }
   ],
   "source": [
    "#changing value in list\n",
    "print(fruits)\n",
    "fruits[3]=\"watermelon\"\n",
    "print(fruits)"
   ]
  },
  {
   "cell_type": "code",
   "execution_count": 4,
   "id": "47612b15",
   "metadata": {},
   "outputs": [
    {
     "data": {
      "text/plain": [
       "['apple', 'w', 'a', 't', 'e', 'r', 'm', 'e', 'l', 'o', 'n']"
      ]
     },
     "execution_count": 4,
     "metadata": {},
     "output_type": "execute_result"
    }
   ],
   "source": [
    "fruits=[\"apple\",\"banana\",\"guava\",\"pineapple\",\"mango\"]\n",
    "fruits[1:]=\"watermelon\"\n",
    "fruits"
   ]
  },
  {
   "cell_type": "markdown",
   "id": "1d544c49",
   "metadata": {},
   "source": [
    "fruits=[\"apple\",\"banana\",\"guava\",\"pineapple\",\"mango\"]\n",
    "\n",
    "\n",
    "fruits[1:]=\"watermelon\"\n",
    "\n",
    "\n",
    "fruits\n",
    "\n",
    "\n",
    "\n",
    "THIS REPLACE A CHARACTER WISE NOT WORD THATS WHY WE USE METHOD LIKE APPEND ETC..."
   ]
  },
  {
   "cell_type": "code",
   "execution_count": 20,
   "id": "481c9804",
   "metadata": {},
   "outputs": [
    {
     "name": "stdout",
     "output_type": "stream",
     "text": [
      "ACTUAL LIST\n",
      "['apple', 'banana', 'guava', 'pineapple', 'mango']\n",
      "APPEND METHOD\n",
      "['apple', 'banana', 'guava', 'pineapple', 'mango', 'orange']\n",
      "INSERT METHOD\n",
      "['apple', 'banana', 'guava', 'orange', 'pineapple', 'mango', 'orange']\n",
      "REMOVE METHOD\n",
      "['apple', 'banana', 'guava', 'pineapple', 'mango', 'orange']\n",
      "POP METHOD\n",
      "['apple', 'banana', 'guava', 'pineapple', 'mango']\n",
      "INDEX METHOD\n",
      "2\n",
      "COUNT METHOD\n",
      "['apple', 'banana', 'guava', 'guava', 'pineapple', 'mango']\n",
      "number of guava in fruits list is : 2\n",
      "SORT METHOD\n",
      "['apple', 'banana', 'guava', 'guava', 'mango', 'pineapple']\n",
      "REVERSE METHOD\n",
      "['pineapple', 'mango', 'guava', 'guava', 'banana', 'apple']\n",
      "CLEAR METHOD\n",
      "[]\n"
     ]
    }
   ],
   "source": [
    "#LIST METHODS\n",
    "print(\"ACTUAL LIST\")\n",
    "fruits=[\"apple\",\"banana\",\"guava\",\"pineapple\",\"mango\"]\n",
    "print(fruits)\n",
    "\n",
    "print(\"APPEND METHOD\")\n",
    "fruits.append(\"orange\")\n",
    "print(fruits)\n",
    "\n",
    "print(\"INSERT METHOD\")\n",
    "fruits.insert(3,\"orange\")\n",
    "print(fruits)\n",
    "\n",
    "print(\"REMOVE METHOD\")\n",
    "fruits.remove(\"orange\")\n",
    "print(fruits)\n",
    "\n",
    "print(\"POP METHOD\")\n",
    "fruits.pop()\n",
    "print(fruits)\n",
    "\n",
    "print(\"INDEX METHOD\")\n",
    "a=fruits.index(\"guava\")\n",
    "print(a)\n",
    "\n",
    "print(\"COUNT METHOD\")\n",
    "fruits.insert(3,\"guava\")\n",
    "print(fruits)\n",
    "b=fruits.count(\"guava\")\n",
    "print(f\"number of guava in fruits list is : {b}\")\n",
    "\n",
    "print(\"SORT METHOD\")\n",
    "fruits.sort()\n",
    "print(fruits)\n",
    "\n",
    "print(\"REVERSE METHOD\")\n",
    "fruits.reverse()\n",
    "print(fruits)\n",
    "\n",
    "print(\"CLEAR METHOD\")\n",
    "fruits.clear()\n",
    "print(fruits)"
   ]
  },
  {
   "cell_type": "code",
   "execution_count": 22,
   "id": "b5452efa",
   "metadata": {},
   "outputs": [
    {
     "name": "stdout",
     "output_type": "stream",
     "text": [
      "[2, 3, 4, 5, 6, 7]\n",
      "[2, 3, 4, 5, 6, 7, 8, 9]\n",
      "[1, 2, 3, 4, 5, 6, 7]\n",
      "[1, 2, 3, 4, 5, 6, 7, 8, 9]\n",
      "[2, 4, 6]\n",
      "[9, 8, 7, 6, 5, 4, 3, 2, 1]\n"
     ]
    }
   ],
   "source": [
    "#slicing list\n",
    "\n",
    "numbers=[1,2,3,4,5,6,7,8,9]\n",
    "\n",
    "a=numbers[1:7]\n",
    "print(a)\n",
    "\n",
    "b=numbers[1:]\n",
    "print(b)\n",
    "\n",
    "c=numbers[:7]\n",
    "print(c)\n",
    "\n",
    "#double colon means prints all the element\n",
    "d=numbers[::]\n",
    "print(d)\n",
    "\n",
    "e=numbers[1:7:2]\n",
    "print(e)\n",
    "\n",
    "f=numbers[::-1]\n",
    "print(f)"
   ]
  },
  {
   "cell_type": "code",
   "execution_count": 26,
   "id": "1b821880",
   "metadata": {},
   "outputs": [
    {
     "name": "stdout",
     "output_type": "stream",
     "text": [
      "real\n",
      "1\n",
      "2\n",
      "3\n",
      "4\n",
      "5\n",
      "6\n",
      "7\n",
      "8\n",
      "9\n",
      "iterating through index\n",
      "0 1\n",
      "1 2\n",
      "2 3\n",
      "3 4\n",
      "4 5\n",
      "5 6\n",
      "6 7\n",
      "7 8\n",
      "8 9\n"
     ]
    }
   ],
   "source": [
    "#iterating ovver list:\n",
    "\n",
    "print(\"real\")\n",
    "for number in numbers:\n",
    "  print(number)\n",
    "\n",
    "print(\"iterating through index\")\n",
    "for index,number in enumerate(numbers):\n",
    "  print(index,number)\n"
   ]
  },
  {
   "cell_type": "markdown",
   "id": "a52532e5",
   "metadata": {},
   "source": [
    "######\n",
    "List comprehension is a short and elegant way to create a new list by applying an expression to each item in an iterable (like a list or range).\n",
    "\n",
    "\n",
    "\n",
    "Syntax:\n",
    "\n",
    "basic syntax:[expression for item in iterable]\n",
    "\n",
    "with conditional logic:[expression for item in iterable if condition]\n",
    "\n",
    "nested list comprehension:[expression for item1 in iterable1 for item2 in iterable2]\n",
    "\n"
   ]
  },
  {
   "cell_type": "code",
   "execution_count": null,
   "id": "75a3e762",
   "metadata": {},
   "outputs": [
    {
     "name": "stdout",
     "output_type": "stream",
     "text": [
      "without list comprehension : [0, 5, 10, 15, 20, 25, 30, 35, 40, 45]\n",
      "with list comprehension\n"
     ]
    },
    {
     "data": {
      "text/plain": [
       "[0, 5, 10, 15, 20, 25, 30, 35, 40, 45]"
      ]
     },
     "execution_count": 30,
     "metadata": {},
     "output_type": "execute_result"
    }
   ],
   "source": [
    "#without list comprehension basic syntax\n",
    "list=[]\n",
    "for i in range(10):\n",
    "  list.append(i*5)\n",
    "\n",
    "print(f\"without list comprehension : {list}\")\n",
    "\n",
    "#with list comprehension basic syntax\n",
    "print(\"with list comprehension\")\n",
    "[i*5 for i in range(10)]                 \n",
    "\n"
   ]
  },
  {
   "cell_type": "code",
   "execution_count": null,
   "id": "afc8aa2d",
   "metadata": {},
   "outputs": [
    {
     "name": "stdout",
     "output_type": "stream",
     "text": [
      "[0, 2, 4, 6, 8]\n"
     ]
    },
    {
     "data": {
      "text/plain": [
       "[0, 2, 4, 6, 8]"
      ]
     },
     "execution_count": 34,
     "metadata": {},
     "output_type": "execute_result"
    }
   ],
   "source": [
    "#without list comprehension conditional syntax\n",
    "list=[]\n",
    "for i in range(10):\n",
    "  if i%2==0:\n",
    "    list.append(i)\n",
    "print(list)\n",
    "\n",
    "##with list comprehension conditional syntax\n",
    "[i for i in range(10) if i%2==0]"
   ]
  },
  {
   "cell_type": "code",
   "execution_count": 41,
   "id": "35d31d44",
   "metadata": {},
   "outputs": [
    {
     "name": "stdout",
     "output_type": "stream",
     "text": [
      "[[0, 0], [0, 1], [1, 0], [1, 1], [2, 0], [2, 1], [3, 0], [3, 1], [4, 0], [4, 1]]\n",
      "[[0, 0], [0, 1], [1, 0], [1, 1], [2, 0], [2, 1], [3, 0], [3, 1], [4, 0], [4, 1]]"
     ]
    }
   ],
   "source": [
    "list=[]\n",
    "for i in range(5):\n",
    "  for j in range(2):\n",
    "    list.append([i,j])\n",
    "print(list)\n",
    "\n",
    "a=[[i,j] for i in range(5) for j in range(2) ]\n",
    "print(a,end=\"\")"
   ]
  },
  {
   "cell_type": "markdown",
   "id": "0a256ad8",
   "metadata": {},
   "source": [
    "TUPLE:\n",
    "\n",
    "\n",
    "\n",
    "\n",
    "\n",
    "\n",
    "IT CONTAIN ITEM OF DIFFERENT DATA TYPE \n",
    "\n",
    "\n",
    "\n",
    "\n",
    "\n",
    "\n",
    "\n",
    "\n",
    "\n",
    "TUPLE ARE ORDERED,IMMUTABLE COLLECTION OF ITEMS."
   ]
  },
  {
   "cell_type": "code",
   "execution_count": 1,
   "id": "68e24a97",
   "metadata": {},
   "outputs": [
    {
     "name": "stdout",
     "output_type": "stream",
     "text": [
      "<class 'tuple'>\n"
     ]
    }
   ],
   "source": [
    "tpl=tuple()\n",
    "print(type(tpl))"
   ]
  },
  {
   "cell_type": "markdown",
   "id": "906f751c",
   "metadata": {},
   "source": [
    "LIST CAN BE CONVERTED INTO TUPLE AND TUPLE ALSO CONVERTED INTO LIST"
   ]
  },
  {
   "cell_type": "code",
   "execution_count": 5,
   "id": "c30b46ac",
   "metadata": {},
   "outputs": [
    {
     "name": "stdout",
     "output_type": "stream",
     "text": [
      "[1, 2, 3, 4, 5] (1, 2, 3, 4, 5)\n"
     ]
    }
   ],
   "source": [
    "a=list((1,2,3,4,5))\n",
    "b=tuple([1,2,3,4,5])\n",
    "print(a,b)"
   ]
  },
  {
   "cell_type": "code",
   "execution_count": 6,
   "id": "9714152d",
   "metadata": {},
   "outputs": [
    {
     "name": "stdout",
     "output_type": "stream",
     "text": [
      "(1, 2, 3, 4, 5, 6, 'burhan', 8.32, True)\n"
     ]
    }
   ],
   "source": [
    "#tuple operation:\n",
    "\n",
    "#1.concatenation\n",
    "\n",
    "number=(1,2,3,4,5)\n",
    "details=(6,\"burhan\",8.32,True)\n",
    "concatenation_tpl=number+details\n",
    "print(concatenation_tpl)"
   ]
  },
  {
   "cell_type": "code",
   "execution_count": 8,
   "id": "8c8a8691",
   "metadata": {},
   "outputs": [
    {
     "data": {
      "text/plain": [
       "(6, 'burhan', 8.32, True, 6, 'burhan', 8.32, True, 6, 'burhan', 8.32, True)"
      ]
     },
     "execution_count": 8,
     "metadata": {},
     "output_type": "execute_result"
    }
   ],
   "source": [
    "#multiple:it give value how much time we print\n",
    "details*3"
   ]
  },
  {
   "cell_type": "code",
   "execution_count": 9,
   "id": "d90ac266",
   "metadata": {},
   "outputs": [
    {
     "data": {
      "text/plain": [
       "1"
      ]
     },
     "execution_count": 9,
     "metadata": {},
     "output_type": "execute_result"
    }
   ],
   "source": [
    "#tuple methods:\n",
    "details.count(6)"
   ]
  },
  {
   "cell_type": "code",
   "execution_count": 12,
   "id": "58361795",
   "metadata": {},
   "outputs": [
    {
     "data": {
      "text/plain": [
       "1"
      ]
     },
     "execution_count": 12,
     "metadata": {},
     "output_type": "execute_result"
    }
   ],
   "source": [
    "details.index(\"burhan\")"
   ]
  },
  {
   "cell_type": "code",
   "execution_count": null,
   "id": "96d19474",
   "metadata": {},
   "outputs": [
    {
     "data": {
      "text/plain": [
       "[1, 2, 2, 4]"
      ]
     },
     "execution_count": 14,
     "metadata": {},
     "output_type": "execute_result"
    }
   ],
   "source": [
    "#list are mutable:\n",
    "lst=[1,2,3,4]\n",
    "lst[2]=2\n",
    "lst"
   ]
  },
  {
   "cell_type": "code",
   "execution_count": 15,
   "id": "23e044ca",
   "metadata": {},
   "outputs": [
    {
     "data": {
      "text/plain": [
       "(6, 'burhan', 8.32, True)"
      ]
     },
     "execution_count": 15,
     "metadata": {},
     "output_type": "execute_result"
    }
   ],
   "source": [
    "#tuple are immutable:\n",
    "details"
   ]
  },
  {
   "cell_type": "code",
   "execution_count": 16,
   "id": "87f13513",
   "metadata": {},
   "outputs": [
    {
     "ename": "TypeError",
     "evalue": "'tuple' object does not support item assignment",
     "output_type": "error",
     "traceback": [
      "\u001b[31m---------------------------------------------------------------------------\u001b[39m",
      "\u001b[31mTypeError\u001b[39m                                 Traceback (most recent call last)",
      "\u001b[36mCell\u001b[39m\u001b[36m \u001b[39m\u001b[32mIn[16]\u001b[39m\u001b[32m, line 1\u001b[39m\n\u001b[32m----> \u001b[39m\u001b[32m1\u001b[39m \u001b[43mdetails\u001b[49m\u001b[43m[\u001b[49m\u001b[32;43m1\u001b[39;49m\u001b[43m]\u001b[49m=\u001b[32m6\u001b[39m\n",
      "\u001b[31mTypeError\u001b[39m: 'tuple' object does not support item assignment"
     ]
    }
   ],
   "source": [
    "details[1]=6"
   ]
  },
  {
   "cell_type": "markdown",
   "id": "3adc9c0d",
   "metadata": {},
   "source": [
    "**Packing and Unpacking Tuple in Python – Simple Definition:**\n",
    "\n",
    "* **Packing:**\n",
    "  Combining multiple values into a single tuple.\n",
    "  Example:\n",
    "\n",
    "  ```python\n",
    "  my_tuple = (1, 2, 3)  # Packing values into a tuple\n",
    "  ```\n",
    "\n",
    "* **Unpacking:**\n",
    "  Extracting values from a tuple into separate variables.\n",
    "  Example:\n",
    "\n",
    "  ```python\n",
    "  a, b, c = my_tuple  # Unpacking the tuple\n",
    "  ```\n",
    "\n",
    "👉 Make sure the number of variables matches the number of elements in the tuple when unpacking.\n"
   ]
  },
  {
   "cell_type": "code",
   "execution_count": null,
   "id": "a93baaef",
   "metadata": {},
   "outputs": [
    {
     "data": {
      "text/plain": [
       "tuple"
      ]
     },
     "execution_count": 18,
     "metadata": {},
     "output_type": "execute_result"
    }
   ],
   "source": [
    "#packing\n",
    "\n",
    "details_1= 1,2,3,4,5\n",
    "type(details_1)"
   ]
  },
  {
   "cell_type": "code",
   "execution_count": null,
   "id": "f984a786",
   "metadata": {},
   "outputs": [
    {
     "name": "stdout",
     "output_type": "stream",
     "text": [
      "a : 1 , b  : 2, c : 3 ,d: 4 ,e : 5   \n"
     ]
    }
   ],
   "source": [
    "#unpacking\n",
    "\n",
    "\n",
    "a,b,c,d,e=details_1\n",
    "print(f\"a : {a} , b  : {b}, c : {c} ,d: {d} ,e : {e}   \")"
   ]
  },
  {
   "cell_type": "code",
   "execution_count": 24,
   "id": "aeddc589",
   "metadata": {},
   "outputs": [],
   "source": [
    "#unpacking with *\n",
    "num=(1,2,3,4,5)"
   ]
  },
  {
   "cell_type": "code",
   "execution_count": 25,
   "id": "370aadbd",
   "metadata": {},
   "outputs": [
    {
     "name": "stdout",
     "output_type": "stream",
     "text": [
      "a : 1 , b  : [2, 3, 4], c : 5\n"
     ]
    }
   ],
   "source": [
    "a,*b,c=num\n",
    "print(f\"a : {a} , b  : {b}, c : {c}\")\n"
   ]
  },
  {
   "cell_type": "code",
   "execution_count": 27,
   "id": "d2e038e0",
   "metadata": {},
   "outputs": [
    {
     "name": "stdout",
     "output_type": "stream",
     "text": [
      "(1, 2, 3)\n",
      "('a', 'b', 'c')\n",
      "(True, False)\n"
     ]
    }
   ],
   "source": [
    "#nested tuple:\n",
    "tpl=((1,2,3),\n",
    "     (\"a\",\"b\",\"c\"),\n",
    "     (True,False)\n",
    "     )\n",
    "for i in tpl:\n",
    "  print(i)\n",
    " "
   ]
  },
  {
   "cell_type": "code",
   "execution_count": 31,
   "id": "7d5052cd",
   "metadata": {},
   "outputs": [
    {
     "name": "stdout",
     "output_type": "stream",
     "text": [
      "1  2  3  \n",
      "a  b  c  \n",
      "True  False  \n"
     ]
    }
   ],
   "source": [
    "for i in tpl:\n",
    "  for item in i:\n",
    "      print(item,end=\"  \")\n",
    "  print()"
   ]
  },
  {
   "cell_type": "markdown",
   "id": "0a5095e3",
   "metadata": {},
   "source": [
    "**Set in Python**:\n",
    "A **set** is a built-in data type that stores **unordered, unique items**.\n",
    "\n",
    "### Simple Definition:\n",
    "\n",
    "> A set is a collection of **unique elements** in **no particular order**.\n",
    "\n",
    "### Example:\n",
    "\n",
    "```python\n",
    "my_set = {1, 2, 3, 3, 4}\n",
    "print(my_set)\n",
    "```\n",
    "\n",
    "**Output:**\n",
    "\n",
    "```\n",
    "{1, 2, 3, 4}  # duplicate 3 is removed\n",
    "```\n",
    "\n",
    "### Key Points:\n",
    "\n",
    "* No duplicates allowed.\n",
    "* Unordered (items may appear in any order).\n",
    "* Mutable (you can add or remove items).\n"
   ]
  },
  {
   "cell_type": "code",
   "execution_count": 4,
   "id": "5a180b0b",
   "metadata": {},
   "outputs": [
    {
     "name": "stdout",
     "output_type": "stream",
     "text": [
      "{1, 2, 3, 4, 5}\n",
      "<class 'set'>\n",
      "[1, 2, 3, 4, 5]\n",
      "<class 'list'>\n",
      "(1, 2, 3, 4, 5)\n",
      "<class 'tuple'>\n"
     ]
    }
   ],
   "source": [
    "my_empty_set=set({1,2,3,4,5})\n",
    "print(my_empty_set)\n",
    "print(type(my_empty_set))\n",
    "\n",
    "my_empty_list=list([1,2,3,4,5])\n",
    "print(my_empty_list)\n",
    "print(type(my_empty_list))\n",
    "\n",
    "my_empty_tuple=tuple((1,2,3,4,5))\n",
    "print(my_empty_tuple)\n",
    "print(type(my_empty_tuple))"
   ]
  },
  {
   "cell_type": "markdown",
   "id": "f4627b1f",
   "metadata": {},
   "source": [
    "### Set Methods in Python: `add()`, `remove()`, `discard()`\n",
    "\n",
    "#### 1. `add()`\n",
    "\n",
    "* Adds a single element to the set.\n",
    "* If the element is already present, it does nothing.\n",
    "\n",
    "```python\n",
    "s = {1, 2}\n",
    "s.add(3)\n",
    "print(s)  # {1, 2, 3}\n",
    "```\n",
    "\n",
    "#### 2. `remove()`\n",
    "\n",
    "* Removes the specified element.\n",
    "* **Raises an error** if the element is not in the set.\n",
    "\n",
    "```python\n",
    "s = {1, 2, 3}\n",
    "s.remove(2)\n",
    "print(s)  # {1, 3}\n",
    "# s.remove(5)  # ❌ KeyError if uncommented\n",
    "```\n",
    "\n",
    "#### 3. `discard()`\n",
    "\n",
    "* Removes the specified element.\n",
    "* **Does NOT raise an error** if the element is not in the set.\n",
    "\n",
    "```python\n",
    "s = {1, 2, 3}\n",
    "s.discard(2)\n",
    "print(s)  # {1, 3}\n",
    "s.discard(5)  # No error\n",
    "```\n",
    "\n",
    "### Summary:\n",
    "\n",
    "| Method      | Removes element | Error if not present? |\n",
    "| ----------- | --------------- | --------------------- |\n",
    "| `add()`     | No (adds only)  | No                    |\n",
    "| `remove()`  | Yes             | **Yes**               |\n",
    "| `discard()` | Yes             | **No**                |\n",
    "\n",
    "\n",
    "### Set Methods: `pop()` and `clear()`\n",
    "\n",
    "#### 4. `pop()`\n",
    "\n",
    "* Removes and returns a **random element** from the set.\n",
    "* **Raises an error** if the set is empty.\n",
    "\n",
    "```python\n",
    "s = {10, 20, 30}\n",
    "item = s.pop()\n",
    "print(item)  # Random element like 10\n",
    "print(s)     # Remaining elements\n",
    "```\n",
    "\n",
    "#### 5. `clear()`\n",
    "\n",
    "* Removes **all elements** from the set.\n",
    "* The set becomes empty.\n",
    "\n",
    "```python\n",
    "s = {1, 2, 3}\n",
    "s.clear()\n",
    "print(s)  # Output: set()\n",
    "```\n",
    "\n",
    "### Summary:\n",
    "\n",
    "| Method    | Description                      | Error if empty/missing?   |\n",
    "| --------- | -------------------------------- | ------------------------- |\n",
    "| `pop()`   | Removes & returns random element | **Yes** (if set is empty) |\n",
    "| `clear()` | Removes all elements (empty set) | No                        |\n"
   ]
  },
  {
   "cell_type": "code",
   "execution_count": 9,
   "id": "94164089",
   "metadata": {},
   "outputs": [
    {
     "name": "stdout",
     "output_type": "stream",
     "text": [
      "add method:{1, 2, 3, 4, 5, 6, 7, 8, 10}\n",
      "remove method:{1, 2, 3, 5, 6, 7, 8, 10}\n",
      "discard method:{1, 2, 3, 5, 6, 7, 8, 10}\n"
     ]
    }
   ],
   "source": [
    "my_set={1,2,3,4,5,6,7,8}\n",
    "my_set.add(10)\n",
    "print(f\"add method:{my_set}\")\n",
    "\n",
    "my_set.remove(4)\n",
    "\n",
    "\n",
    "print(f\"remove method:{my_set}\")\n",
    "\n",
    "my_set.discard(11)\n",
    "print(f\"discard method:{my_set}\")"
   ]
  },
  {
   "cell_type": "code",
   "execution_count": 10,
   "id": "a1564e4a",
   "metadata": {},
   "outputs": [
    {
     "ename": "KeyError",
     "evalue": "11",
     "output_type": "error",
     "traceback": [
      "\u001b[31m---------------------------------------------------------------------------\u001b[39m",
      "\u001b[31mKeyError\u001b[39m                                  Traceback (most recent call last)",
      "\u001b[36mCell\u001b[39m\u001b[36m \u001b[39m\u001b[32mIn[10]\u001b[39m\u001b[32m, line 1\u001b[39m\n\u001b[32m----> \u001b[39m\u001b[32m1\u001b[39m \u001b[43mmy_set\u001b[49m\u001b[43m.\u001b[49m\u001b[43mremove\u001b[49m\u001b[43m(\u001b[49m\u001b[32;43m11\u001b[39;49m\u001b[43m)\u001b[49m\n",
      "\u001b[31mKeyError\u001b[39m: 11"
     ]
    }
   ],
   "source": [
    "my_set.remove(11)"
   ]
  },
  {
   "cell_type": "code",
   "execution_count": 11,
   "id": "fee46944",
   "metadata": {},
   "outputs": [
    {
     "name": "stdout",
     "output_type": "stream",
     "text": [
      "original set:{1, 2, 3, 5, 6, 7, 8, 10}\n",
      "pop method:{2, 3, 5, 6, 7, 8, 10}\n",
      "clear method:set()\n"
     ]
    }
   ],
   "source": [
    "print(f\"original set:{my_set}\")\n",
    "my_set.pop()\n",
    "print(f\"pop method:{my_set}\")\n",
    "my_set.clear()\n",
    "print(f\"clear method:{my_set}\")\n",
    "\n"
   ]
  },
  {
   "cell_type": "code",
   "execution_count": 17,
   "id": "4bc51cd7",
   "metadata": {},
   "outputs": [
    {
     "name": "stdout",
     "output_type": "stream",
     "text": [
      "original set:{1, 2, 3, 4, 5, 6, 7, 8, 9, 10}\n",
      "True\n",
      "False\n",
      "{2, 3, 4, 5, 6, 7, 8, 9, 10, 11, 12, 15}\n"
     ]
    }
   ],
   "source": [
    "#set membership test\n",
    "set1=set((range(1,11)))\n",
    "print(f\"original set:{set1}\")\n",
    "print(10 in set1)\n",
    "print(52 in set1)\n",
    "\n",
    "import random\n",
    "set2=set((random.randint(1,15) for i in range(20)))\n",
    "print(set2)\n",
    "\n"
   ]
  },
  {
   "cell_type": "code",
   "execution_count": null,
   "id": "09150e9b",
   "metadata": {},
   "outputs": [
    {
     "name": "stdout",
     "output_type": "stream",
     "text": [
      "set1:{1, 3, 4, 5, 6, 7, 8, 9, 11, 12, 13, 14, 15}\n",
      "set2:{1, 2, 4, 6, 8, 9, 10, 11, 14, 15}\n",
      "union:{1, 2, 3, 4, 5, 6, 7, 8, 9, 10, 11, 12, 13, 14, 15}\n",
      "intersection:{1, 4, 6, 8, 9, 11, 14, 15}\n",
      "intersection update:{1, 4, 6, 8, 9, 11, 14, 15}\n"
     ]
    },
    {
     "data": {
      "text/plain": [
       "{1, 4, 6, 8, 9, 11, 14, 15}"
      ]
     },
     "execution_count": 23,
     "metadata": {},
     "output_type": "execute_result"
    }
   ],
   "source": [
    "#mathematical operation:\n",
    "#union:\n",
    "import random\n",
    "set1={1, 3, 4, 5, 6, 7, 8, 9, 11, 12, 13, 14, 15}\n",
    "set2:{1, 2, 4, 6, 8, 9, 10, 11, 14, 15}\n",
    "print(f\"set1:{set1}\")\n",
    "print(f\"set2:{set2}\")\n",
    "\n",
    "a=set1.union(set2)\n",
    "print(f\"union:{a}\")\n",
    "\n",
    "#intersection:\n",
    "b=set1.intersection(set2)\n",
    "print(f\"intersection:{b}\")\n",
    "\n",
    "#intersection update: it change the alue and update inetersection value\n",
    "set1.intersection_update(set2)\n",
    "print(f\"intersection update:{set1}\")\n",
    "set1"
   ]
  },
  {
   "cell_type": "code",
   "execution_count": 29,
   "id": "c7391b5f",
   "metadata": {},
   "outputs": [
    {
     "ename": "NameError",
     "evalue": "name 'set3' is not defined",
     "output_type": "error",
     "traceback": [
      "\u001b[31m---------------------------------------------------------------------------\u001b[39m",
      "\u001b[31mNameError\u001b[39m                                 Traceback (most recent call last)",
      "\u001b[36mCell\u001b[39m\u001b[36m \u001b[39m\u001b[32mIn[29]\u001b[39m\u001b[32m, line 3\u001b[39m\n\u001b[32m      1\u001b[39m set3:{\u001b[32m1\u001b[39m, \u001b[32m3\u001b[39m, \u001b[32m4\u001b[39m, \u001b[32m5\u001b[39m, \u001b[32m6\u001b[39m, \u001b[32m11\u001b[39m, \u001b[32m12\u001b[39m, \u001b[32m13\u001b[39m, \u001b[32m14\u001b[39m, \u001b[32m15\u001b[39m}\n\u001b[32m      2\u001b[39m set4:{\u001b[32m1\u001b[39m, \u001b[32m2\u001b[39m,  \u001b[32m6\u001b[39m, \u001b[32m8\u001b[39m, \u001b[32m9\u001b[39m, \u001b[32m10\u001b[39m, \u001b[32m11\u001b[39m,  \u001b[32m15\u001b[39m}\n\u001b[32m----> \u001b[39m\u001b[32m3\u001b[39m \u001b[38;5;28mprint\u001b[39m(\u001b[33mf\u001b[39m\u001b[33m\"\u001b[39m\u001b[33mset3:\u001b[39m\u001b[38;5;132;01m{\u001b[39;00m\u001b[43mset3\u001b[49m\u001b[38;5;132;01m}\u001b[39;00m\u001b[33m\"\u001b[39m)\n\u001b[32m      4\u001b[39m \u001b[38;5;28mprint\u001b[39m(\u001b[33mf\u001b[39m\u001b[33m\"\u001b[39m\u001b[33mset2:\u001b[39m\u001b[38;5;132;01m{\u001b[39;00mset4\u001b[38;5;132;01m}\u001b[39;00m\u001b[33m\"\u001b[39m)\n\u001b[32m      5\u001b[39m d= set3.difference(set4)\n",
      "\u001b[31mNameError\u001b[39m: name 'set3' is not defined"
     ]
    }
   ],
   "source": [
    "set3:{1, 3, 4, 5, 6, 11, 12, 13, 14, 15}\n",
    "set4:{1, 2,  6, 8, 9, 10, 11,  15}\n",
    "print(f\"set3:{set3}\")\n",
    "print(f\"set2:{set4}\")\n",
    "d= set3.difference(set4)\n",
    "print(f\"set difference:{d}\")"
   ]
  },
  {
   "cell_type": "markdown",
   "id": "6dc0c6d4",
   "metadata": {},
   "source": [
    "### Assignment 14: Set Membership Testing\n",
    "\n",
    "Create a set and test if certain elements are present in the set. Print the results."
   ]
  },
  {
   "cell_type": "code",
   "execution_count": 1,
   "id": "9f3237a8",
   "metadata": {},
   "outputs": [
    {
     "name": "stdout",
     "output_type": "stream",
     "text": [
      "False\n",
      "True\n",
      "False\n",
      "True\n",
      "True\n"
     ]
    }
   ],
   "source": [
    "\n",
    "set13=set(range(1,11))\n",
    "\n",
    "print(13 in set13)\n",
    "print(3 in set13)\n",
    "print(11 in set13)\n",
    "print(1 in set13)\n",
    "print(7 in set13)\n",
    "\n",
    "\n",
    "\n",
    "\n",
    "\n",
    "\n",
    "\n",
    "\n",
    "\n",
    "\n",
    "\n",
    "\n",
    "\n",
    "\n",
    "\n",
    "\n",
    "\n",
    "\n",
    "\n",
    "\n",
    "\n",
    "\n",
    "# s = set(range(1, 6))\n",
    "# print(3 in s)\n",
    "# print(6 in s)"
   ]
  },
  {
   "cell_type": "markdown",
   "id": "03559683",
   "metadata": {},
   "source": [
    "### ✅ **`dict` Definition in Python:**\n",
    "\n",
    "A **`dict`** (dictionary) is a built-in Python data type used to store **key-value pairs**.\n",
    "\n",
    "```python\n",
    "my_dict = {\"name\": \"Alice\", \"age\": 25}\n",
    "```\n",
    "\n",
    "---\n",
    "\n",
    "### 🔑 **Key Points about `dict`:**\n",
    "\n",
    "1. **Unordered (Python < 3.7)**, but **insertion-ordered** from **Python 3.7+**.\n",
    "2. Keys must be **unique** and **immutable** (e.g., strings, numbers, tuples).\n",
    "3. Values can be **any data type**, and **duplicates are allowed**.\n",
    "4. Defined using **curly braces `{}`** or the **`dict()`** constructor.\n",
    "5. Access values using **keys**, not indexes.\n",
    "\n",
    "---\n",
    "\n",
    "### 📌 Example:\n",
    "\n",
    "```python\n",
    "person = {\n",
    "    \"name\": \"John\",\n",
    "    \"age\": 30,\n",
    "    \"city\": \"New York\"\n",
    "}\n",
    "\n",
    "print(person[\"name\"])  # Output: John\n",
    "```\n",
    "\n",
    "Let me know if you want operations or methods on `dict`.\n"
   ]
  },
  {
   "cell_type": "code",
   "execution_count": 6,
   "id": "27a0b376",
   "metadata": {},
   "outputs": [
    {
     "name": "stdout",
     "output_type": "stream",
     "text": [
      "<class 'dict'>\n"
     ]
    }
   ],
   "source": [
    "my_dict={}\n",
    "\n",
    "print(type(my_dict))"
   ]
  },
  {
   "cell_type": "code",
   "execution_count": 8,
   "id": "4d922099",
   "metadata": {},
   "outputs": [],
   "source": [
    "del dict"
   ]
  },
  {
   "cell_type": "code",
   "execution_count": 9,
   "id": "14d4b436",
   "metadata": {},
   "outputs": [
    {
     "data": {
      "text/plain": [
       "{}"
      ]
     },
     "execution_count": 9,
     "metadata": {},
     "output_type": "execute_result"
    }
   ],
   "source": [
    "dic=dict()\n",
    "dic"
   ]
  },
  {
   "cell_type": "code",
   "execution_count": null,
   "id": "b2897933",
   "metadata": {},
   "outputs": [
    {
     "name": "stdout",
     "output_type": "stream",
     "text": [
      "{'name': 24, 'age': 19}\n"
     ]
    }
   ],
   "source": [
    "#why to use unique key : it overwrite\n",
    "dic1={\n",
    "  \"name\":\"burhan\",\n",
    "  \"age\":19,\n",
    "  \"name\":24\n",
    "}\n",
    "print(dic1)"
   ]
  },
  {
   "cell_type": "code",
   "execution_count": 15,
   "id": "86ae8733",
   "metadata": {},
   "outputs": [
    {
     "name": "stdout",
     "output_type": "stream",
     "text": [
      "19 A burhan\n",
      "burhan A\n",
      "None\n",
      "jalal\n"
     ]
    }
   ],
   "source": [
    "#accessing elements by 2 methods : 1st is through key and 2nd is through get method\n",
    "\n",
    "dic1={\n",
    "  \"name\":\"burhan\",\n",
    "  \"age\":19,\n",
    "  \"grade\":\"A\"\n",
    "}\n",
    "\n",
    "a=dic1[\"age\"]\n",
    "b=dic1[\"grade\"]\n",
    "c=dic1[\"name\"]\n",
    "\n",
    "print(a,b,c)\n",
    "\n",
    "d=dic1.get(\"name\")\n",
    "e=dic1.get(\"grade\")\n",
    "print(d,e)\n",
    "\n",
    "#if value is not present in dict so it give none and also we gie default value \n",
    "f=dic1.get(\"surname\")\n",
    "print(f)\n",
    "g=dic1.get(\"surname\",\"jalal\")\n",
    "print(g)"
   ]
  },
  {
   "cell_type": "markdown",
   "id": "90832a51",
   "metadata": {},
   "source": [
    "###\n",
    "operation:\n",
    "\n",
    "\n",
    "\n",
    "dictionary are mutable so you can add,update and delete value"
   ]
  },
  {
   "cell_type": "code",
   "execution_count": 16,
   "id": "7de0ce3b",
   "metadata": {},
   "outputs": [
    {
     "data": {
      "text/plain": [
       "{'name': 'burhan', 'age': 19, 'grade': 'A'}"
      ]
     },
     "execution_count": 16,
     "metadata": {},
     "output_type": "execute_result"
    }
   ],
   "source": [
    "dic1"
   ]
  },
  {
   "cell_type": "code",
   "execution_count": 19,
   "metadata": {},
   "outputs": [
    {
     "name": "stdout",
     "output_type": "stream",
     "text": [
      "{'name': 'burhan', 'age': 19, 'grade': 'A+', 'surname': 'jalal'}\n",
      "{'name': 'burhan', 'age': 19, 'grade': 'A+', 'surname': 'jalal'}\n",
      "{'name': 'burhan', 'age': 19, 'surname': 'jalal'}\n"
     ]
    }
   ],
   "source": [
    "#update\n",
    "dic1[\"grade\"]=\"A+\"\n",
    "print(dic1)\n",
    "\n",
    "#add\n",
    "dic1[\"surname\"]=\"jalal\"\n",
    "print(dic1)\n",
    "\n",
    "#delete\n",
    "del dic1[\"grade\"]\n",
    "print(dic1)"
   ]
  },
  {
   "cell_type": "code",
   "execution_count": null,
   "id": "bd70965c",
   "metadata": {},
   "outputs": [
    {
     "name": "stdout",
     "output_type": "stream",
     "text": [
      "dict_keys(['name', 'age', 'surname'])\n",
      "dict_values(['burhan', 19, 'jalal'])\n",
      "dict_items([('name', 'burhan'), ('age', 19), ('surname', 'jalal')])\n"
     ]
    }
   ],
   "source": [
    "#methods:\n",
    "key=dic1.keys()      \n",
    "value=dic1.values()\n",
    "item=dic1.items()\n",
    "\n",
    "print(key)\n",
    "print(value)\n",
    "print(item)"
   ]
  },
  {
   "cell_type": "markdown",
   "id": "010c8cf2",
   "metadata": {},
   "source": [
    "Shallow Copy in Python\n",
    "\n",
    "\n",
    "\n",
    "\n",
    "A shallow copy creates a new object, but does not copy nested objects — it just copies references to them.\n",
    "\n"
   ]
  },
  {
   "cell_type": "code",
   "execution_count": 24,
   "id": "e8896237",
   "metadata": {},
   "outputs": [
    {
     "name": "stdout",
     "output_type": "stream",
     "text": [
      "{'name': 'burhan', 'age': 19, 'surname': 'jalal', 'student': 'shabbir'}\n",
      "{'name': 'burhan', 'age': 19, 'surname': 'jalal', 'student': 'shabbir'}\n",
      "{'name': 'burhan', 'age': 19, 'surname': 'jalal', 'student': 'shabbir'}\n"
     ]
    }
   ],
   "source": [
    "dic1_copy=dic1\n",
    "#if i change in dic1 then changes also occcur in dic1_copy:\n",
    "print(dic1)\n",
    "dic1[\"student\"]=\"shabbir\"\n",
    "print(dic1)\n",
    "print(dic1_copy)"
   ]
  },
  {
   "cell_type": "code",
   "execution_count": 26,
   "id": "9df525de",
   "metadata": {},
   "outputs": [
    {
     "name": "stdout",
     "output_type": "stream",
     "text": [
      "{'name': 'shabbir', 'age': 19, 'surname': 'jalal', 'student': 'shabbir'}\n",
      "{'name': 'burhan', 'age': 19, 'surname': 'jalal', 'student': 'shabbir'}\n"
     ]
    }
   ],
   "source": [
    "#thats why use shallow copy : it crates a new object but not copy.it just copies references\n",
    "dic1_copy1=dic1.copy()\n",
    "dic1[\"name\"]=\"shabbir\"\n",
    "print(dic1)\n",
    "print(dic1_copy1)\n"
   ]
  },
  {
   "cell_type": "code",
   "execution_count": 2,
   "id": "7bf66049",
   "metadata": {},
   "outputs": [
    {
     "name": "stdout",
     "output_type": "stream",
     "text": [
      "keys:name\n",
      "keys:age\n",
      "keys:cllg\n",
      "values:burhan\n",
      "values:19\n",
      "values:ITMBU\n",
      "name:burhan\n",
      "age:19\n",
      "cllg:ITMBU\n"
     ]
    }
   ],
   "source": [
    "#iterating key,value and key value throgh loop\n",
    "students={\n",
    "  \"name\":\"burhan\",\n",
    "  \"age\":19,\n",
    "  \"cllg\":\"ITMBU\"\n",
    "}\n",
    "for key in students.keys():\n",
    "       print(f\"keys:{key}\")\n",
    "for value in students.values():\n",
    "       print(f\"values:{value}\")\n",
    "for item,items in students.items():\n",
    "       print(f\"{item}:{items}\")"
   ]
  },
  {
   "cell_type": "code",
   "execution_count": 13,
   "id": "24675780",
   "metadata": {},
   "outputs": [
    {
     "name": "stdout",
     "output_type": "stream",
     "text": [
      "name of student1 is : burhan and name of student2 is : jalal \n"
     ]
    }
   ],
   "source": [
    "#create nested dictionaries and acccess value:\n",
    "student={\n",
    "  \"student1\":{\"name\":\"burhan\",\"age\":19},\n",
    "  \"student2\":{\"name\":\"jalal\",\"age\":29}\n",
    "}\n",
    "\n",
    "a=student[\"student1\"][\"name\"]\n",
    "b=student[\"student2\"][\"name\"]\n",
    "print(f\"name of student1 is : {a} and name of student2 is : {b} \")"
   ]
  },
  {
   "cell_type": "code",
   "execution_count": 14,
   "id": "8adcab78",
   "metadata": {},
   "outputs": [
    {
     "name": "stdout",
     "output_type": "stream",
     "text": [
      "student1:{'name': 'burhan', 'age': 19}\n",
      "student2:{'name': 'jalal', 'age': 29}\n"
     ]
    }
   ],
   "source": [
    "#iterating nested dict through loop\n",
    "\n",
    "for student_info,student_value in student.items():\n",
    "  print(f\"{student_info}:{student_value}\")"
   ]
  },
  {
   "cell_type": "code",
   "execution_count": 16,
   "id": "3d58f611",
   "metadata": {},
   "outputs": [
    {
     "name": "stdout",
     "output_type": "stream",
     "text": [
      "student1:{'name': 'burhan', 'age': 19}\n",
      "name:burhan\n",
      "age:19\n",
      "student2:{'name': 'jalal', 'age': 29}\n",
      "name:jalal\n",
      "age:29\n"
     ]
    }
   ],
   "source": [
    "for student_info,student_value in student.items():\n",
    "  print(f\"{student_info}:{student_value}\")\n",
    "  for key,value in student_value.items():\n",
    "    print(f\"{key}:{value}\")"
   ]
  },
  {
   "cell_type": "code",
   "execution_count": 19,
   "id": "e31d1024",
   "metadata": {},
   "outputs": [
    {
     "name": "stdout",
     "output_type": "stream",
     "text": [
      "0:0 1:1 2:4 3:9 4:16 "
     ]
    }
   ],
   "source": [
    "#without dictionary comprehension\n",
    "\n",
    "for i in range(5):\n",
    "  print(f\"{i}:{i**2}\",end=\" \")"
   ]
  },
  {
   "cell_type": "code",
   "execution_count": 21,
   "id": "4337371f",
   "metadata": {},
   "outputs": [
    {
     "name": "stdout",
     "output_type": "stream",
     "text": [
      "{0: 0, 1: 1, 2: 4, 3: 9, 4: 16}\n"
     ]
    }
   ],
   "source": [
    "#with dictionary comprehension\n",
    "my_dict={i:i**2 for i in range(5)}\n",
    "print(my_dict)"
   ]
  },
  {
   "cell_type": "code",
   "execution_count": 23,
   "id": "307a348c",
   "metadata": {},
   "outputs": [
    {
     "name": "stdout",
     "output_type": "stream",
     "text": [
      "{0: 0, 2: 2, 4: 4, 6: 6, 8: 8, 10: 10}\n"
     ]
    }
   ],
   "source": [
    "#conditional dictionary comprehension\n",
    "my_dict1={i:i for i in range(11) if i%2==0}\n",
    "print(my_dict1)"
   ]
  },
  {
   "cell_type": "code",
   "execution_count": 26,
   "id": "a409c1bd",
   "metadata": {},
   "outputs": [
    {
     "name": "stdout",
     "output_type": "stream",
     "text": [
      "{1: 4, 2: 4, 3: 3, 4: 4}\n"
     ]
    }
   ],
   "source": [
    "#use a dictionary to count the frequency of a number in a list:\n",
    "lst=[1,1,1,2,2,3,4,3,4,2,3,4,2,1,4]\n",
    "frequency={}\n",
    "\n",
    "for i in lst:\n",
    "  if i in frequency:\n",
    "    frequency[i]+=1\n",
    "  else:\n",
    "    frequency[i]=1\n",
    "\n",
    "print(frequency)"
   ]
  },
  {
   "cell_type": "code",
   "execution_count": null,
   "id": "941aebcd",
   "metadata": {},
   "outputs": [
    {
     "name": "stdout",
     "output_type": "stream",
     "text": [
      "a:4\n",
      "b:5\n"
     ]
    }
   ],
   "source": [
    "#merged dict:\n",
    "dict1={\"a\":2,\"b\":3}\n",
    "dict2={\"b\":4,\"c\":5}\n",
    "merged={**dict1,**dict2}\n",
    "print(merged)\n",
    "\n",
    "\n"
   ]
  },
  {
   "cell_type": "code",
   "execution_count": null,
   "id": "774cd573",
   "metadata": {},
   "outputs": [],
   "source": []
  }
 ],
 "metadata": {
  "kernelspec": {
   "display_name": ".venv",
   "language": "python",
   "name": "python3"
  },
  "language_info": {
   "codemirror_mode": {
    "name": "ipython",
    "version": 3
   },
   "file_extension": ".py",
   "mimetype": "text/x-python",
   "name": "python",
   "nbconvert_exporter": "python",
   "pygments_lexer": "ipython3",
   "version": "3.11.9"
  }
 },
 "nbformat": 4,
 "nbformat_minor": 5
}

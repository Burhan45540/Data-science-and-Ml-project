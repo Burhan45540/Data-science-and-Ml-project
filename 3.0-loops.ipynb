{
 "cells": [
  {
   "cell_type": "markdown",
   "id": "aa9c26f9",
   "metadata": {},
   "source": [
    "A for loop in Python is used to repeat a block of code a certain number of times.\n",
    "\n"
   ]
  },
  {
   "cell_type": "code",
   "execution_count": 2,
   "id": "ad4fbe9d",
   "metadata": {},
   "outputs": [
    {
     "data": {
      "text/plain": [
       "range(0, 5)"
      ]
     },
     "execution_count": 2,
     "metadata": {},
     "output_type": "execute_result"
    }
   ],
   "source": [
    "range(5)"
   ]
  },
  {
   "cell_type": "code",
   "execution_count": null,
   "id": "2352f0b7",
   "metadata": {},
   "outputs": [
    {
     "name": "stdout",
     "output_type": "stream",
     "text": [
      "0\n",
      "1\n",
      "2\n",
      "3\n",
      "4\n"
     ]
    }
   ],
   "source": [
    "#default value is start from zero\n",
    "for i in range(5):\n",
    "  print(i)"
   ]
  },
  {
   "cell_type": "code",
   "execution_count": 4,
   "id": "58c10d48",
   "metadata": {},
   "outputs": [
    {
     "name": "stdout",
     "output_type": "stream",
     "text": [
      "1\n",
      "2\n",
      "3\n",
      "4\n"
     ]
    }
   ],
   "source": [
    "#if we also able to give start and end point:\n",
    "for i in range(1,5):\n",
    "  print(i)"
   ]
  },
  {
   "cell_type": "code",
   "execution_count": 7,
   "id": "4a78d3d6",
   "metadata": {},
   "outputs": [
    {
     "name": "stdout",
     "output_type": "stream",
     "text": [
      "1\n",
      "3\n",
      "5\n",
      "7\n",
      "9\n"
     ]
    }
   ],
   "source": [
    "#also give step value\n",
    "for i in range(1,10,2):\n",
    "  print(i)"
   ]
  },
  {
   "cell_type": "code",
   "execution_count": 8,
   "id": "c77b0782",
   "metadata": {},
   "outputs": [
    {
     "name": "stdout",
     "output_type": "stream",
     "text": [
      "5\n",
      "4\n",
      "3\n",
      "2\n"
     ]
    }
   ],
   "source": [
    "#if we print in reverse then\n",
    "for i in range(5,1,-1):\n",
    "  print(i)"
   ]
  },
  {
   "cell_type": "code",
   "execution_count": 9,
   "id": "120ed2f4",
   "metadata": {},
   "outputs": [
    {
     "name": "stdout",
     "output_type": "stream",
     "text": [
      "10\n",
      "8\n",
      "6\n",
      "4\n",
      "2\n"
     ]
    }
   ],
   "source": [
    "#and with gap of 2 or other\n",
    "for i in range(10,1,-2):\n",
    "  print(i)"
   ]
  },
  {
   "cell_type": "markdown",
   "id": "de9271df",
   "metadata": {},
   "source": [
    "A while loop repeats a block of code as long as a condition is True."
   ]
  },
  {
   "cell_type": "code",
   "execution_count": 10,
   "id": "9674d217",
   "metadata": {},
   "outputs": [
    {
     "name": "stdout",
     "output_type": "stream",
     "text": [
      "0\n",
      "1\n",
      "2\n",
      "3\n",
      "4\n"
     ]
    }
   ],
   "source": [
    "count=0\n",
    "while count<5:\n",
    "  print(count)\n",
    "  count+=1"
   ]
  },
  {
   "cell_type": "code",
   "execution_count": 12,
   "id": "f2e07a23",
   "metadata": {},
   "outputs": [
    {
     "name": "stdout",
     "output_type": "stream",
     "text": [
      "0\n"
     ]
    }
   ],
   "source": [
    "count=0\n",
    "while count%2==0:\n",
    "  print(count)\n",
    "  count+=1\n",
    " "
   ]
  },
  {
   "cell_type": "markdown",
   "id": "adbfe63d",
   "metadata": {},
   "source": [
    "LOOP CONTROL STATEMENT\n",
    "\n",
    "\n",
    "The break statement is used to exit a loop early, even if the condition is still True."
   ]
  },
  {
   "cell_type": "code",
   "execution_count": 13,
   "id": "710a55e6",
   "metadata": {},
   "outputs": [
    {
     "name": "stdout",
     "output_type": "stream",
     "text": [
      "0\n",
      "1\n",
      "2\n",
      "3\n",
      "4\n",
      "5\n"
     ]
    }
   ],
   "source": [
    "for i in range(10):\n",
    "  if i==6:\n",
    "    break\n",
    "  print(i)"
   ]
  },
  {
   "cell_type": "markdown",
   "id": "09593761",
   "metadata": {},
   "source": [
    "The continue statement is used to skip the current loop step and go to the next one."
   ]
  },
  {
   "cell_type": "code",
   "execution_count": 16,
   "id": "30c7a5d1",
   "metadata": {},
   "outputs": [
    {
     "name": "stdout",
     "output_type": "stream",
     "text": [
      "0\n",
      "1\n",
      "2\n",
      "3\n",
      "4\n",
      "5\n",
      " is not there\n",
      "7\n",
      "8\n",
      "9\n"
     ]
    }
   ],
   "source": [
    "for i in range(10):\n",
    "  if i==6:\n",
    "    print(\" is not there\")\n",
    "    continue\n",
    "    \n",
    "  print(i)"
   ]
  },
  {
   "cell_type": "markdown",
   "id": "76b661cc",
   "metadata": {},
   "source": [
    "The pass statement means \"do nothing\".\n",
    "\n",
    "Use Case:\n",
    "You use pass when Python requires a statement, but you don't want to write any code there (yet).\n",
    "\n"
   ]
  },
  {
   "cell_type": "code",
   "execution_count": 17,
   "id": "76febc55",
   "metadata": {},
   "outputs": [
    {
     "name": "stdout",
     "output_type": "stream",
     "text": [
      "0\n",
      "1\n",
      "2\n",
      "3\n",
      "4\n",
      "5\n",
      " is there\n",
      "6\n",
      "7\n",
      "8\n",
      "9\n"
     ]
    }
   ],
   "source": [
    "for i in range(10):\n",
    "  if i==6:\n",
    "    print(\" is there\")\n",
    "    pass\n",
    "    \n",
    "  print(i)"
   ]
  },
  {
   "cell_type": "code",
   "execution_count": null,
   "id": "2a6834db",
   "metadata": {},
   "outputs": [
    {
     "name": "stdout",
     "output_type": "stream",
     "text": [
      "i:0 and j:0\n",
      "i:0 and j:1\n",
      "i:0 and j:2\n",
      "i:1 and j:0\n",
      "i:1 and j:1\n",
      "i:1 and j:2\n",
      "i:2 and j:0\n",
      "i:2 and j:1\n",
      "i:2 and j:2\n",
      "i:3 and j:0\n",
      "i:3 and j:1\n",
      "i:3 and j:2\n",
      "i:4 and j:0\n",
      "i:4 and j:1\n",
      "i:4 and j:2\n"
     ]
    }
   ],
   "source": [
    "#nested loop> a loop inside a loop\n",
    "\n",
    "# f-strings are a simple way to insert variables into strings.\n",
    "\n",
    "for i in range(5):\n",
    "  for j in range(3):\n",
    "    print(f\"i:{i} and j:{j}\")\n",
    "\n",
    "# range(5) gives i values: 0, 1, 2, 3, 4\n",
    "\n",
    "# For each value of i, the inner loop runs j from 0 to 2"
   ]
  },
  {
   "cell_type": "code",
   "execution_count": null,
   "id": "15adece4",
   "metadata": {},
   "outputs": [],
   "source": [
    "#calculate sum of n natural  number using while loops:\n",
    "\n",
    "num=int(input(\"enter a number:\"))\n",
    "sum=0\n",
    "i=1\n",
    "while i<=num:\n",
    "  sum=sum+i\n",
    "  i+=1\n",
    "print(f\"sum of first n natural number is {sum}\")"
   ]
  },
  {
   "cell_type": "code",
   "execution_count": null,
   "id": "fdf93c4f",
   "metadata": {},
   "outputs": [
    {
     "name": "stdout",
     "output_type": "stream",
     "text": [
      "sum of first n natural number is 55\n"
     ]
    }
   ],
   "source": [
    "#calculate sum of n natural  number using for loops:\n",
    "num1=int(input(\"enter a number:\"))\n",
    "sum=0\n",
    "for i in range(1,num1+1):\n",
    "  sum=sum+i\n",
    "  \n",
    "print(f\"sum of first n natural number is {sum}\")"
   ]
  },
  {
   "cell_type": "code",
   "execution_count": null,
   "id": "60dce4c1",
   "metadata": {},
   "outputs": [
    {
     "name": "stdout",
     "output_type": "stream",
     "text": [
      "-----------------------------------------------------------------------------------------"
     ]
    }
   ],
   "source": [
    "#prime numbers: number is greater than 1 and it is only divisible by 1\n",
    "num2=int(input(\"enter a number:\"))\n",
    "\n",
    "if num2<=1:\n",
    "  print(f\"{num2} is not a prime number\")\n",
    "  \n",
    "if num2>1:\n",
    "  for i in range(2,num2):\n",
    "    if num2%i==0:\n",
    "      print(f\"{num2} is not a prime number\")\n",
    "      break\n",
    "  else:\n",
    "    print(f\"{num2} is a prime number\")\n",
    "    \n",
    "# Example:\n",
    "# If you enter 7:\n",
    "\n",
    "# It checks: 7 % 2, 7 % 3, ..., 7 % 6 → none give remainder 0\n",
    "\n",
    "# So it prints: 7 is a prime number\n",
    "\n",
    "# If you enter 6:\n",
    "\n",
    "# 6 % 2 = 0 → it is divisible\n",
    "\n",
    "# So it prints: 6 is not a prime number\n",
    "#-------------------------------------------------------------------------------------------\n",
    "# The for loop checks if num2 is divisible by any number from 2 to num2 - 1.\n",
    "\n",
    "# If divisible → break the loop and print not prime\n",
    "\n",
    "# If loop finishes without break → number is prime\n"
   ]
  },
  {
   "cell_type": "code",
   "execution_count": 13,
   "id": "36c9d199",
   "metadata": {},
   "outputs": [
    {
     "name": "stdout",
     "output_type": "stream",
     "text": [
      "2 is a prime number\n",
      "3 is a prime number\n",
      "4 is not a prime number\n",
      "5 is a prime number\n",
      "6 is not a prime number\n",
      "7 is a prime number\n",
      "8 is not a prime number\n",
      "9 is not a prime number\n",
      "10 is not a prime number\n",
      "11 is a prime number\n",
      "12 is not a prime number\n",
      "13 is a prime number\n",
      "14 is not a prime number\n",
      "15 is not a prime number\n",
      "16 is not a prime number\n",
      "17 is a prime number\n",
      "18 is not a prime number\n",
      "19 is a prime number\n",
      "20 is not a prime number\n",
      "21 is not a prime number\n",
      "22 is not a prime number\n",
      "23 is a prime number\n",
      "24 is not a prime number\n",
      "25 is not a prime number\n",
      "26 is not a prime number\n",
      "27 is not a prime number\n",
      "28 is not a prime number\n",
      "29 is a prime number\n",
      "30 is not a prime number\n",
      "31 is a prime number\n",
      "32 is not a prime number\n",
      "33 is not a prime number\n",
      "34 is not a prime number\n",
      "35 is not a prime number\n",
      "36 is not a prime number\n",
      "37 is a prime number\n",
      "38 is not a prime number\n",
      "39 is not a prime number\n",
      "40 is not a prime number\n",
      "41 is a prime number\n",
      "42 is not a prime number\n",
      "43 is a prime number\n",
      "44 is not a prime number\n",
      "45 is not a prime number\n",
      "46 is not a prime number\n",
      "47 is a prime number\n",
      "48 is not a prime number\n",
      "49 is not a prime number\n",
      "50 is not a prime number\n",
      "51 is not a prime number\n",
      "52 is not a prime number\n",
      "53 is a prime number\n",
      "54 is not a prime number\n",
      "55 is not a prime number\n",
      "56 is not a prime number\n",
      "57 is not a prime number\n",
      "58 is not a prime number\n",
      "59 is a prime number\n",
      "60 is not a prime number\n",
      "61 is a prime number\n",
      "62 is not a prime number\n",
      "63 is not a prime number\n",
      "64 is not a prime number\n",
      "65 is not a prime number\n",
      "66 is not a prime number\n",
      "67 is a prime number\n",
      "68 is not a prime number\n",
      "69 is not a prime number\n",
      "70 is not a prime number\n",
      "71 is a prime number\n",
      "72 is not a prime number\n",
      "73 is a prime number\n",
      "74 is not a prime number\n",
      "75 is not a prime number\n",
      "76 is not a prime number\n",
      "77 is not a prime number\n",
      "78 is not a prime number\n",
      "79 is a prime number\n",
      "80 is not a prime number\n",
      "81 is not a prime number\n",
      "82 is not a prime number\n",
      "83 is a prime number\n",
      "84 is not a prime number\n",
      "85 is not a prime number\n",
      "86 is not a prime number\n",
      "87 is not a prime number\n",
      "88 is not a prime number\n",
      "89 is a prime number\n",
      "90 is not a prime number\n",
      "91 is not a prime number\n",
      "92 is not a prime number\n",
      "93 is not a prime number\n",
      "94 is not a prime number\n",
      "95 is not a prime number\n",
      "96 is not a prime number\n",
      "97 is a prime number\n",
      "98 is not a prime number\n",
      "99 is not a prime number\n",
      "100 is not a prime number\n"
     ]
    }
   ],
   "source": [
    "for num3 in range(2,101):\n",
    "  if num3>1:\n",
    "    for i in range(2,num3):\n",
    "      if num3%i==0:\n",
    "        print(f\"{num3} is not a prime number\")\n",
    "        break\n",
    "    else:\n",
    "      print(f\"{num3} is a prime number\")\n",
    "\n",
    "    \n",
    "\n",
    "  \n",
    "    "
   ]
  },
  {
   "cell_type": "code",
   "execution_count": null,
   "id": "f650b1a2",
   "metadata": {},
   "outputs": [],
   "source": []
  }
 ],
 "metadata": {
  "kernelspec": {
   "display_name": ".venv",
   "language": "python",
   "name": "python3"
  },
  "language_info": {
   "codemirror_mode": {
    "name": "ipython",
    "version": 3
   },
   "file_extension": ".py",
   "mimetype": "text/x-python",
   "name": "python",
   "nbconvert_exporter": "python",
   "pygments_lexer": "ipython3",
   "version": "3.11.9"
  }
 },
 "nbformat": 4,
 "nbformat_minor": 5
}

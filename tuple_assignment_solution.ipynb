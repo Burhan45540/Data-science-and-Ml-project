{
 "cells": [
  {
   "cell_type": "markdown",
   "metadata": {},
   "source": [
    "# Module 3: Data Structures Assignments\n",
    "## Lesson 3.2: Tuples\n",
    "### Assignment 1: Creating and Accessing Tuples\n",
    "\n",
    "Create a tuple with the first 10 positive integers. Print the tuple."
   ]
  },
  {
   "cell_type": "code",
   "execution_count": 2,
   "metadata": {},
   "outputs": [
    {
     "name": "stdout",
     "output_type": "stream",
     "text": [
      "tuple with first 10 +ve integers : (1, 2, 3, 4, 5, 6, 7, 8, 9, 10)\n"
     ]
    }
   ],
   "source": [
    "tpl=tuple(range(1,11))\n",
    "print(f\"tuple with first 10 +ve integers : {tpl}\")\n",
    "\n",
    "\n",
    "\n",
    "\n",
    "\n",
    "\n",
    "\n",
    "\n",
    "\n",
    "\n",
    "\n",
    "\n",
    "# tpl = tuple(range(1, 11))\n",
    "# print(tpl)"
   ]
  },
  {
   "cell_type": "markdown",
   "metadata": {},
   "source": [
    "### Assignment 2: Accessing Tuple Elements\n",
    "\n",
    "Print the first, middle, and last elements of the tuple created in Assignment 1."
   ]
  },
  {
   "cell_type": "code",
   "execution_count": null,
   "metadata": {},
   "outputs": [
    {
     "name": "stdout",
     "output_type": "stream",
     "text": [
      "first element:1\n",
      "middle element:[2, 3, 4, 5, 6, 7, 8, 9]\n",
      "last element:10\n"
     ]
    }
   ],
   "source": [
    "\n",
    "a,*b,c=tpl\n",
    "print(f\"first element:{a}\")\n",
    "print(f\"middle element:{b}\")\n",
    "print(f\"last element:{c}\")\n",
    "\n",
    "\n",
    "\n",
    "\n",
    "\n",
    "\n",
    "\n",
    "# print(f\"First element: {tpl[0]}\")\n",
    "# print(f\"Middle element: {tpl[len(tpl) // 2]}\")\n",
    "# print(f\"Last element: {tpl[-1]}\")"
   ]
  },
  {
   "cell_type": "markdown",
   "metadata": {},
   "source": [
    "### Assignment 3: Tuple Slicing\n",
    "\n",
    "Print the first three elements, the last three elements, and the elements from index 2 to 5 of the tuple created in Assignment 1."
   ]
  },
  {
   "cell_type": "code",
   "execution_count": null,
   "metadata": {},
   "outputs": [
    {
     "name": "stdout",
     "output_type": "stream",
     "text": [
      "first 3 element is (1, 2, 3)\n",
      "last 3 element is (8, 9, 10)\n",
      "index 2 to 5 element is (3, 4, 5)\n",
      "First three elements: (1, 2, 3)\n",
      "Last three elements: (8, 9, 10)\n",
      "Elements from index 2 to 5: (3, 4, 5, 6)\n"
     ]
    }
   ],
   "source": [
    "a=tpl[0:3]\n",
    "b=tpl[-3:]\n",
    "c=tpl[2:6]\n",
    "\n",
    "print(f\"first 3 element is {a}\") \n",
    "\n",
    "print(f\"last 3 element is {b}\") \n",
    "\n",
    "print(f\"index 2 to 5 element is {c}\") \n",
    "\n",
    "\n",
    "\n",
    "\n",
    "\n",
    "\n",
    "\n",
    "\n",
    "\n",
    "\n",
    "\n",
    "\n",
    "print(f\"First three elements: {tpl[:3]}\")\n",
    "print(f\"Last three elements: {tpl[-3:]}\")\n",
    "print(f\"Elements from index 2 to 5: {tpl[2:6]}\")"
   ]
  },
  {
   "cell_type": "markdown",
   "metadata": {},
   "source": [
    "### Assignment 4: Nested Tuples\n",
    "\n",
    "Create a nested tuple representing a 3x3 matrix and print the matrix. Access and print the element at the second row and third column."
   ]
  },
  {
   "cell_type": "code",
   "execution_count": 10,
   "metadata": {},
   "outputs": [
    {
     "name": "stdout",
     "output_type": "stream",
     "text": [
      "original matrix : ((1, 2, 3, 4), (5, 6, 7, 8), (9, 10, 11, 12))\n",
      "(5, 6, 7, 8)\n",
      "3 7 11 "
     ]
    }
   ],
   "source": [
    "\n",
    "matrix=(\n",
    "    (1,2,3,4),\n",
    "    (5,6,7,8),\n",
    "    (9,10,11,12)\n",
    ")\n",
    "print(f\"original matrix : {matrix}\")\n",
    "\n",
    "a=matrix[1]\n",
    "print(a)\n",
    "\n",
    "\n",
    "for row in matrix:\n",
    "    print(row[2],end=\" \")\n",
    "\n",
    "\n",
    "\n",
    "\n",
    "\n",
    "\n",
    "\n",
    "\n",
    "\n",
    "\n",
    "\n",
    "\n",
    "\n",
    "\n",
    "\n",
    "\n",
    "\n",
    "\n",
    "\n",
    "\n",
    "\n",
    "\n",
    "\n",
    "\n",
    "\n",
    "# matrix = (\n",
    "#     (1, 2, 3),\n",
    "#     (4, 5, 6),\n",
    "#     (7, 8, 9)\n",
    "# )\n",
    "# print(\"Matrix:\")\n",
    "# for row in matrix:\n",
    "#     print(row)\n",
    "# print(f\"Element at second row and third column: {matrix[1][2]}\")"
   ]
  },
  {
   "cell_type": "markdown",
   "metadata": {},
   "source": [
    "### Assignment 5: Tuple Concatenation\n",
    "\n",
    "Concatenate two tuples: (1, 2, 3) and (4, 5, 6). Print the resulting tuple."
   ]
  },
  {
   "cell_type": "code",
   "execution_count": 11,
   "metadata": {},
   "outputs": [
    {
     "name": "stdout",
     "output_type": "stream",
     "text": [
      "concatenation of 2 tuple is (1, 2, 3, 4, 5, 6)\n"
     ]
    }
   ],
   "source": [
    "\n",
    "\n",
    "tpl1=(1,2,3)\n",
    "tpl2=(4,5,6)\n",
    "result=tpl1+tpl2\n",
    "print(f\"concatenation of 2 tuple is {result}\")\n",
    "\n",
    "\n",
    "\n",
    "\n",
    "\n",
    "\n",
    "\n",
    "\n",
    "\n",
    "\n",
    "\n",
    "\n",
    "\n",
    "\n",
    "# tpl1 = (1, 2, 3)\n",
    "# tpl2 = (4, 5, 6)\n",
    "# concatenated = tpl1 + tpl2\n",
    "# print(concatenated)"
   ]
  },
  {
   "cell_type": "markdown",
   "metadata": {},
   "source": [
    "### Assignment 6: Tuple Methods\n",
    "\n",
    "Create a tuple with duplicate elements and count the occurrences of an element. Find the index of the first occurrence of an element in the tuple."
   ]
  },
  {
   "cell_type": "code",
   "execution_count": 18,
   "metadata": {},
   "outputs": [
    {
     "name": "stdout",
     "output_type": "stream",
     "text": [
      "(1, 2, 2, 2, 3, 4, 5, 6, 7, 8, 9, 22, 22, 2, 2, 2)\n",
      "count method:6\n",
      "index method:11\n"
     ]
    }
   ],
   "source": [
    "# import random\n",
    "# tpl=tuple(random.randint(1,20) for i in range(15))\n",
    "tpl=(1,2,2,2,3,4,5,6,7,8,9,22,22,2,2,2,)\n",
    "print(tpl)\n",
    "\n",
    "a=tpl.count(2)\n",
    "b=tpl.index(22)\n",
    "\n",
    "print(f\"count method:{a}\")\n",
    "print(f\"index method:{b}\")\n",
    "\n",
    "\n",
    "\n",
    "\n",
    "\n",
    "\n",
    "\n",
    "\n",
    "\n",
    "\n",
    "\n",
    "\n",
    "\n",
    "\n",
    "\n",
    "\n",
    "\n",
    "\n",
    "\n",
    "\n",
    "\n",
    "\n",
    "\n",
    "\n",
    "\n",
    "\n",
    "\n",
    "\n",
    "\n",
    "\n",
    "# tpl = (1, 2, 2, 3, 4, 4, 4, 5)\n",
    "# print(f\"Occurrences of 4: {tpl.count(4)}\")\n",
    "# print(f\"Index of first occurrence of 2: {tpl.index(2)}\")"
   ]
  },
  {
   "cell_type": "markdown",
   "metadata": {},
   "source": [
    "### Assignment 7: Unpacking Tuples\n",
    "\n",
    "Create a tuple with 5 elements and unpack it into 5 variables. Print the variables."
   ]
  },
  {
   "cell_type": "code",
   "execution_count": 20,
   "metadata": {},
   "outputs": [
    {
     "name": "stdout",
     "output_type": "stream",
     "text": [
      "1 2 3 4 5\n"
     ]
    }
   ],
   "source": [
    "\n",
    "tpl=(1,2,3,4,5)\n",
    "\n",
    "a,b,c,d,e=tpl\n",
    "print(a,b,c,d,e)\n",
    "\n",
    "\n",
    "\n",
    "\n",
    "\n",
    "\n",
    "\n",
    "\n",
    "\n",
    "\n",
    "\n",
    "\n",
    "\n",
    "\n",
    "\n",
    "\n",
    "\n",
    "\n",
    "\n",
    "\n",
    "\n",
    "\n",
    "# tpl = (1, 2, 3, 4, 5)\n",
    "# a, b, c, d, e = tpl\n",
    "# print(a, b, c, d, e)"
   ]
  },
  {
   "cell_type": "markdown",
   "metadata": {},
   "source": [
    "### Assignment 8: Tuple Conversion\n",
    "\n",
    "Convert a list of the first 5 positive integers to a tuple. Print the tuple."
   ]
  },
  {
   "cell_type": "code",
   "execution_count": 23,
   "metadata": {},
   "outputs": [
    {
     "name": "stdout",
     "output_type": "stream",
     "text": [
      "[1, 2, 3, 4, 5]\n"
     ]
    },
    {
     "data": {
      "text/plain": [
       "(1, 2, 3, 4, 5)"
      ]
     },
     "execution_count": 23,
     "metadata": {},
     "output_type": "execute_result"
    }
   ],
   "source": [
    "lst=[]\n",
    "for i in range(1,6):\n",
    "  lst.append(i)\n",
    "\n",
    "print(lst)\n",
    "\n",
    "tpl=tuple(lst)\n",
    "tpl\n",
    "\n",
    "\n",
    "\n",
    "\n",
    "\n",
    "\n",
    "\n",
    "\n",
    "\n",
    "\n",
    "\n",
    "\n",
    "\n",
    "\n",
    "\n",
    "\n",
    "\n",
    "\n",
    "\n",
    "\n",
    "\n",
    "\n",
    "\n",
    "\n",
    "\n",
    "\n",
    "\n",
    "\n",
    "\n",
    "# lst = [1, 2, 3, 4, 5]\n",
    "# tpl = tuple(lst)\n",
    "# print(tpl)"
   ]
  },
  {
   "cell_type": "markdown",
   "metadata": {},
   "source": [
    "### Assignment 9: Tuple of Tuples\n",
    "\n",
    "Create a tuple containing 3 tuples, each with 3 elements. Print the tuple of tuples."
   ]
  },
  {
   "cell_type": "code",
   "execution_count": 25,
   "metadata": {},
   "outputs": [
    {
     "name": "stdout",
     "output_type": "stream",
     "text": [
      "(1, 2, 3)\n",
      "(5, 6, 7)\n",
      "(9, 10, 11)\n",
      "((1, 2, 3), (4, 5, 6), (7, 8, 9))\n"
     ]
    }
   ],
   "source": [
    "tpl=(\n",
    "  (1,2,3),(5,6,7),(9,10,11)\n",
    ")\n",
    "for i in tpl:\n",
    "  print(i)\n",
    "\n",
    "\n",
    "\n",
    "\n",
    "\n",
    "\n",
    "\n",
    "\n",
    "\n",
    "\n",
    "\n",
    "\n",
    "\n",
    "\n",
    "\n",
    "\n",
    "\n",
    "\n",
    "\n",
    "\n",
    "\n",
    "\n",
    "\n",
    "\n",
    "\n",
    "\n",
    "tpl_of_tpls = (\n",
    "    (1, 2, 3),\n",
    "    (4, 5, 6),\n",
    "    (7, 8, 9)\n",
    ")\n",
    "print(tpl_of_tpls)"
   ]
  },
  {
   "cell_type": "markdown",
   "metadata": {},
   "source": [
    "### Assignment 10: Tuple and List\n",
    "\n",
    "Create a tuple with the first 5 positive integers. Convert it to a list, append the number 6, and convert it back to a tuple. Print the resulting tuple."
   ]
  },
  {
   "cell_type": "code",
   "execution_count": 29,
   "metadata": {},
   "outputs": [
    {
     "name": "stdout",
     "output_type": "stream",
     "text": [
      "original tuple:(1, 2, 3, 4, 5)\n",
      "tuple to list:[1, 2, 3, 4, 5]\n",
      "append 6 into new tupple(1, 2, 3, 4, 5, 6)\n"
     ]
    }
   ],
   "source": [
    "\n",
    "tpl=(1,2,3,4,5)\n",
    "lst=list(tpl)\n",
    "print(f\"original tuple:{tpl}\")\n",
    "print(f\"tuple to list:{lst}\")\n",
    "\n",
    "lst.append(6)\n",
    "tpl=tuple(lst)\n",
    "print(f\"append 6 into new tupple{tpl}\")\n",
    "\n",
    "\n",
    "\n",
    "\n",
    "\n",
    "\n",
    "\n",
    "\n",
    "\n",
    "\n",
    "\n",
    "\n",
    "\n",
    "# tpl = (1, 2, 3, 4, 5)\n",
    "# lst = list(tpl)\n",
    "# lst.append(6)\n",
    "# tpl = tuple(lst)\n",
    "# print(tpl)"
   ]
  },
  {
   "cell_type": "markdown",
   "metadata": {},
   "source": [
    "### Assignment 11: Tuple and String\n",
    "\n",
    "Create a tuple with the characters of a string. Join the tuple elements into a single string. Print the string."
   ]
  },
  {
   "cell_type": "code",
   "execution_count": 31,
   "metadata": {},
   "outputs": [
    {
     "name": "stdout",
     "output_type": "stream",
     "text": [
      "burhan\n",
      "hello\n"
     ]
    }
   ],
   "source": [
    "tpl=('b','u','r','h','a','n')\n",
    "\n",
    "joined_string=''.join(tpl)\n",
    "\n",
    "print(joined_string)\n",
    "\n",
    "\n",
    "\n",
    "\n",
    "\n",
    "\n",
    "\n",
    "\n",
    "\n",
    "\n",
    "\n",
    "\n",
    "\n",
    "\n",
    "\n",
    "\n",
    "\n",
    "\n",
    "\n",
    "\n",
    "\n",
    "string = \"hello\"\n",
    "tpl = tuple(string)\n",
    "joined_string = ''.join(tpl)\n",
    "print(joined_string)"
   ]
  },
  {
   "cell_type": "markdown",
   "metadata": {},
   "source": [
    "### Assignment 12: Tuple and Dictionary\n",
    "\n",
    "Create a dictionary with tuple keys and integer values. Print the dictionary."
   ]
  },
  {
   "cell_type": "code",
   "execution_count": 33,
   "metadata": {},
   "outputs": [
    {
     "name": "stderr",
     "output_type": "stream",
     "text": [
      "<>:2: SyntaxWarning: 'str' object is not callable; perhaps you missed a comma?\n",
      "<>:2: SyntaxWarning: 'str' object is not callable; perhaps you missed a comma?\n",
      "C:\\Users\\Administrator\\AppData\\Local\\Temp\\ipykernel_1204\\2894215259.py:2: SyntaxWarning: 'str' object is not callable; perhaps you missed a comma?\n",
      "  (\"name:burhan\")\n"
     ]
    },
    {
     "ename": "TypeError",
     "evalue": "'str' object is not callable",
     "output_type": "error",
     "traceback": [
      "\u001b[31m---------------------------------------------------------------------------\u001b[39m",
      "\u001b[31mTypeError\u001b[39m                                 Traceback (most recent call last)",
      "\u001b[36mCell\u001b[39m\u001b[36m \u001b[39m\u001b[32mIn[33]\u001b[39m\u001b[32m, line 2\u001b[39m\n\u001b[32m      1\u001b[39m \u001b[38;5;28mdict\u001b[39m={\n\u001b[32m----> \u001b[39m\u001b[32m2\u001b[39m   \u001b[43m(\u001b[49m\u001b[33;43m\"\u001b[39;49m\u001b[33;43mname:burhan\u001b[39;49m\u001b[33;43m\"\u001b[39;49m\u001b[43m)\u001b[49m\n\u001b[32m      3\u001b[39m \u001b[43m  \u001b[49m\u001b[43m(\u001b[49m\u001b[33;43m\"\u001b[39;49m\u001b[33;43mage:19\u001b[39;49m\u001b[33;43m\"\u001b[39;49m\u001b[43m)\u001b[49m\n\u001b[32m      4\u001b[39m   (\u001b[33m\"\u001b[39m\u001b[33mmarks:79\u001b[39m\u001b[33m\"\u001b[39m)\n\u001b[32m      5\u001b[39m \n\u001b[32m      6\u001b[39m }\n\u001b[32m      8\u001b[39m \u001b[38;5;28mprint\u001b[39m(\u001b[38;5;28mdict\u001b[39m)\n\u001b[32m     29\u001b[39m \u001b[38;5;66;03m# tpl_dict = {\u001b[39;00m\n\u001b[32m     30\u001b[39m \u001b[38;5;66;03m#     (1, 2): 3,\u001b[39;00m\n\u001b[32m     31\u001b[39m \u001b[38;5;66;03m#     (4, 5): 6,\u001b[39;00m\n\u001b[32m     32\u001b[39m \u001b[38;5;66;03m#     (7, 8): 9\u001b[39;00m\n\u001b[32m     33\u001b[39m \u001b[38;5;66;03m# }\u001b[39;00m\n\u001b[32m     34\u001b[39m \u001b[38;5;66;03m# print(tpl_dict)\u001b[39;00m\n",
      "\u001b[31mTypeError\u001b[39m: 'str' object is not callable"
     ]
    }
   ],
   "source": [
    "dict={\n",
    "  (\"name:burhan\")\n",
    "  (\"age:19\")\n",
    "  (\"marks:79\")\n",
    "\n",
    "}\n",
    "  \n",
    "print(dict)\n",
    "\n",
    "\n",
    "\n",
    "\n",
    "\n",
    "\n",
    "\n",
    "\n",
    "\n",
    "\n",
    "\n",
    "\n",
    "\n",
    "\n",
    "\n",
    "\n",
    "\n",
    "\n",
    "\n",
    "\n",
    "# tpl_dict = {\n",
    "#     (1, 2): 3,\n",
    "#     (4, 5): 6,\n",
    "#     (7, 8): 9\n",
    "# }\n",
    "# print(tpl_dict)"
   ]
  },
  {
   "cell_type": "markdown",
   "metadata": {},
   "source": [
    "### Assignment 13: Nested Tuple Iteration\n",
    "\n",
    "Create a nested tuple and iterate over the elements, printing each element."
   ]
  },
  {
   "cell_type": "code",
   "execution_count": 35,
   "metadata": {},
   "outputs": [
    {
     "name": "stdout",
     "output_type": "stream",
     "text": [
      "1 2 3 4 5 6 7 8 9 "
     ]
    }
   ],
   "source": [
    "tpl=(\n",
    "    (1,2,3),(4,5,6),(7,8,9)\n",
    ")\n",
    "for i in tpl:\n",
    "    for j in i:\n",
    "        print(j,end=\" \")\n",
    "\n",
    "\n",
    "\n",
    "\n",
    "\n",
    "\n",
    "\n",
    "\n",
    "\n",
    "\n",
    "\n",
    "\n",
    "\n",
    "\n",
    "\n",
    "\n",
    "# nested_tpl = (\n",
    "#     (1, 2, 3),\n",
    "#     (4, 5, 6),\n",
    "#     (7, 8, 9)\n",
    "# )\n",
    "# for tpl in nested_tpl:\n",
    "#     for elem in tpl:\n",
    "#         print(elem)"
   ]
  },
  {
   "cell_type": "markdown",
   "metadata": {},
   "source": [
    "### Assignment 14: Tuple and Set\n",
    "\n",
    "Create a tuple with duplicate elements. Convert it to a set to remove duplicates and print the resulting set."
   ]
  },
  {
   "cell_type": "code",
   "execution_count": null,
   "metadata": {},
   "outputs": [
    {
     "name": "stdout",
     "output_type": "stream",
     "text": [
      "{1, 2, 3, 4, 5}\n"
     ]
    }
   ],
   "source": [
    "\n",
    "tpl = (1, 2, 2, 3, 4, 4, 4, 5)\n",
    "unique_set = set(tpl)\n",
    "print(unique_set)"
   ]
  },
  {
   "cell_type": "markdown",
   "metadata": {},
   "source": [
    "### Assignment 15: Tuple Functions\n",
    "\n",
    "Write functions that take a tuple and return the minimum, maximum, and sum of the elements. Print the results for a sample tuple."
   ]
  },
  {
   "cell_type": "code",
   "execution_count": null,
   "metadata": {},
   "outputs": [],
   "source": [
    "def min_in_tuple(tpl):\n",
    "    return min(tpl)\n",
    "\n",
    "def max_in_tuple(tpl):\n",
    "    return max(tpl)\n",
    "\n",
    "def sum_of_tuple(tpl):\n",
    "    return sum(tpl)\n",
    "\n",
    "sample_tpl = (1, 2, 3, 4, 5)\n",
    "print(f\"Minimum: {min_in_tuple(sample_tpl)}\")\n",
    "print(f\"Maximum: {max_in_tuple(sample_tpl)}\")\n",
    "print(f\"Sum: {sum_of_tuple(sample_tpl)}\")"
   ]
  }
 ],
 "metadata": {
  "kernelspec": {
   "display_name": ".venv",
   "language": "python",
   "name": "python3"
  },
  "language_info": {
   "codemirror_mode": {
    "name": "ipython",
    "version": 3
   },
   "file_extension": ".py",
   "mimetype": "text/x-python",
   "name": "python",
   "nbconvert_exporter": "python",
   "pygments_lexer": "ipython3",
   "version": "3.11.9"
  }
 },
 "nbformat": 4,
 "nbformat_minor": 5
}

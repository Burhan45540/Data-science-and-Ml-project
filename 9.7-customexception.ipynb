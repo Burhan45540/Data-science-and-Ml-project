{
 "cells": [
  {
   "cell_type": "markdown",
   "id": "0f8fc3c4",
   "metadata": {},
   "source": [
    "### ✅ Custom Exception in Python – Simple Explanation\n",
    "\n",
    "---\n",
    "\n",
    "### 🔹 What is a **custom exception**?\n",
    "\n",
    "A **custom exception** is a user-defined error.\n",
    "Python has many built-in exceptions like `ValueError`, `TypeError`, etc.\n",
    "But when you want to raise an error with your **own name and message**, you create a **custom exception class**.\n",
    "\n",
    "---\n",
    "\n",
    "### 🔹 How to create a custom exception?\n",
    "\n",
    "1. Inherit from the built-in `Exception` class.\n",
    "2. Use `raise` to trigger your custom exception.\n",
    "\n",
    "---\n",
    "\n",
    "### 🔹 Basic Syntax:\n",
    "\n",
    "```python\n",
    "class MyCustomError(Exception):\n",
    "    pass\n",
    "\n",
    "# using it\n",
    "raise MyCustomError(\"Something went wrong\")\n",
    "```\n",
    "\n",
    "---\n",
    "\n",
    "### 🔹 Example: Custom Exception for Age Check\n",
    "\n",
    "```python\n",
    "# Step 1: Create custom exception class\n",
    "class AgeTooSmallError(Exception):\n",
    "    pass\n",
    "\n",
    "# Step 2: Use it in logic\n",
    "def check_age(age):\n",
    "    if age < 18:\n",
    "        raise AgeTooSmallError(\"Age must be at least 18\")\n",
    "    else:\n",
    "        print(\"Valid age\")\n",
    "\n",
    "# Step 3: Handle it using try-except\n",
    "try:\n",
    "    check_age(15)\n",
    "except AgeTooSmallError as e:\n",
    "    print(\"Error:\", e)\n",
    "```\n",
    "\n",
    "---\n",
    "\n",
    "### 🔹 Output:\n",
    "\n",
    "```\n",
    "Error: Age must be at least 18\n",
    "```\n",
    "\n",
    "---\n",
    "\n",
    "### ✅ Why use custom exceptions?\n",
    "\n",
    "* More meaningful error names.\n",
    "* Clearer debugging.\n",
    "* Better control in large programs.\n",
    "\n",
    "---\n",
    "\n",
    "Let me know if you want a custom exception with extra features like custom attributes or logging!\n"
   ]
  },
  {
   "cell_type": "code",
   "execution_count": 10,
   "id": "caeb3fa8",
   "metadata": {},
   "outputs": [
    {
     "name": "stdout",
     "output_type": "stream",
     "text": [
      "year:2009 and age=16 not able to give an exam\n"
     ]
    }
   ],
   "source": [
    "import datetime\n",
    "class Dob(Exception):\n",
    "  pass\n",
    "\n",
    "year1=int(input(\"enter a year :\"))\n",
    "age=datetime.datetime.now().year-year1\n",
    "\n",
    "try:\n",
    "    if age>=20 and age<=30:\n",
    "       print(f\"year:{year1} and age={age} able to give an exam\")\n",
    "\n",
    "    else:\n",
    "         raise Dob\n",
    "except Dob:\n",
    "  print(f\"year:{year1} and age={age} not able to give an exam\")\n",
    "\n"
   ]
  },
  {
   "cell_type": "code",
   "execution_count": null,
   "id": "db892144",
   "metadata": {},
   "outputs": [],
   "source": []
  }
 ],
 "metadata": {
  "kernelspec": {
   "display_name": ".venv",
   "language": "python",
   "name": "python3"
  },
  "language_info": {
   "codemirror_mode": {
    "name": "ipython",
    "version": 3
   },
   "file_extension": ".py",
   "mimetype": "text/x-python",
   "name": "python",
   "nbconvert_exporter": "python",
   "pygments_lexer": "ipython3",
   "version": "3.11.9"
  }
 },
 "nbformat": 4,
 "nbformat_minor": 5
}

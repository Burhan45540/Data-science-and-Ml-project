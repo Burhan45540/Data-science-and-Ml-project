{
 "cells": [
  {
   "cell_type": "markdown",
   "id": "5df7e8c3",
   "metadata": {},
   "source": [
    "                                            SECTION 2 "
   ]
  },
  {
   "cell_type": "markdown",
   "id": "234cf5fe",
   "metadata": {},
   "source": [
    "Syntax: The rules that define the structure or format of valid statements in a language (like grammar in English).\n",
    "Example: In Python, print(\"Hello\") is correct syntax, but print\"Hello\" is not.\n",
    "\n",
    "Semantics: The meaning behind those statements — what the code actually does.\n",
    "Example: x = 5 + \"hello\" is syntactically correct in some languages, but semantically wrong because you can’t add a number and a string.\n"
   ]
  },
  {
   "cell_type": "code",
   "execution_count": null,
   "id": "5dc0d801",
   "metadata": {},
   "outputs": [
    {
     "name": "stdout",
     "output_type": "stream",
     "text": [
      "Burhan\n",
      "Jalal\n"
     ]
    }
   ],
   "source": [
    "#python is a case sensitive: name and  Name are different.\n",
    "name = \"Burhan\"\n",
    "Name = \"Jalal\"\n",
    "print(name)\n",
    "print(Name)"
   ]
  },
  {
   "cell_type": "markdown",
   "id": "93d0fda7",
   "metadata": {},
   "source": [
    "Indentation: The space or tab added at the beginning of a line of code to show which code belongs together.\n",
    "\n",
    "In Python, indentation is very important. It tells the computer which lines are part of a block (like inside a loop or function).\n",
    "\n",
    "if x > 0:\n",
    "    print(\"Positive\")\n",
    "    print(\"Number\")\n",
    "\n",
    "Both print lines are indented, so they are part of the if block.\n",
    "\n",
    "⚠️ Without proper indentation, Python gives an error."
   ]
  },
  {
   "cell_type": "code",
   "execution_count": 3,
   "id": "2dd7d229",
   "metadata": {},
   "outputs": [
    {
     "name": "stdout",
     "output_type": "stream",
     "text": [
      "40\n"
     ]
    }
   ],
   "source": [
    "# line continuation\n",
    "# use a backslash (\\) to continue a code in next line.\n",
    "\n",
    "a = 1+2+3+4+\\\n",
    "6+7+8+9\n",
    "print(a)"
   ]
  },
  {
   "cell_type": "code",
   "execution_count": 4,
   "id": "3a1cabe8",
   "metadata": {},
   "outputs": [
    {
     "name": "stdout",
     "output_type": "stream",
     "text": [
      "22\n"
     ]
    }
   ],
   "source": [
    "##multiple statements in single line through colon:\n",
    "a=10;b=12;c=a+b \n",
    "print(c)\n"
   ]
  },
  {
   "cell_type": "markdown",
   "id": "2d9d77e2",
   "metadata": {},
   "source": [
    "\n",
    "\n",
    "Type\n",
    "The kind of value a variable holds — like a label for data.\n",
    "\n",
    "Type Inference\n",
    "When the programming language automatically figures out the type of a variable, without you having to say it.\n",
    "\n"
   ]
  },
  {
   "cell_type": "code",
   "execution_count": null,
   "id": "94b0a1b3",
   "metadata": {},
   "outputs": [
    {
     "name": "stdout",
     "output_type": "stream",
     "text": [
      "<class 'int'>\n",
      "<class 'str'>\n",
      "<class 'float'>\n"
     ]
    }
   ],
   "source": [
    "#python is dynamically typed, type of variable define at runtime:\n",
    "a=10\n",
    "b=\"Burhan\"\n",
    "c=3.14\n",
    "print(type(a))\n",
    "print(type(b))\n",
    "print(type(c))"
   ]
  },
  {
   "cell_type": "markdown",
   "id": "8ef26d47",
   "metadata": {},
   "source": [
    "### ✅ **Python Variable Naming Conventions**\n",
    "\n",
    "Here are the simple rules you should follow when naming variables in **Python**:\n",
    "\n",
    "---\n",
    "\n",
    "### 1. **Use lowercase letters with underscores** (snake\\_case)\n",
    "\n",
    "✔️ Example:\n",
    "\n",
    "```python\n",
    "user_name = \"Alice\"\n",
    "total_price = 99.99\n",
    "```\n",
    "\n",
    "---\n",
    "\n",
    "### 2. **Start with a letter or underscore (\\_)**\n",
    "\n",
    "✔️ Valid: `name`, `_temp`\n",
    "❌ Invalid: `1name`, `@value`\n",
    "\n",
    "---\n",
    "\n",
    "### 3. **Only use letters, numbers, and underscores**\n",
    "\n",
    "✔️ Valid: `score_1`, `student_age`\n",
    "❌ Invalid: `user-name`, `price$`\n",
    "\n",
    "---\n",
    "\n",
    "### 4. **Don’t use Python keywords**\n",
    "\n",
    "❌ Don’t name a variable: `class`, `if`, `def`, `while`, etc.\n",
    "These are reserved words in Python.\n",
    "\n",
    "---\n",
    "\n",
    "### 5. **Be descriptive**\n",
    "\n",
    "✔️ Good: `number_of_students`, `user_email`\n",
    "❌ Bad: `n`, `x`, `d1` (unless for temporary use)\n",
    "\n",
    "---\n",
    "\n",
    "### 6. **Python is case-sensitive**\n",
    "\n",
    "`age`, `Age`, and `AGE` are all different variables.\n",
    "\n",
    "---\n",
    "\n",
    "Let me know if you want examples of good vs bad variable names!\n"
   ]
  },
  {
   "cell_type": "markdown",
   "id": "47e50b49",
   "metadata": {},
   "source": [
    "### ✅ **Type Conversion in Python** \n",
    "**Type Conversion** means **changing one data type to another** — like turning a number into a string.\n",
    "\n",
    "---\n",
    "\n",
    "### 🔹 **Types of Type Conversion**\n",
    "\n",
    "#### 1. **Implicit Conversion** (Automatic by Python)\n",
    "\n",
    "Python changes the type for you.\n",
    "\n",
    "x = 10       # int\n",
    "y = 2.5      # float\n",
    "z = x + y    # result is float (12.5)\n",
    "```\n",
    "\n",
    "Here, `int` → `float` automatically.\n",
    "\n",
    "---\n",
    "\n",
    "#### 2. **Explicit Conversion** (You do it manually)\n",
    "\n",
    "Use functions like:\n",
    "\n",
    "* `int()` → to convert to integer\n",
    "* `float()` → to convert to float\n",
    "* `str()` → to convert to string\n",
    "\n",
    "🔹 **Examples:**\n",
    "\n",
    "a = \"5\"\n",
    "b = int(a)     # \"5\" (str) → 5 (int)\n",
    "\n",
    "x = 3\n",
    "y = str(x)     # 3 (int) → \"3\" (str)\n",
    "\n",
    "z = float(\"4.2\")  # \"4.2\" (str) → 4.2 (float)\n",
    "-------------------------------------------\n",
    "Yes, it is possible to convert str to int in Python, but only if the string looks like a number.\n",
    "\n",
    "✅ Valid example:\n",
    "\n",
    "x = \"123\"\n",
    "y = int(x)   # Works → y is 123 (int)\n",
    "❌ Invalid example:\n",
    "\n",
    "x = \"abc\"\n",
    "y = int(x)   # ❌ Error! → Cannot convert \"abc\" to int\n",
    "```\n",
    "\n"
   ]
  },
  {
   "cell_type": "code",
   "execution_count": 6,
   "id": "057c12c0",
   "metadata": {},
   "outputs": [
    {
     "name": "stdout",
     "output_type": "stream",
     "text": [
      "34 <class 'int'>\n",
      "thirty four <class 'str'>\n",
      "34.45 <class 'float'>\n"
     ]
    }
   ],
   "source": [
    "#dynamic typing: python allows to change a variable value and type of variable as the program executes\n",
    "age=34\n",
    "print(age,type(age))\n",
    "\n",
    "age=\"thirty four\"\n",
    "print(age,type(age))\n",
    "\n",
    "age = 34.45\n",
    "print(age,type(age))"
   ]
  },
  {
   "cell_type": "code",
   "execution_count": 8,
   "id": "730c9ff7",
   "metadata": {},
   "outputs": [
    {
     "name": "stdout",
     "output_type": "stream",
     "text": [
      "83 <class 'str'>\n",
      "93 <class 'int'>\n"
     ]
    }
   ],
   "source": [
    "#it always give class as a string\n",
    "age = input(\"what is your age :\")\n",
    "print(age,type(age))\n",
    "#so to convert this into int or float\n",
    "age = int(input(\"what is your age :\"))\n",
    "print(age,type(age))"
   ]
  },
  {
   "cell_type": "code",
   "execution_count": 4,
   "id": "0de34634",
   "metadata": {},
   "outputs": [
    {
     "name": "stdout",
     "output_type": "stream",
     "text": [
      "your insterting number 1 is : 74.0\n",
      "your insterting number 2 is : 24.0\n",
      "FLOOR DIVISION OF INSERTING TWO NUMBER IS : 3.0\n"
     ]
    }
   ],
   "source": [
    "#basic calculator:\n",
    "firstnumber=float(input(\"enter a first number: \"))\n",
    "secondnumber=float(input(\"enter a second number: \"))\n",
    "operator=input(\"enter a operator according to your need(+,-,*,/,%,//,**): \")\n",
    "\n",
    "print(\"your insterting number 1 is :\",firstnumber)\n",
    "print(\"your insterting number 2 is :\",secondnumber)\n",
    "\n",
    "add = firstnumber+secondnumber\n",
    "sub=firstnumber-secondnumber\n",
    "mult=firstnumber*secondnumber\n",
    "div=firstnumber/secondnumber\n",
    "mod=firstnumber%secondnumber\n",
    "floor=firstnumber//secondnumber\n",
    "sqrt=firstnumber**secondnumber\n",
    "\n",
    "\n",
    "\n",
    "\n",
    "if operator== \"+\":\n",
    "  print(\"ADDITION OF INSERTING TWO NUMBER IS :\",add)\n",
    "elif operator== \"-\":\n",
    "  print(\"SUBTRACTION OF INSERTING TWO NUMBER IS :\",sub)\n",
    "elif operator== \"*\":\n",
    "  print(\"MULTIPLICATION OF INSERTING TWO NUMBER IS :\",mult)\n",
    "elif operator== \"/\":\n",
    "  print(\"DIVISION OF INSERTING TWO NUMBER IS :\",div)\n",
    "elif operator== \"%\":\n",
    "  print(\"MODULAR OF INSERTING TWO NUMBER IS :\",mod)\n",
    "elif operator== \"//\":\n",
    "  print(\"FLOOR DIVISION OF INSERTING TWO NUMBER IS :\",floor)\n",
    "elif operator== \"**\":\n",
    "  print(\"SQUARE ROOT OF INSERTING TWO NUMBER IS :\",sqrt)\n",
    "else:\n",
    "  print(\"invalid \",)"
   ]
  },
  {
   "cell_type": "markdown",
   "id": "1919f941",
   "metadata": {},
   "source": [
    "### ✅ **Data Types in Python (Basic Ones)**\n",
    "\n",
    "Here are the most commonly used data types:\n",
    "\n",
    "---\n",
    "\n",
    "### 🔹 **1. int** — Whole numbers\n",
    "\n",
    "```python\n",
    "x = 10\n",
    "```\n",
    "\n",
    "---\n",
    "\n",
    "### 🔹 **2. float** — Decimal numbers\n",
    "\n",
    "```python\n",
    "y = 3.14\n",
    "```\n",
    "\n",
    "---\n",
    "\n",
    "### 🔹 **3. str** — Text (string)\n",
    "\n",
    "```python\n",
    "name = \"Alice\"\n",
    "```\n",
    "\n",
    "---\n",
    "\n",
    "### 🔹 **4. bool** — Boolean (True/False)\n",
    "\n",
    "```python\n",
    "is_active = True\n",
    "```\n",
    "\n",
    "👉 **Default value of Boolean?**\n",
    "In Python, if you define a Boolean without assigning, it's not set.\n",
    "But in conditions:\n",
    "\n",
    "* `0`, `0.0`, `\"\"`, `[]`, `{}`, `None` → treated as `False`\n",
    "* Everything else → treated as `True`\n",
    "\n",
    "🔹 **Example:**\n",
    "\n",
    "```python\n",
    "bool(0)        # False\n",
    "bool(1)        # True\n",
    "bool(\"\")       # False\n",
    "bool(\"hello\")  # True\n",
    "```\n",
    "\n",
    "---\n",
    "\n",
    "### 🔹 **Other data types:**\n",
    "\n",
    "* `list` → ordered collection → `[1, 2, 3]`\n",
    "* `tuple` → immutable list → `(1, 2, 3)`\n",
    "* `dict` → key-value pairs → `{\"name\": \"Tom\"}`\n",
    "* `set` → unique values → `{1, 2, 3}`\n",
    "\n",
    "Let me know if you want a table or diagram for these!\n"
   ]
  },
  {
   "cell_type": "code",
   "execution_count": 1,
   "id": "235ddd80",
   "metadata": {},
   "outputs": [
    {
     "ename": "TypeError",
     "evalue": "can only concatenate str (not \"int\") to str",
     "output_type": "error",
     "traceback": [
      "\u001b[31m---------------------------------------------------------------------------\u001b[39m",
      "\u001b[31mTypeError\u001b[39m                                 Traceback (most recent call last)",
      "\u001b[36mCell\u001b[39m\u001b[36m \u001b[39m\u001b[32mIn[1]\u001b[39m\u001b[32m, line 2\u001b[39m\n\u001b[32m      1\u001b[39m \u001b[38;5;66;03m#type casting\u001b[39;00m\n\u001b[32m----> \u001b[39m\u001b[32m2\u001b[39m a = \u001b[33;43m\"\u001b[39;49m\u001b[33;43mhello\u001b[39;49m\u001b[33;43m\"\u001b[39;49m\u001b[43m+\u001b[49m\u001b[32;43m7\u001b[39;49m\n\u001b[32m      3\u001b[39m a\n",
      "\u001b[31mTypeError\u001b[39m: can only concatenate str (not \"int\") to str"
     ]
    }
   ],
   "source": [
    "#type casting\n",
    "a = \"hello\"+7\n",
    "a"
   ]
  },
  {
   "cell_type": "code",
   "execution_count": 2,
   "id": "9708483a",
   "metadata": {},
   "outputs": [
    {
     "data": {
      "text/plain": [
       "'hello7'"
      ]
     },
     "execution_count": 2,
     "metadata": {},
     "output_type": "execute_result"
    }
   ],
   "source": [
    "a = \"hello\"+ str(7)\n",
    "a"
   ]
  },
  {
   "cell_type": "code",
   "execution_count": null,
   "id": "7b583f78",
   "metadata": {},
   "outputs": [],
   "source": []
  }
 ],
 "metadata": {
  "kernelspec": {
   "display_name": ".venv",
   "language": "python",
   "name": "python3"
  },
  "language_info": {
   "codemirror_mode": {
    "name": "ipython",
    "version": 3
   },
   "file_extension": ".py",
   "mimetype": "text/x-python",
   "name": "python",
   "nbconvert_exporter": "python",
   "pygments_lexer": "ipython3",
   "version": "3.11.9"
  }
 },
 "nbformat": 4,
 "nbformat_minor": 5
}

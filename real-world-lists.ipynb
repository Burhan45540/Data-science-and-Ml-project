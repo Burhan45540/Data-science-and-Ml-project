{
 "cells": [
  {
   "cell_type": "markdown",
   "id": "6ff588a5",
   "metadata": {},
   "source": [
    "EXAMPLE 1 : MANAGE A TO-DO LIST"
   ]
  },
  {
   "cell_type": "code",
   "execution_count": 1,
   "id": "d6128dee",
   "metadata": {},
   "outputs": [
    {
     "name": "stdout",
     "output_type": "stream",
     "text": [
      "Dont forget to pay the bill today\n",
      "-Go to market for complete household works\n",
      "-pay the bills\n",
      "-clean the house\n",
      "-eating dinner early at night\n"
     ]
    }
   ],
   "source": [
    "to_do_list=[\"wakeup in the early morning\",\"Go to market for complete household works\",\"pay the bills\",\"clean the house\"]\n",
    "\n",
    "to_do_list.append(\"eating dinner early at night\")\n",
    "to_do_list.remove(\"wakeup in the early morning\")\n",
    "\n",
    "if \"pay the bills\" in to_do_list:\n",
    "  print(\"Dont forget to pay the bill today\")\n",
    "\n",
    "for i in to_do_list:\n",
    "  print(f\"-{i}\")"
   ]
  },
  {
   "cell_type": "markdown",
   "id": "d8f729e7",
   "metadata": {},
   "source": [
    "EXAMPLE 2 :CREATE A LIST TO STORE AND CALCULATE AVERAGE GRADE OF MARKS"
   ]
  },
  {
   "cell_type": "code",
   "execution_count": 3,
   "id": "6e80cf53",
   "metadata": {},
   "outputs": [
    {
     "name": "stdout",
     "output_type": "stream",
     "text": [
      "average marks : 80.2\n",
      "highest marks : 96\n",
      "lowest marks:60\n"
     ]
    }
   ],
   "source": [
    "grades=[60,75,90,80,96]\n",
    "\n",
    "grades.append(67)\n",
    "grades.pop()\n",
    "\n",
    "average_grade=((sum(grades)) / (len(grades)))\n",
    "print(f\"average marks : {average_grade}\")\n",
    "\n",
    "highest_grade= max(grades)\n",
    "lowest_grade= min(grades)\n",
    "\n",
    "print(f\"highest marks : {highest_grade}\")\n",
    "print(f\"lowest marks:{lowest_grade}\")"
   ]
  },
  {
   "cell_type": "markdown",
   "id": "0653e05f",
   "metadata": {},
   "source": [
    "3. USE A LIST TO MANAGE A FEEDBACK"
   ]
  },
  {
   "cell_type": "code",
   "execution_count": null,
   "id": "d761f0dd",
   "metadata": {},
   "outputs": [
    {
     "name": "stdout",
     "output_type": "stream",
     "text": [
      "positive feedback occur 2 times\n",
      "-App is easy to use.\n",
      "-Need more tutorials.\n",
      "-Loading time is slow.\n",
      "-great design and layout.\n",
      "-Add dark mode feature.\n",
      "-excellent work\n"
     ]
    }
   ],
   "source": [
    "user_feedback = [\n",
    "    \"App is easy to use.\",\n",
    "    \"Need more tutorials.\",\n",
    "    \"Loading time is slow.\",\n",
    "    \"great design and layout.\",\n",
    "    \"Add dark mode feature.\"\n",
    "]\n",
    "\n",
    "user_feedback.append(\"excellent work\")\n",
    "\n",
    "positive_feedback=sum(1   for i in user_feedback   if \"great\" in i.lower() or \"excellent\" in i.lower())\n",
    "\n",
    "print(f\"positive feedback occur {positive_feedback} times\")\n",
    "\n",
    "for j in user_feedback:\n",
    "  print(f\"-{j}\")"
   ]
  },
  {
   "cell_type": "code",
   "execution_count": 6,
   "id": "ea42ff56",
   "metadata": {},
   "outputs": [
    {
     "name": "stdout",
     "output_type": "stream",
     "text": [
      "Even\n",
      "Even\n"
     ]
    }
   ],
   "source": [
    "#why function required lets understands\n",
    "\n",
    "# Check if a number is even or odd without using a function\n",
    "\n",
    "number = 24\n",
    "\n",
    "if number % 2 == 0:\n",
    "    print(\"Even\")\n",
    "else:\n",
    "    print(\"Odd\")\n",
    "\n",
    "#here if we want to use this code multiple times in our program so it is not smart work to write again this code again and again so we put this code inside a function so later we have to use this code then simply call the function\n",
    "\n",
    "def odd_or_even(num):\n",
    "  if number % 2 == 0:\n",
    "    print(\"Even\")\n",
    "  else:\n",
    "    print(\"Odd\")\n",
    "\n",
    "#calling the function\n",
    "\n",
    "odd_or_even(24)\n",
    "\n"
   ]
  },
  {
   "cell_type": "code",
   "execution_count": 7,
   "id": "40c5f1d3",
   "metadata": {},
   "outputs": [
    {
     "name": "stdout",
     "output_type": "stream",
     "text": [
      "24\n"
     ]
    }
   ],
   "source": [
    "#function with multiple parameter:\n",
    "\n",
    "def add(a,b):\n",
    "  c=a+b\n",
    "  return c\n",
    "\n",
    "result=add(11,13)\n",
    "print(result)"
   ]
  },
  {
   "cell_type": "code",
   "execution_count": 8,
   "id": "fb2a4106",
   "metadata": {},
   "outputs": [
    {
     "ename": "TypeError",
     "evalue": "greet() missing 1 required positional argument: 'name'",
     "output_type": "error",
     "traceback": [
      "\u001b[31m---------------------------------------------------------------------------\u001b[39m",
      "\u001b[31mTypeError\u001b[39m                                 Traceback (most recent call last)",
      "\u001b[36mCell\u001b[39m\u001b[36m \u001b[39m\u001b[32mIn[8]\u001b[39m\u001b[32m, line 6\u001b[39m\n\u001b[32m      3\u001b[39m \u001b[38;5;28;01mdef\u001b[39;00m\u001b[38;5;250m \u001b[39m\u001b[34mgreet\u001b[39m(name):\n\u001b[32m      4\u001b[39m   \u001b[38;5;28mprint\u001b[39m(\u001b[33mf\u001b[39m\u001b[33m\"\u001b[39m\u001b[33mhey \u001b[39m\u001b[38;5;132;01m{\u001b[39;00mname\u001b[38;5;132;01m}\u001b[39;00m\u001b[33m\"\u001b[39m)\n\u001b[32m----> \u001b[39m\u001b[32m6\u001b[39m \u001b[43mgreet\u001b[49m\u001b[43m(\u001b[49m\u001b[43m)\u001b[49m\n",
      "\u001b[31mTypeError\u001b[39m: greet() missing 1 required positional argument: 'name'"
     ]
    }
   ],
   "source": [
    "##default parameter\n",
    "\n",
    "def greet(name):\n",
    "  print(f\"hey {name}\")\n",
    "\n",
    "greet()"
   ]
  },
  {
   "cell_type": "code",
   "execution_count": 9,
   "id": "503aecc7",
   "metadata": {},
   "outputs": [
    {
     "name": "stdout",
     "output_type": "stream",
     "text": [
      "hey guest\n"
     ]
    }
   ],
   "source": [
    "#it gives an error because we dont pass any parameter so we also hae to right to gie a default parameters.\n",
    "def greet(name=\"guest\"):\n",
    "  print(f\"hey {name}\")\n",
    "\n",
    "greet()\n"
   ]
  },
  {
   "cell_type": "code",
   "execution_count": null,
   "id": "c0caddc1",
   "metadata": {},
   "outputs": [
    {
     "name": "stdout",
     "output_type": "stream",
     "text": [
      "hey burhan\n"
     ]
    }
   ],
   "source": [
    "def greet(name):\n",
    "  print(f\"hey {name}\")\n",
    "\n",
    "greet(\"burhan\")\n",
    "\n",
    "#it overwrites default value"
   ]
  },
  {
   "cell_type": "code",
   "execution_count": null,
   "id": "b4779f15",
   "metadata": {},
   "outputs": [],
   "source": []
  }
 ],
 "metadata": {
  "kernelspec": {
   "display_name": ".venv",
   "language": "python",
   "name": "python3"
  },
  "language_info": {
   "codemirror_mode": {
    "name": "ipython",
    "version": 3
   },
   "file_extension": ".py",
   "mimetype": "text/x-python",
   "name": "python",
   "nbconvert_exporter": "python",
   "pygments_lexer": "ipython3",
   "version": "3.11.9"
  }
 },
 "nbformat": 4,
 "nbformat_minor": 5
}
